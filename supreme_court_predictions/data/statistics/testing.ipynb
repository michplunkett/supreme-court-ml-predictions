{
 "cells": [
  {
   "attachments": {},
   "cell_type": "markdown",
   "metadata": {},
   "source": [
    "## Exploratory Analysis - Tests"
   ]
  },
  {
   "attachments": {},
   "cell_type": "markdown",
   "metadata": {},
   "source": [
    "### Global Imports"
   ]
  },
  {
   "cell_type": "code",
   "execution_count": 2,
   "metadata": {},
   "outputs": [],
   "source": [
    "### Imports\n",
    "import os\n",
    "import json\n",
    "import pandas as pd"
   ]
  },
  {
   "cell_type": "code",
   "execution_count": 3,
   "metadata": {},
   "outputs": [],
   "source": [
    "# pip install convokit"
   ]
  },
  {
   "attachments": {},
   "cell_type": "markdown",
   "metadata": {},
   "source": [
    "### Parameters and Global Variables"
   ]
  },
  {
   "cell_type": "code",
   "execution_count": 4,
   "metadata": {},
   "outputs": [
    {
     "data": {
      "text/plain": [
       "'c:/Users/fdmol/Desktop/MSCAPP/CAPP30254/supreme-court-ml-predictions/supreme_court_predictions/data/convokit'"
      ]
     },
     "execution_count": 4,
     "metadata": {},
     "output_type": "execute_result"
    }
   ],
   "source": [
    "# Get current working directory\n",
    "cwd = os.getcwd()\n",
    "LOCAL_PATH = cwd.replace(\"\\\\\", \"/\")\n",
    "LOCAL_PATH = LOCAL_PATH.replace(\"data/statistics\", \"data/convokit\")\n",
    "LOCAL_PATH"
   ]
  },
  {
   "attachments": {},
   "cell_type": "markdown",
   "metadata": {},
   "source": [
    "### Functions"
   ]
  },
  {
   "cell_type": "code",
   "execution_count": 5,
   "metadata": {},
   "outputs": [],
   "source": [
    "\"\"\"\n",
    "This file serves as the client for convokit.\n",
    "\"\"\"\n",
    "from convokit import Corpus, download\n",
    "\n",
    "\n",
    "def get_data():\n",
    "    \"\"\"\n",
    "    Loads and outputs the Supreme Court Corpus data\n",
    "    \"\"\"\n",
    "\n",
    "    print(\"Loading Supreme Court Corpus Data...\")\n",
    "    corpus = Corpus(filename=download(\"supreme-corpus\"))\n",
    "    corpus.dump(\n",
    "        \"supreme_corpus\", base_path=LOCAL_PATH\n",
    "    )\n"
   ]
  },
  {
   "cell_type": "code",
   "execution_count": 70,
   "metadata": {},
   "outputs": [],
   "source": [
    "### Begin reading data\n",
    "def load_data(file_name):\n",
    "    \"\"\"\n",
    "    Opens the data and returns it as a dictionary\n",
    "\n",
    "    :param file_name: The name of the file to open\n",
    "    :return: The data as a dictionary\n",
    "    \"\"\"\n",
    "\n",
    "    path = LOCAL_PATH + f\"/supreme_corpus/{file_name}\"\n",
    "    if \"jsonl\" in file_name:    \n",
    "        with open(path) as json_file:\n",
    "            data = list(json_file)\n",
    "    else:\n",
    "        with open(path) as file:\n",
    "            data = json.load(file)\n",
    "        return data"
   ]
  },
  {
   "cell_type": "code",
   "execution_count": 36,
   "metadata": {},
   "outputs": [],
   "source": [
    "def speakers_to_df(speakers_dict):\n",
    "    \"\"\"\n",
    "    Converts the speakers dictionary to a pandas dataframe\n",
    "\n",
    "    :param speakers_dict: The speakers dictionary\n",
    "    :return: The speakers dataframe\n",
    "    \"\"\"\n",
    "\n",
    "    dict_list = []\n",
    "    for speaker_key in list(speakers_dict.keys()):\n",
    "        speaker_data = speakers_dict[speaker_key]['meta']\n",
    "        speaker_data['speaker_key'] = speaker_key\n",
    "        dict_list.append(speaker_data)\n",
    "\n",
    "    df = pd.DataFrame(dict_list)\n",
    "    df.rename(columns={'name': 'speaker_name', 'type': 'speaker_type',\n",
    "                    'role': 'speaker_role'},\n",
    "                    inplace=True)\n",
    "    return df"
   ]
  },
  {
   "cell_type": "code",
   "execution_count": 59,
   "metadata": {},
   "outputs": [],
   "source": [
    "def get_conversation_dfs(conversations_dict):\n",
    "    \"\"\"\n",
    "    Converts the conversations dictionary to several\n",
    "    pandas dataframes\n",
    "\n",
    "    :param conversations_dict: The conversations dictionary\n",
    "    :return: The conversations dataframe, advocates dataframe,\n",
    "            and voters dataframe\n",
    "    \"\"\"\n",
    "    metadata_list = []\n",
    "    advocates_list = []\n",
    "    voters_list = []\n",
    "\n",
    "    for conversation_id in list(conversations_dict.keys()):\n",
    "        clean_dict = {}\n",
    "        conversation_data = conversations_dict[conversation_id]['meta']\n",
    "        clean_dict['id'] = conversation_id\n",
    "        clean_dict['case_id'] = conversation_data['case_id']\n",
    "        clean_dict['winning_side'] = conversation_data['win_side']\n",
    "\n",
    "        advocates = conversation_data['advocates']\n",
    "        voters = conversation_data['votes_side']\n",
    "\n",
    "        for advocate in advocates:\n",
    "            advocate_dict = {}\n",
    "            advocate_dict['id'] = conversation_id\n",
    "            advocate_dict['case_id'] = conversation_data['case_id']\n",
    "            advocate_dict['advocate'] = advocate\n",
    "            advocate_dict['side'] = advocates[advocate]['side']\n",
    "            advocate_dict['role'] = advocates[advocate]['role']\n",
    "            advocates_list.append(advocate_dict)\n",
    "\n",
    "        if voters:\n",
    "            for voter, vote in voters.items():\n",
    "                vote_dict = {}\n",
    "                vote_dict['id'] = conversation_id\n",
    "                vote_dict['case_id'] = conversation_data['case_id']\n",
    "                vote_dict['voter'] = voter\n",
    "                vote_dict['vote'] = vote\n",
    "                voters_list.append(vote_dict)\n",
    "        else:\n",
    "            vote_dict = {}\n",
    "            vote_dict['id'] = conversation_id\n",
    "            vote_dict['case_id'] = conversation_data['case_id']\n",
    "            voters_list.append(vote_dict)\n",
    "        \n",
    "        metadata_list.append(clean_dict)\n",
    "\n",
    "\n",
    "    conversation_metadata_df = pd.DataFrame(metadata_list)\n",
    "    advocates_df = pd.DataFrame(advocates_list)\n",
    "    voters_df = pd.DataFrame(voters_list)\n",
    "\n",
    "    return conversation_metadata_df, advocates_df, voters_df\n"
   ]
  },
  {
   "attachments": {},
   "cell_type": "markdown",
   "metadata": {},
   "source": [
    "### Pipeline and Tests"
   ]
  },
  {
   "cell_type": "code",
   "execution_count": 37,
   "metadata": {},
   "outputs": [
    {
     "name": "stdout",
     "output_type": "stream",
     "text": [
      "Loading Supreme Court Corpus Data...\n",
      "Dataset already exists at C:\\Users\\fdmol\\.convokit\\downloads\\supreme-corpus\n"
     ]
    }
   ],
   "source": [
    "get_data()"
   ]
  },
  {
   "attachments": {},
   "cell_type": "markdown",
   "metadata": {},
   "source": [
    "#### Clean speakers data"
   ]
  },
  {
   "cell_type": "code",
   "execution_count": 38,
   "metadata": {},
   "outputs": [
    {
     "data": {
      "text/html": [
       "<div>\n",
       "<style scoped>\n",
       "    .dataframe tbody tr th:only-of-type {\n",
       "        vertical-align: middle;\n",
       "    }\n",
       "\n",
       "    .dataframe tbody tr th {\n",
       "        vertical-align: top;\n",
       "    }\n",
       "\n",
       "    .dataframe thead th {\n",
       "        text-align: right;\n",
       "    }\n",
       "</style>\n",
       "<table border=\"1\" class=\"dataframe\">\n",
       "  <thead>\n",
       "    <tr style=\"text-align: right;\">\n",
       "      <th></th>\n",
       "      <th>speaker_name</th>\n",
       "      <th>speaker_type</th>\n",
       "      <th>speaker_role</th>\n",
       "      <th>speaker_key</th>\n",
       "    </tr>\n",
       "  </thead>\n",
       "  <tbody>\n",
       "    <tr>\n",
       "      <th>0</th>\n",
       "      <td>Earl Warren</td>\n",
       "      <td>J</td>\n",
       "      <td>justice</td>\n",
       "      <td>j__earl_warren</td>\n",
       "    </tr>\n",
       "    <tr>\n",
       "      <th>1</th>\n",
       "      <td>Harry F. Murphy</td>\n",
       "      <td>A</td>\n",
       "      <td>NaN</td>\n",
       "      <td>harry_f_murphy</td>\n",
       "    </tr>\n",
       "    <tr>\n",
       "      <th>2</th>\n",
       "      <td>William O. Douglas</td>\n",
       "      <td>J</td>\n",
       "      <td>justice</td>\n",
       "      <td>j__william_o_douglas</td>\n",
       "    </tr>\n",
       "    <tr>\n",
       "      <th>3</th>\n",
       "      <td>&lt;INAUDIBLE&gt;</td>\n",
       "      <td>U</td>\n",
       "      <td>inaudible</td>\n",
       "      <td>&lt;INAUDIBLE&gt;</td>\n",
       "    </tr>\n",
       "    <tr>\n",
       "      <th>4</th>\n",
       "      <td>Felix Frankfurter</td>\n",
       "      <td>J</td>\n",
       "      <td>justice</td>\n",
       "      <td>j__felix_frankfurter</td>\n",
       "    </tr>\n",
       "  </tbody>\n",
       "</table>\n",
       "</div>"
      ],
      "text/plain": [
       "         speaker_name speaker_type speaker_role           speaker_key\n",
       "0         Earl Warren            J      justice        j__earl_warren\n",
       "1     Harry F. Murphy            A          NaN        harry_f_murphy\n",
       "2  William O. Douglas            J      justice  j__william_o_douglas\n",
       "3         <INAUDIBLE>            U    inaudible           <INAUDIBLE>\n",
       "4   Felix Frankfurter            J      justice  j__felix_frankfurter"
      ]
     },
     "execution_count": 38,
     "metadata": {},
     "output_type": "execute_result"
    }
   ],
   "source": [
    "speakers_dict = load_data(\"speakers.json\")\n",
    "speakers_df = speakers_to_df(speakers_dict)\n",
    "speakers_df.head()"
   ]
  },
  {
   "attachments": {},
   "cell_type": "markdown",
   "metadata": {},
   "source": [
    "#### Clean conversations data"
   ]
  },
  {
   "cell_type": "code",
   "execution_count": 60,
   "metadata": {},
   "outputs": [],
   "source": [
    "# Conversations metadata\n",
    "conversations_dict = load_data(\"conversations.json\")\n",
    "conversations_df, advocates_df, voters_df = get_conversation_dfs(conversations_dict)"
   ]
  },
  {
   "cell_type": "code",
   "execution_count": 63,
   "metadata": {},
   "outputs": [
    {
     "data": {
      "text/html": [
       "<div>\n",
       "<style scoped>\n",
       "    .dataframe tbody tr th:only-of-type {\n",
       "        vertical-align: middle;\n",
       "    }\n",
       "\n",
       "    .dataframe tbody tr th {\n",
       "        vertical-align: top;\n",
       "    }\n",
       "\n",
       "    .dataframe thead th {\n",
       "        text-align: right;\n",
       "    }\n",
       "</style>\n",
       "<table border=\"1\" class=\"dataframe\">\n",
       "  <thead>\n",
       "    <tr style=\"text-align: right;\">\n",
       "      <th></th>\n",
       "      <th>id</th>\n",
       "      <th>case_id</th>\n",
       "      <th>voter</th>\n",
       "      <th>vote</th>\n",
       "    </tr>\n",
       "  </thead>\n",
       "  <tbody>\n",
       "    <tr>\n",
       "      <th>0</th>\n",
       "      <td>13127</td>\n",
       "      <td>1955_71</td>\n",
       "      <td>j__john_m_harlan2</td>\n",
       "      <td>0.0</td>\n",
       "    </tr>\n",
       "    <tr>\n",
       "      <th>1</th>\n",
       "      <td>13127</td>\n",
       "      <td>1955_71</td>\n",
       "      <td>j__hugo_l_black</td>\n",
       "      <td>0.0</td>\n",
       "    </tr>\n",
       "    <tr>\n",
       "      <th>2</th>\n",
       "      <td>13127</td>\n",
       "      <td>1955_71</td>\n",
       "      <td>j__william_o_douglas</td>\n",
       "      <td>0.0</td>\n",
       "    </tr>\n",
       "    <tr>\n",
       "      <th>3</th>\n",
       "      <td>13127</td>\n",
       "      <td>1955_71</td>\n",
       "      <td>j__earl_warren</td>\n",
       "      <td>0.0</td>\n",
       "    </tr>\n",
       "    <tr>\n",
       "      <th>4</th>\n",
       "      <td>13127</td>\n",
       "      <td>1955_71</td>\n",
       "      <td>j__tom_c_clark</td>\n",
       "      <td>0.0</td>\n",
       "    </tr>\n",
       "    <tr>\n",
       "      <th>...</th>\n",
       "      <td>...</td>\n",
       "      <td>...</td>\n",
       "      <td>...</td>\n",
       "      <td>...</td>\n",
       "    </tr>\n",
       "    <tr>\n",
       "      <th>68274</th>\n",
       "      <td>24969</td>\n",
       "      <td>2019_19-67</td>\n",
       "      <td>j__samuel_a_alito_jr</td>\n",
       "      <td>1.0</td>\n",
       "    </tr>\n",
       "    <tr>\n",
       "      <th>68275</th>\n",
       "      <td>24969</td>\n",
       "      <td>2019_19-67</td>\n",
       "      <td>j__sonia_sotomayor</td>\n",
       "      <td>1.0</td>\n",
       "    </tr>\n",
       "    <tr>\n",
       "      <th>68276</th>\n",
       "      <td>24969</td>\n",
       "      <td>2019_19-67</td>\n",
       "      <td>j__elena_kagan</td>\n",
       "      <td>1.0</td>\n",
       "    </tr>\n",
       "    <tr>\n",
       "      <th>68277</th>\n",
       "      <td>24969</td>\n",
       "      <td>2019_19-67</td>\n",
       "      <td>j__neil_gorsuch</td>\n",
       "      <td>1.0</td>\n",
       "    </tr>\n",
       "    <tr>\n",
       "      <th>68278</th>\n",
       "      <td>24969</td>\n",
       "      <td>2019_19-67</td>\n",
       "      <td>j__brett_m_kavanaugh</td>\n",
       "      <td>1.0</td>\n",
       "    </tr>\n",
       "  </tbody>\n",
       "</table>\n",
       "<p>68279 rows × 4 columns</p>\n",
       "</div>"
      ],
      "text/plain": [
       "          id     case_id                 voter  vote\n",
       "0      13127     1955_71     j__john_m_harlan2   0.0\n",
       "1      13127     1955_71       j__hugo_l_black   0.0\n",
       "2      13127     1955_71  j__william_o_douglas   0.0\n",
       "3      13127     1955_71        j__earl_warren   0.0\n",
       "4      13127     1955_71        j__tom_c_clark   0.0\n",
       "...      ...         ...                   ...   ...\n",
       "68274  24969  2019_19-67  j__samuel_a_alito_jr   1.0\n",
       "68275  24969  2019_19-67    j__sonia_sotomayor   1.0\n",
       "68276  24969  2019_19-67        j__elena_kagan   1.0\n",
       "68277  24969  2019_19-67       j__neil_gorsuch   1.0\n",
       "68278  24969  2019_19-67  j__brett_m_kavanaugh   1.0\n",
       "\n",
       "[68279 rows x 4 columns]"
      ]
     },
     "execution_count": 63,
     "metadata": {},
     "output_type": "execute_result"
    }
   ],
   "source": [
    "voters_df"
   ]
  },
  {
   "cell_type": "code",
   "execution_count": 65,
   "metadata": {},
   "outputs": [
    {
     "data": {
      "text/html": [
       "<div>\n",
       "<style scoped>\n",
       "    .dataframe tbody tr th:only-of-type {\n",
       "        vertical-align: middle;\n",
       "    }\n",
       "\n",
       "    .dataframe tbody tr th {\n",
       "        vertical-align: top;\n",
       "    }\n",
       "\n",
       "    .dataframe thead th {\n",
       "        text-align: right;\n",
       "    }\n",
       "</style>\n",
       "<table border=\"1\" class=\"dataframe\">\n",
       "  <thead>\n",
       "    <tr style=\"text-align: right;\">\n",
       "      <th></th>\n",
       "      <th>vote</th>\n",
       "    </tr>\n",
       "  </thead>\n",
       "  <tbody>\n",
       "    <tr>\n",
       "      <th>count</th>\n",
       "      <td>68266.000000</td>\n",
       "    </tr>\n",
       "    <tr>\n",
       "      <th>mean</th>\n",
       "      <td>0.577125</td>\n",
       "    </tr>\n",
       "    <tr>\n",
       "      <th>std</th>\n",
       "      <td>0.519233</td>\n",
       "    </tr>\n",
       "    <tr>\n",
       "      <th>min</th>\n",
       "      <td>-1.000000</td>\n",
       "    </tr>\n",
       "    <tr>\n",
       "      <th>25%</th>\n",
       "      <td>0.000000</td>\n",
       "    </tr>\n",
       "    <tr>\n",
       "      <th>50%</th>\n",
       "      <td>1.000000</td>\n",
       "    </tr>\n",
       "    <tr>\n",
       "      <th>75%</th>\n",
       "      <td>1.000000</td>\n",
       "    </tr>\n",
       "    <tr>\n",
       "      <th>max</th>\n",
       "      <td>1.000000</td>\n",
       "    </tr>\n",
       "  </tbody>\n",
       "</table>\n",
       "</div>"
      ],
      "text/plain": [
       "               vote\n",
       "count  68266.000000\n",
       "mean       0.577125\n",
       "std        0.519233\n",
       "min       -1.000000\n",
       "25%        0.000000\n",
       "50%        1.000000\n",
       "75%        1.000000\n",
       "max        1.000000"
      ]
     },
     "execution_count": 65,
     "metadata": {},
     "output_type": "execute_result"
    }
   ],
   "source": [
    "voters_df.describe()"
   ]
  },
  {
   "attachments": {},
   "cell_type": "markdown",
   "metadata": {},
   "source": [
    "#### Explore utterances"
   ]
  },
  {
   "cell_type": "code",
   "execution_count": 67,
   "metadata": {},
   "outputs": [],
   "source": [
    "file_name = \"utterances.jsonl\"\n",
    "path = LOCAL_PATH + f\"/supreme_corpus/{file_name}\"\n",
    "with open(path) as json_file:\n",
    "    json_list = list(json_file)\n"
   ]
  },
  {
   "cell_type": "code",
   "execution_count": 69,
   "metadata": {},
   "outputs": [
    {
     "data": {
      "text/html": [
       "<div>\n",
       "<style scoped>\n",
       "    .dataframe tbody tr th:only-of-type {\n",
       "        vertical-align: middle;\n",
       "    }\n",
       "\n",
       "    .dataframe tbody tr th {\n",
       "        vertical-align: top;\n",
       "    }\n",
       "\n",
       "    .dataframe thead th {\n",
       "        text-align: right;\n",
       "    }\n",
       "</style>\n",
       "<table border=\"1\" class=\"dataframe\">\n",
       "  <thead>\n",
       "    <tr style=\"text-align: right;\">\n",
       "      <th></th>\n",
       "      <th>0</th>\n",
       "    </tr>\n",
       "  </thead>\n",
       "  <tbody>\n",
       "    <tr>\n",
       "      <th>0</th>\n",
       "      <td>{\"id\": \"13127__0_000\", \"conversation_id\": \"131...</td>\n",
       "    </tr>\n",
       "    <tr>\n",
       "      <th>1</th>\n",
       "      <td>{\"id\": \"13127__0_001\", \"conversation_id\": \"131...</td>\n",
       "    </tr>\n",
       "    <tr>\n",
       "      <th>2</th>\n",
       "      <td>{\"id\": \"13127__0_002\", \"conversation_id\": \"131...</td>\n",
       "    </tr>\n",
       "    <tr>\n",
       "      <th>3</th>\n",
       "      <td>{\"id\": \"13127__0_003\", \"conversation_id\": \"131...</td>\n",
       "    </tr>\n",
       "    <tr>\n",
       "      <th>4</th>\n",
       "      <td>{\"id\": \"13127__0_004\", \"conversation_id\": \"131...</td>\n",
       "    </tr>\n",
       "    <tr>\n",
       "      <th>...</th>\n",
       "      <td>...</td>\n",
       "    </tr>\n",
       "    <tr>\n",
       "      <th>1700784</th>\n",
       "      <td>{\"id\": \"24969__2_007\", \"conversation_id\": \"249...</td>\n",
       "    </tr>\n",
       "    <tr>\n",
       "      <th>1700785</th>\n",
       "      <td>{\"id\": \"24969__2_008\", \"conversation_id\": \"249...</td>\n",
       "    </tr>\n",
       "    <tr>\n",
       "      <th>1700786</th>\n",
       "      <td>{\"id\": \"24969__2_009\", \"conversation_id\": \"249...</td>\n",
       "    </tr>\n",
       "    <tr>\n",
       "      <th>1700787</th>\n",
       "      <td>{\"id\": \"24969__2_010\", \"conversation_id\": \"249...</td>\n",
       "    </tr>\n",
       "    <tr>\n",
       "      <th>1700788</th>\n",
       "      <td>{\"id\": \"24969__2_011\", \"conversation_id\": \"249...</td>\n",
       "    </tr>\n",
       "  </tbody>\n",
       "</table>\n",
       "<p>1700789 rows × 1 columns</p>\n",
       "</div>"
      ],
      "text/plain": [
       "                                                         0\n",
       "0        {\"id\": \"13127__0_000\", \"conversation_id\": \"131...\n",
       "1        {\"id\": \"13127__0_001\", \"conversation_id\": \"131...\n",
       "2        {\"id\": \"13127__0_002\", \"conversation_id\": \"131...\n",
       "3        {\"id\": \"13127__0_003\", \"conversation_id\": \"131...\n",
       "4        {\"id\": \"13127__0_004\", \"conversation_id\": \"131...\n",
       "...                                                    ...\n",
       "1700784  {\"id\": \"24969__2_007\", \"conversation_id\": \"249...\n",
       "1700785  {\"id\": \"24969__2_008\", \"conversation_id\": \"249...\n",
       "1700786  {\"id\": \"24969__2_009\", \"conversation_id\": \"249...\n",
       "1700787  {\"id\": \"24969__2_010\", \"conversation_id\": \"249...\n",
       "1700788  {\"id\": \"24969__2_011\", \"conversation_id\": \"249...\n",
       "\n",
       "[1700789 rows x 1 columns]"
      ]
     },
     "execution_count": 69,
     "metadata": {},
     "output_type": "execute_result"
    }
   ],
   "source": [
    "pd.DataFrame(json_list)"
   ]
  }
 ],
 "metadata": {
  "kernelspec": {
   "display_name": "Python 3",
   "language": "python",
   "name": "python3"
  },
  "language_info": {
   "codemirror_mode": {
    "name": "ipython",
    "version": 3
   },
   "file_extension": ".py",
   "mimetype": "text/x-python",
   "name": "python",
   "nbconvert_exporter": "python",
   "pygments_lexer": "ipython3",
   "version": "3.9.2"
  },
  "orig_nbformat": 4
 },
 "nbformat": 4,
 "nbformat_minor": 2
}
