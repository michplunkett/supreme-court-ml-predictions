{
 "cells": [
  {
   "attachments": {},
   "cell_type": "markdown",
   "metadata": {},
   "source": [
    "## Exploratory Analysis - Tests"
   ]
  },
  {
   "attachments": {},
   "cell_type": "markdown",
   "metadata": {},
   "source": [
    "### Global Imports"
   ]
  },
  {
   "cell_type": "code",
   "execution_count": 21,
   "metadata": {},
   "outputs": [],
   "source": [
    "### Imports\n",
    "import os\n",
    "import json\n",
    "import pandas as pd"
   ]
  },
  {
   "cell_type": "code",
   "execution_count": 6,
   "metadata": {},
   "outputs": [],
   "source": [
    "# pip install convokit"
   ]
  },
  {
   "attachments": {},
   "cell_type": "markdown",
   "metadata": {},
   "source": [
    "### Parameters and Global Variables"
   ]
  },
  {
   "cell_type": "code",
   "execution_count": 14,
   "metadata": {},
   "outputs": [
    {
     "data": {
      "text/plain": [
       "'c:/Users/fdmol/Desktop/MSCAPP/CAPP30254/supreme-court-ml-predictions/supreme_court_predictions/data/convokit'"
      ]
     },
     "execution_count": 14,
     "metadata": {},
     "output_type": "execute_result"
    }
   ],
   "source": [
    "# Get current working directory\n",
    "cwd = os.getcwd()\n",
    "LOCAL_PATH = cwd.replace(\"\\\\\", \"/\")\n",
    "LOCAL_PATH = LOCAL_PATH.replace(\"data/statistics\", \"data/convokit\")\n",
    "LOCAL_PATH"
   ]
  },
  {
   "attachments": {},
   "cell_type": "markdown",
   "metadata": {},
   "source": [
    "### Functions"
   ]
  },
  {
   "cell_type": "code",
   "execution_count": 15,
   "metadata": {},
   "outputs": [],
   "source": [
    "\"\"\"\n",
    "This file serves as the client for convokit.\n",
    "\"\"\"\n",
    "from convokit import Corpus, download\n",
    "\n",
    "\n",
    "def get_data():\n",
    "    \"\"\"\n",
    "    Loads and outputs the Supreme Court Corpus data\n",
    "    \"\"\"\n",
    "\n",
    "    print(\"Loading Supreme Court Corpus Data...\")\n",
    "    corpus = Corpus(filename=download(\"supreme-corpus\"))\n",
    "    corpus.dump(\n",
    "        \"supreme_corpus\", base_path=LOCAL_PATH\n",
    "    )\n"
   ]
  },
  {
   "cell_type": "code",
   "execution_count": 38,
   "metadata": {},
   "outputs": [],
   "source": [
    "### Begin reading data\n",
    "def load_data(file_name):\n",
    "    \"\"\"\n",
    "    Opens the data and returns it as a dictionary\n",
    "\n",
    "    :param file_name: The name of the file to open\n",
    "    :return: The data as a dictionary\n",
    "    \"\"\"\n",
    "    path = LOCAL_PATH + f\"/supreme_corpus/{file_name}\"\n",
    "    with open(path) as file:\n",
    "        data = json.load(file)\n",
    "    return data"
   ]
  },
  {
   "cell_type": "code",
   "execution_count": 39,
   "metadata": {},
   "outputs": [],
   "source": [
    "def speakers_to_df(speakers_dict):\n",
    "    \"\"\"\n",
    "    Converts the speakers dictionary to a pandas dataframe\n",
    "\n",
    "    :param speakers_dict: The speakers dictionary\n",
    "    :return: The speakers dataframe\n",
    "    \"\"\"\n",
    "\n",
    "    dict_list = []\n",
    "    for speaker in list(speakers_dict.keys()):\n",
    "        speaker_data = speakers_dict[speaker]['meta']\n",
    "        dict_list.append(speaker_data)\n",
    "\n",
    "    df = pd.DataFrame(dict_list)\n",
    "    df.rename(columns={'name': 'speaker_name', 'type': 'speaker_type',\n",
    "                    'role': 'speaker_role'},\n",
    "                    inplace=True)\n",
    "    return df"
   ]
  },
  {
   "attachments": {},
   "cell_type": "markdown",
   "metadata": {},
   "source": [
    "### Pipeline and Tests"
   ]
  },
  {
   "cell_type": "code",
   "execution_count": 16,
   "metadata": {},
   "outputs": [
    {
     "name": "stdout",
     "output_type": "stream",
     "text": [
      "Loading Supreme Court Corpus Data...\n",
      "Dataset already exists at C:\\Users\\fdmol\\.convokit\\downloads\\supreme-corpus\n"
     ]
    }
   ],
   "source": [
    "get_data()"
   ]
  },
  {
   "cell_type": "code",
   "execution_count": 40,
   "metadata": {},
   "outputs": [
    {
     "data": {
      "text/html": [
       "<div>\n",
       "<style scoped>\n",
       "    .dataframe tbody tr th:only-of-type {\n",
       "        vertical-align: middle;\n",
       "    }\n",
       "\n",
       "    .dataframe tbody tr th {\n",
       "        vertical-align: top;\n",
       "    }\n",
       "\n",
       "    .dataframe thead th {\n",
       "        text-align: right;\n",
       "    }\n",
       "</style>\n",
       "<table border=\"1\" class=\"dataframe\">\n",
       "  <thead>\n",
       "    <tr style=\"text-align: right;\">\n",
       "      <th></th>\n",
       "      <th>speaker_name</th>\n",
       "      <th>speaker_type</th>\n",
       "      <th>speaker_role</th>\n",
       "    </tr>\n",
       "  </thead>\n",
       "  <tbody>\n",
       "    <tr>\n",
       "      <th>0</th>\n",
       "      <td>Earl Warren</td>\n",
       "      <td>J</td>\n",
       "      <td>justice</td>\n",
       "    </tr>\n",
       "    <tr>\n",
       "      <th>1</th>\n",
       "      <td>Harry F. Murphy</td>\n",
       "      <td>A</td>\n",
       "      <td>NaN</td>\n",
       "    </tr>\n",
       "    <tr>\n",
       "      <th>2</th>\n",
       "      <td>William O. Douglas</td>\n",
       "      <td>J</td>\n",
       "      <td>justice</td>\n",
       "    </tr>\n",
       "    <tr>\n",
       "      <th>3</th>\n",
       "      <td>&lt;INAUDIBLE&gt;</td>\n",
       "      <td>U</td>\n",
       "      <td>inaudible</td>\n",
       "    </tr>\n",
       "    <tr>\n",
       "      <th>4</th>\n",
       "      <td>Felix Frankfurter</td>\n",
       "      <td>J</td>\n",
       "      <td>justice</td>\n",
       "    </tr>\n",
       "  </tbody>\n",
       "</table>\n",
       "</div>"
      ],
      "text/plain": [
       "         speaker_name speaker_type speaker_role\n",
       "0         Earl Warren            J      justice\n",
       "1     Harry F. Murphy            A          NaN\n",
       "2  William O. Douglas            J      justice\n",
       "3         <INAUDIBLE>            U    inaudible\n",
       "4   Felix Frankfurter            J      justice"
      ]
     },
     "execution_count": 40,
     "metadata": {},
     "output_type": "execute_result"
    }
   ],
   "source": [
    "speakers_dict = open_data(\"speakers.json\")\n",
    "speakers_df = speakers_to_df(speakers_dict)\n",
    "speakers_df.head()"
   ]
  }
 ],
 "metadata": {
  "kernelspec": {
   "display_name": "Python 3",
   "language": "python",
   "name": "python3"
  },
  "language_info": {
   "codemirror_mode": {
    "name": "ipython",
    "version": 3
   },
   "file_extension": ".py",
   "mimetype": "text/x-python",
   "name": "python",
   "nbconvert_exporter": "python",
   "pygments_lexer": "ipython3",
   "version": "3.9.2"
  },
  "orig_nbformat": 4
 },
 "nbformat": 4,
 "nbformat_minor": 2
}
