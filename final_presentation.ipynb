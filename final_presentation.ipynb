{
 "cells": [
  {
   "cell_type": "code",
   "execution_count": null,
   "metadata": {
    "slideshow": {
     "slide_type": "skip"
    }
   },
   "outputs": [],
   "source": [
    "# Setup\n",
    "from IPython.display import Markdown\n",
    "import jupyter_black\n",
    "import pandas as pd\n",
    "\n",
    "jupyter_black.load()\n",
    "\n",
    "\n",
    "from supreme_court_predictions.models.logistic_regression import (\n",
    "    LogisticRegression,\n",
    ")\n",
    "from supreme_court_predictions.models.random_forest import RandomForest\n",
    "from supreme_court_predictions.models.xg_boost import XGBoost\n",
    "\n",
    "# Setup for display\n",
    "import matplotlib.pyplot as plt\n",
    "from sklearn.metrics import ConfusionMatrixDisplay\n",
    "\n",
    "%matplotlib inline\n",
    "\n",
    "\n",
    "# Loading the dataframes\n",
    "from supreme_court_predictions.util.functions import get_full_data_pathway\n",
    "\n",
    "data_path = get_full_data_pathway(\"clean_convokit/\")\n",
    "utterances = pd.read_csv(data_path + \"utterances_df.csv\")\n",
    "advocates = pd.read_csv(data_path + \"advocates_df.csv\")\n",
    "cases = pd.read_csv(data_path + \"cases_df.csv\")\n",
    "conversations = pd.read_csv(data_path + \"conversations_df.csv\")\n",
    "speakers = pd.read_csv(data_path + \"speakers_df.csv\")\n",
    "voters = pd.read_csv(data_path + \"voters_df.csv\")"
   ]
  },
  {
   "attachments": {},
   "cell_type": "markdown",
   "metadata": {
    "slideshow": {
     "slide_type": "slide"
    }
   },
   "source": [
    "## Machine Learning Final Presentation\n",
    "### Predicting Outcomes of US Supreme Court Oral Arguments\n",
    "**Team Members: Federico Dominguez, Chanteria Milner, Jessup Jong, Michael Plunkett**"
   ]
  },
  {
   "attachments": {},
   "cell_type": "markdown",
   "metadata": {
    "slideshow": {
     "slide_type": "slide"
    }
   },
   "source": [
    "## Background\n",
    "[insert]"
   ]
  },
  {
   "attachments": {},
   "cell_type": "markdown",
   "metadata": {
    "slideshow": {
     "slide_type": "slide"
    }
   },
   "source": [
    "## Datasets"
   ]
  },
  {
   "attachments": {},
   "cell_type": "markdown",
   "metadata": {
    "slideshow": {
     "slide_type": "subslide"
    }
   },
   "source": [
    "### Case Information"
   ]
  },
  {
   "cell_type": "code",
   "execution_count": null,
   "metadata": {},
   "outputs": [],
   "source": [
    "Markdown(f\"\"\"\n",
    "\n",
    "## {greetings} {name}!\n",
    "\n",
    "You can mix Markdown with variables thanks to `IPython.display.Markdown()`.\n",
    "\n",
    "\"\"\")"
   ]
  },
  {
   "cell_type": "code",
   "execution_count": 15,
   "metadata": {
    "slideshow": {
     "slide_type": "fragment"
    }
   },
   "outputs": [
    {
     "data": {
      "text/html": [
       "<div>\n",
       "<style scoped>\n",
       "    .dataframe tbody tr th:only-of-type {\n",
       "        vertical-align: middle;\n",
       "    }\n",
       "\n",
       "    .dataframe tbody tr th {\n",
       "        vertical-align: top;\n",
       "    }\n",
       "\n",
       "    .dataframe thead th {\n",
       "        text-align: right;\n",
       "    }\n",
       "</style>\n",
       "<table border=\"1\" class=\"dataframe\">\n",
       "  <thead>\n",
       "    <tr style=\"text-align: right;\">\n",
       "      <th></th>\n",
       "      <th>id</th>\n",
       "      <th>year</th>\n",
       "      <th>citation</th>\n",
       "      <th>title</th>\n",
       "      <th>petitioner</th>\n",
       "      <th>respondent</th>\n",
       "      <th>docket_no</th>\n",
       "      <th>court</th>\n",
       "      <th>decided_date</th>\n",
       "      <th>win_side</th>\n",
       "      <th>is_eq_divided</th>\n",
       "    </tr>\n",
       "  </thead>\n",
       "  <tbody>\n",
       "    <tr>\n",
       "      <th>0</th>\n",
       "      <td>2014_13-553</td>\n",
       "      <td>2014</td>\n",
       "      <td>575 US _</td>\n",
       "      <td>Alabama Department of Revenue v. CSX Transport...</td>\n",
       "      <td>Alabama Department of Revenue, et al.</td>\n",
       "      <td>CSX Transportation, Inc.</td>\n",
       "      <td>13-553</td>\n",
       "      <td>Roberts Court</td>\n",
       "      <td>Mar 4, 2015</td>\n",
       "      <td>1</td>\n",
       "      <td>False</td>\n",
       "    </tr>\n",
       "    <tr>\n",
       "      <th>1</th>\n",
       "      <td>2014_13-895</td>\n",
       "      <td>2014</td>\n",
       "      <td>575 US _</td>\n",
       "      <td>Alabama Legislative Black Caucus v. Alabama</td>\n",
       "      <td>Alabama Democratic Conference, et al.</td>\n",
       "      <td>Alabama, et al.</td>\n",
       "      <td>13-895</td>\n",
       "      <td>Roberts Court</td>\n",
       "      <td>Mar 25, 2015</td>\n",
       "      <td>1</td>\n",
       "      <td>False</td>\n",
       "    </tr>\n",
       "  </tbody>\n",
       "</table>\n",
       "</div>"
      ],
      "text/plain": [
       "            id  year  citation  ...  decided_date win_side is_eq_divided\n",
       "0  2014_13-553  2014  575 US _  ...   Mar 4, 2015        1         False\n",
       "1  2014_13-895  2014  575 US _  ...  Mar 25, 2015        1         False\n",
       "\n",
       "[2 rows x 11 columns]"
      ]
     },
     "execution_count": 15,
     "metadata": {},
     "output_type": "execute_result"
    }
   ],
   "source": [
    "cases.head(2)"
   ]
  },
  {
   "cell_type": "code",
   "execution_count": 9,
   "metadata": {
    "slideshow": {
     "slide_type": "subslide"
    }
   },
   "outputs": [
    {
     "data": {
      "text/html": [
       "<div>\n",
       "<style scoped>\n",
       "    .dataframe tbody tr th:only-of-type {\n",
       "        vertical-align: middle;\n",
       "    }\n",
       "\n",
       "    .dataframe tbody tr th {\n",
       "        vertical-align: top;\n",
       "    }\n",
       "\n",
       "    .dataframe thead th {\n",
       "        text-align: right;\n",
       "    }\n",
       "</style>\n",
       "<table border=\"1\" class=\"dataframe\">\n",
       "  <thead>\n",
       "    <tr style=\"text-align: right;\">\n",
       "      <th></th>\n",
       "      <th>speaker_name</th>\n",
       "      <th>speaker_type</th>\n",
       "      <th>speaker_role</th>\n",
       "      <th>speaker_key</th>\n",
       "    </tr>\n",
       "  </thead>\n",
       "  <tbody>\n",
       "    <tr>\n",
       "      <th>0</th>\n",
       "      <td>Earl Warren</td>\n",
       "      <td>J</td>\n",
       "      <td>justice</td>\n",
       "      <td>earl_warren</td>\n",
       "    </tr>\n",
       "    <tr>\n",
       "      <th>1</th>\n",
       "      <td>Harry F. Murphy</td>\n",
       "      <td>A</td>\n",
       "      <td>NaN</td>\n",
       "      <td>harry_f_murphy</td>\n",
       "    </tr>\n",
       "  </tbody>\n",
       "</table>\n",
       "</div>"
      ],
      "text/plain": [
       "      speaker_name speaker_type speaker_role     speaker_key\n",
       "0      Earl Warren            J      justice     earl_warren\n",
       "1  Harry F. Murphy            A          NaN  harry_f_murphy"
      ]
     },
     "execution_count": 9,
     "metadata": {},
     "output_type": "execute_result"
    }
   ],
   "source": [
    "speakers.head(2)"
   ]
  },
  {
   "cell_type": "code",
   "execution_count": 10,
   "metadata": {
    "slideshow": {
     "slide_type": "skip"
    }
   },
   "outputs": [
    {
     "data": {
      "text/html": [
       "<div>\n",
       "<style scoped>\n",
       "    .dataframe tbody tr th:only-of-type {\n",
       "        vertical-align: middle;\n",
       "    }\n",
       "\n",
       "    .dataframe tbody tr th {\n",
       "        vertical-align: top;\n",
       "    }\n",
       "\n",
       "    .dataframe thead th {\n",
       "        text-align: right;\n",
       "    }\n",
       "</style>\n",
       "<table border=\"1\" class=\"dataframe\">\n",
       "  <thead>\n",
       "    <tr style=\"text-align: right;\">\n",
       "      <th></th>\n",
       "      <th>id</th>\n",
       "      <th>case_id</th>\n",
       "      <th>voter</th>\n",
       "      <th>vote</th>\n",
       "    </tr>\n",
       "  </thead>\n",
       "  <tbody>\n",
       "    <tr>\n",
       "      <th>0</th>\n",
       "      <td>23291</td>\n",
       "      <td>2014_13-553</td>\n",
       "      <td>j__john_g_roberts_jr</td>\n",
       "      <td>1</td>\n",
       "    </tr>\n",
       "    <tr>\n",
       "      <th>1</th>\n",
       "      <td>23291</td>\n",
       "      <td>2014_13-553</td>\n",
       "      <td>j__antonin_scalia</td>\n",
       "      <td>1</td>\n",
       "    </tr>\n",
       "  </tbody>\n",
       "</table>\n",
       "</div>"
      ],
      "text/plain": [
       "      id      case_id                 voter  vote\n",
       "0  23291  2014_13-553  j__john_g_roberts_jr     1\n",
       "1  23291  2014_13-553     j__antonin_scalia     1"
      ]
     },
     "execution_count": 10,
     "metadata": {},
     "output_type": "execute_result"
    }
   ],
   "source": [
    "voters.head(2)"
   ]
  },
  {
   "cell_type": "code",
   "execution_count": 11,
   "metadata": {
    "slideshow": {
     "slide_type": "skip"
    }
   },
   "outputs": [
    {
     "data": {
      "text/html": [
       "<div>\n",
       "<style scoped>\n",
       "    .dataframe tbody tr th:only-of-type {\n",
       "        vertical-align: middle;\n",
       "    }\n",
       "\n",
       "    .dataframe tbody tr th {\n",
       "        vertical-align: top;\n",
       "    }\n",
       "\n",
       "    .dataframe thead th {\n",
       "        text-align: right;\n",
       "    }\n",
       "</style>\n",
       "<table border=\"1\" class=\"dataframe\">\n",
       "  <thead>\n",
       "    <tr style=\"text-align: right;\">\n",
       "      <th></th>\n",
       "      <th>id</th>\n",
       "      <th>case_id</th>\n",
       "      <th>advocate</th>\n",
       "      <th>side</th>\n",
       "      <th>role</th>\n",
       "    </tr>\n",
       "  </thead>\n",
       "  <tbody>\n",
       "    <tr>\n",
       "      <th>0</th>\n",
       "      <td>23291</td>\n",
       "      <td>2014_13-553</td>\n",
       "      <td>andrew_l_brasher</td>\n",
       "      <td>1</td>\n",
       "      <td>Solicitor General, Alabama, for the petitioner</td>\n",
       "    </tr>\n",
       "    <tr>\n",
       "      <th>1</th>\n",
       "      <td>23291</td>\n",
       "      <td>2014_13-553</td>\n",
       "      <td>carter_g_phillips</td>\n",
       "      <td>0</td>\n",
       "      <td>for the respondent</td>\n",
       "    </tr>\n",
       "  </tbody>\n",
       "</table>\n",
       "</div>"
      ],
      "text/plain": [
       "      id      case_id  ... side                                            role\n",
       "0  23291  2014_13-553  ...    1  Solicitor General, Alabama, for the petitioner\n",
       "1  23291  2014_13-553  ...    0                              for the respondent\n",
       "\n",
       "[2 rows x 5 columns]"
      ]
     },
     "execution_count": 11,
     "metadata": {},
     "output_type": "execute_result"
    }
   ],
   "source": [
    "advocates.head(2)"
   ]
  },
  {
   "cell_type": "code",
   "execution_count": 12,
   "metadata": {
    "slideshow": {
     "slide_type": "skip"
    }
   },
   "outputs": [
    {
     "data": {
      "text/html": [
       "<div>\n",
       "<style scoped>\n",
       "    .dataframe tbody tr th:only-of-type {\n",
       "        vertical-align: middle;\n",
       "    }\n",
       "\n",
       "    .dataframe tbody tr th {\n",
       "        vertical-align: top;\n",
       "    }\n",
       "\n",
       "    .dataframe thead th {\n",
       "        text-align: right;\n",
       "    }\n",
       "</style>\n",
       "<table border=\"1\" class=\"dataframe\">\n",
       "  <thead>\n",
       "    <tr style=\"text-align: right;\">\n",
       "      <th></th>\n",
       "      <th>id</th>\n",
       "      <th>case_id</th>\n",
       "      <th>winning_side</th>\n",
       "    </tr>\n",
       "  </thead>\n",
       "  <tbody>\n",
       "    <tr>\n",
       "      <th>0</th>\n",
       "      <td>23291</td>\n",
       "      <td>2014_13-553</td>\n",
       "      <td>1</td>\n",
       "    </tr>\n",
       "    <tr>\n",
       "      <th>1</th>\n",
       "      <td>23252</td>\n",
       "      <td>2014_13-895</td>\n",
       "      <td>1</td>\n",
       "    </tr>\n",
       "  </tbody>\n",
       "</table>\n",
       "</div>"
      ],
      "text/plain": [
       "      id      case_id  winning_side\n",
       "0  23291  2014_13-553             1\n",
       "1  23252  2014_13-895             1"
      ]
     },
     "execution_count": 12,
     "metadata": {},
     "output_type": "execute_result"
    }
   ],
   "source": [
    "conversations.head(2)"
   ]
  },
  {
   "cell_type": "code",
   "execution_count": 13,
   "metadata": {
    "slideshow": {
     "slide_type": "skip"
    }
   },
   "outputs": [
    {
     "data": {
      "text/html": [
       "<div>\n",
       "<style scoped>\n",
       "    .dataframe tbody tr th:only-of-type {\n",
       "        vertical-align: middle;\n",
       "    }\n",
       "\n",
       "    .dataframe tbody tr th {\n",
       "        vertical-align: top;\n",
       "    }\n",
       "\n",
       "    .dataframe thead th {\n",
       "        text-align: right;\n",
       "    }\n",
       "</style>\n",
       "<table border=\"1\" class=\"dataframe\">\n",
       "  <thead>\n",
       "    <tr style=\"text-align: right;\">\n",
       "      <th></th>\n",
       "      <th>case_id</th>\n",
       "      <th>speaker</th>\n",
       "      <th>speaker_type</th>\n",
       "      <th>conversation_id</th>\n",
       "      <th>id</th>\n",
       "      <th>text</th>\n",
       "      <th>tokens</th>\n",
       "    </tr>\n",
       "  </thead>\n",
       "  <tbody>\n",
       "    <tr>\n",
       "      <th>0</th>\n",
       "      <td>2014_13-553</td>\n",
       "      <td>j__john_g_roberts_jr</td>\n",
       "      <td>J</td>\n",
       "      <td>23291</td>\n",
       "      <td>23291__0_000</td>\n",
       "      <td>we'll hear argument next in case no. 13553, th...</td>\n",
       "      <td>['hear', 'argument', 'case', 'alabama', 'depar...</td>\n",
       "    </tr>\n",
       "    <tr>\n",
       "      <th>1</th>\n",
       "      <td>2014_13-553</td>\n",
       "      <td>andrew_l_brasher</td>\n",
       "      <td>A</td>\n",
       "      <td>23291</td>\n",
       "      <td>23291__0_001</td>\n",
       "      <td>thank you, mr. chief justice, and may it pleas...</td>\n",
       "      <td>['thank', 'mr', 'chief', 'justice', 'court', '...</td>\n",
       "    </tr>\n",
       "  </tbody>\n",
       "</table>\n",
       "</div>"
      ],
      "text/plain": [
       "       case_id  ...                                             tokens\n",
       "0  2014_13-553  ...  ['hear', 'argument', 'case', 'alabama', 'depar...\n",
       "1  2014_13-553  ...  ['thank', 'mr', 'chief', 'justice', 'court', '...\n",
       "\n",
       "[2 rows x 7 columns]"
      ]
     },
     "execution_count": 13,
     "metadata": {},
     "output_type": "execute_result"
    }
   ],
   "source": [
    "utterances.head(2)"
   ]
  }
 ],
 "metadata": {
  "kernelspec": {
   "display_name": "supreme-court-predictions-sGlGetDh-py3.11",
   "language": "python",
   "name": "python3"
  },
  "language_info": {
   "codemirror_mode": {
    "name": "ipython",
    "version": 3
   },
   "file_extension": ".py",
   "mimetype": "text/x-python",
   "name": "python",
   "nbconvert_exporter": "python",
   "pygments_lexer": "ipython3",
   "version": "3.11.1"
  },
  "orig_nbformat": 4
 },
 "nbformat": 4,
 "nbformat_minor": 2
}
