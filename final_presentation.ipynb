{
 "cells": [
  {
   "cell_type": "code",
   "execution_count": 45,
   "metadata": {
    "collapsed": false
   },
   "outputs": [
    {
     "name": "stdout",
     "output_type": "stream",
     "text": [
      "The jupyter_black extension is already loaded. To reload it, use:\n",
      "  %reload_ext jupyter_black\n"
     ]
    }
   ],
   "source": [
    "# General imports\n",
    "from IPython.display import Markdown\n",
    "import pandas as pd\n",
    "import numpy as np\n",
    "import seaborn as sns\n",
    "import matplotlib.pyplot as plt\n",
    "\n",
    "from supreme_court_predictions.models.logistic_regression import (\n",
    "    LogisticRegression,\n",
    ")\n",
    "from supreme_court_predictions.models.random_forest import RandomForest\n",
    "from supreme_court_predictions.models.xg_boost import XGBoost\n",
    "\n",
    "%load_ext jupyter_black"
   ]
  },
  {
   "cell_type": "code",
   "execution_count": 2,
   "metadata": {
    "collapsed": false
   },
   "outputs": [],
   "source": [
    "# Setup - Datasets\n",
    "LABELS = np.array([\"for respondent\", \"for petitioner\"])\n",
    "\n",
    "\n",
    "# Loading dataframes\n",
    "from supreme_court_predictions.util.functions import get_full_data_pathway\n",
    "\n",
    "# Loading unprocessed dataframes\n",
    "data_path = get_full_data_pathway(\"clean_convokit/\")\n",
    "utterances = pd.read_csv(data_path + \"utterances_df.csv\")\n",
    "advocates = pd.read_csv(data_path + \"advocates_df.csv\")\n",
    "cases = pd.read_csv(data_path + \"cases_df.csv\")\n",
    "conversations = pd.read_csv(data_path + \"conversations_df.csv\")\n",
    "speakers = pd.read_csv(data_path + \"speakers_df.csv\")\n",
    "voters = pd.read_csv(data_path + \"voters_df.csv\")\n",
    "\n",
    "# Loading processed dataframes\n",
    "proc_data_path = get_full_data_pathway(\"processed/\")\n",
    "cases_proc = pd.read_pickle(proc_data_path + \"case_aggregations.p\")\n",
    "judges_proc = pd.read_pickle(proc_data_path + \"judge_aggregations.p\")\n",
    "adversary_proc = pd.read_pickle(proc_data_path + \"adversary_aggregations.p\")\n",
    "advocate_proc = pd.read_pickle(proc_data_path + \"advocate_aggregations.p\")\n",
    "\n",
    "# Loading descriptive statistics\n",
    "from supreme_court_predictions.summary_analysis.descriptive_statistics import (\n",
    "    DescriptiveStatistics,\n",
    ")\n",
    "\n",
    "ds = DescriptiveStatistics()\n",
    "ds.parse_all_data()"
   ]
  },
  {
   "cell_type": "code",
   "execution_count": 3,
   "metadata": {
    "slideshow": {
     "slide_type": "skip"
    }
   },
   "outputs": [],
   "source": [
    "# Setup - Models and plots\n",
    "# Load models\n",
    "lr = LogisticRegression()\n",
    "lr.run()\n",
    "\n",
    "rf = RandomForest()\n",
    "rf.run()\n",
    "\n",
    "xg = XGBoost()\n",
    "xg.run()\n",
    "\n",
    "# Model Comparison DF - using advocate utterances\n",
    "models = [\n",
    "    \"logistic regression\",\n",
    "    \"random forest\",\n",
    "    \"xg boost\",\n",
    "]  \n",
    "accuracy = [\n",
    "    lr.accuracies[\"adversary_aggregations\"],\n",
    "    rf.accuracies[\"adversary_aggregations\"],\n",
    "    xg.accuracies[\"adversary_aggregations\"],\n",
    "]  \n",
    "f1 = [\n",
    "    lr.f1[\"adversary_aggregations\"],\n",
    "    rf.f1[\"adversary_aggregations\"],\n",
    "    xg.f1[\"adversary_aggregations\"],\n",
    "]  \n",
    "\n",
    "model_comp = {\"model\": models, \"accuracy\": accuracy, \"f1_score\": f1}\n",
    "model_comp = pd.DataFrame.from_dict(model_comp)\n",
    "\n",
    "\n",
    "# Setup for plots\n",
    "import matplotlib.pyplot as plt\n",
    "from sklearn.metrics import ConfusionMatrixDisplay\n",
    "\n",
    "%matplotlib inline"
   ]
  },
  {
   "cell_type": "code",
   "execution_count": 4,
   "metadata": {
    "slideshow": {
     "slide_type": "skip"
    }
   },
   "outputs": [],
   "source": [
    "# Helper Functions\n",
    "def dict_to_df(column_names, dict1, dict2=None):\n",
    "    \"\"\"\n",
    "    Transforms a dictionary to a dataframe for better presentation.\n",
    "\n",
    "    :param column_names (list): List of column names for dataframe.\n",
    "    :param dict1 (dictionary): Dictionary of data to convert.\n",
    "    :param dict1 (dictionary, optional): Dictionary of data to convert.\n",
    "    : return (DataFrame) DataFrame representation of dictionary.\n",
    "    \"\"\"\n",
    "\n",
    "    df = {}\n",
    "    df[column_names[0]] = list(dict1.keys())\n",
    "    df[column_names[1]] = list(dict1.values())\n",
    "\n",
    "    if dict2 != None:\n",
    "        df[column_names[2]] = list(dict2.values())\n",
    "\n",
    "    df = pd.DataFrame.from_dict(df)\n",
    "\n",
    "    return df\n",
    "\n",
    "\n",
    "def disp_accuracy(df, labs, x_label=\"Dataset\"):\n",
    "    \"\"\"\n",
    "    Creates a barchart representing the accuracy and f1 scores of a dataset.\n",
    "\n",
    "    :param df (DataFrame) Dataframe with three columns: dataset name, accuracy\n",
    "                          score, and F1 score.\n",
    "    \"\"\"\n",
    "    # set width of bar\n",
    "    barWidth = 0.25\n",
    "    fig = plt.subplots(figsize=(12, 8))\n",
    "\n",
    "    # set height of bar\n",
    "    accs = list(df[\"accuracy\"])\n",
    "    f1 = list(df[\"f1_score\"])\n",
    "\n",
    "    # Set position of bar on X axis\n",
    "    br1 = np.arange(len(df))\n",
    "    br2 = [x + barWidth for x in br1]\n",
    "\n",
    "    # Make the plot\n",
    "    plt.bar(\n",
    "        br1,\n",
    "        accs,\n",
    "        color=\"gray\",\n",
    "        width=barWidth,\n",
    "        edgecolor=\"grey\",\n",
    "        label=\"Accuracy\",\n",
    "    )\n",
    "    plt.bar(\n",
    "        br2,\n",
    "        f1,\n",
    "        color=\"blue\",\n",
    "        width=barWidth,\n",
    "        edgecolor=\"grey\",\n",
    "        label=\"F1 Score\",\n",
    "    )\n",
    "\n",
    "    # Adding Xticks\n",
    "    plt.xlabel(x_label, fontweight=\"bold\", fontsize=15)\n",
    "    plt.ylabel(\"Prop Correct Prediction\", fontweight=\"bold\", fontsize=15)\n",
    "    plt.xticks(\n",
    "        [r + barWidth for r in range(len(accs))],\n",
    "        labs,\n",
    "    )\n",
    "\n",
    "    plt.legend()\n",
    "    plt.show()\n",
    "\n",
    "\n",
    "def disp_conf_matrix(cm):\n",
    "    \"\"\"\n",
    "    Creates a plot of the confusion matrix.\n",
    "\n",
    "    :param cm (array): Confusion matrix to display.\n",
    "    \"\"\"\n",
    "    disp = ConfusionMatrixDisplay(\n",
    "        confusion_matrix=cm,\n",
    "        display_labels=LABELS,\n",
    "    )\n",
    "    disp.plot()\n",
    "    plt.show()"
   ]
  },
  {
   "attachments": {},
   "cell_type": "markdown",
   "metadata": {},
   "source": [
    "### Finetuning Functions"
   ]
  },
  {
   "cell_type": "code",
   "execution_count": 42,
   "metadata": {},
   "outputs": [],
   "source": [
    "# Value columns for long format\n",
    "value_cols = [\n",
    "    \"case_aggregations\",\n",
    "    \"judge_aggregations\",\n",
    "    \"advocate_aggregations\",\n",
    "    \"adversary_aggregations\",\n",
    "]\n",
    "\n",
    "\n",
    "def get_long_df(param_name, param_values, accuracy_dicts, f1_dicts):\n",
    "    \"\"\"\n",
    "    Converts the accuracy dataframes to long format for\n",
    "    posterior plotting\n",
    "    \"\"\"\n",
    "    # Dataframe of accuracy and f1 scores\n",
    "    acc_df = pd.DataFrame.from_dict(accuracy_dicts)\n",
    "    f1_df = pd.DataFrame.from_dict(f1_dicts)\n",
    "\n",
    "    # Add parameter values to dataframe\n",
    "    acc_df[param_name] = param_values\n",
    "    f1_df[param_name] = param_values\n",
    "\n",
    "    # Convert to long format\n",
    "    acc_melted = acc_df.melt(\n",
    "        id_vars=param_name, value_vars=value_cols, var_name=\"type\"\n",
    "    )\n",
    "    f1_melted = f1_df.melt(\n",
    "        id_vars=param_name, value_vars=value_cols, var_name=\"type\"\n",
    "    )\n",
    "\n",
    "    return acc_melted, f1_melted"
   ]
  },
  {
   "cell_type": "code",
   "execution_count": 39,
   "metadata": {},
   "outputs": [],
   "source": [
    "def plot_accuracy_scores(\n",
    "    melted_df, param_name, model_name, accuracy_metric=None\n",
    "):\n",
    "    \"\"\"\n",
    "    Plots accuracy scores when finetuning a parameter\n",
    "\n",
    "    Parameters\n",
    "    ----------\n",
    "    param_name : str\n",
    "        Name of parameter being finetuned\n",
    "    melted_df : pandas dataframe\n",
    "        Dataframe with accuracy scores in long format\n",
    "    \"\"\"\n",
    "    fig_dims = (10, 12)\n",
    "    fig, ax1 = plt.subplots(figsize=fig_dims)\n",
    "    ax1 = sns.lineplot(\n",
    "        x=param_name,\n",
    "        y=\"value\",\n",
    "        data=melted_df,\n",
    "        hue=\"type\",\n",
    "        style=\"type\",\n",
    "        markers=True,\n",
    "        dashes=False,\n",
    "    )\n",
    "    fig.set_size_inches(12.7, 9.27)\n",
    "    plt.ticklabel_format(style=\"plain\", axis=\"y\")\n",
    "    if accuracy_metric is None:\n",
    "        ax1.set_title(\n",
    "            f\"Accuracy Score - {model_name} - {param_name} parameter finetuning (test set)\",\n",
    "            fontsize=18,\n",
    "        )\n",
    "        ax1.set_ylabel(\"Accuracy Score\", fontsize=16)\n",
    "    else:\n",
    "        ax1.set_title(\n",
    "            f\"{accuracy_metric} Score - {model_name} - {param_name} parameter finetuning (test set)\",\n",
    "            fontsize=18,\n",
    "        )\n",
    "        ax1.set_ylabel(f\"{accuracy_metric} Score\", fontsize=16)\n",
    "\n",
    "    ax1.set_xlabel(param_name, fontsize=16)\n",
    "    plt.legend(bbox_to_anchor=(1.25, 1), loc=\"upper right\", borderaxespad=0)\n",
    "\n",
    "    plt.show()"
   ]
  },
  {
   "attachments": {},
   "cell_type": "markdown",
   "metadata": {
    "slideshow": {
     "slide_type": "slide"
    }
   },
   "source": [
    "## Machine Learning Final Presentation\n",
    "### Predicting Outcomes of US Supreme Court Oral Arguments\n",
    "**Team Members: Federico Dominguez, Chanteria Milner, Jessup Jong, Michael Plunkett**"
   ]
  },
  {
   "attachments": {},
   "cell_type": "markdown",
   "metadata": {
    "slideshow": {
     "slide_type": "slide"
    }
   },
   "source": [
    "## Background\n",
    "- <b>Dataset</b>: Supreme Court Oral Arguments Corpus\n",
    "- <b>Souce</b>: Court transcripts from [oyez.org](https://www.oyez.org/), voting information from [Supreme Court Dataset](http://scdb.wustl.edu/index.php)\n",
    "- <b>Goal</b>: Predict case decision using case transcripts and NLP models\n"
   ]
  },
  {
   "attachments": {},
   "cell_type": "markdown",
   "metadata": {},
   "source": [
    "## Introduction\n",
    "The project uses historic United States Supreme Court cases to train natural language processing models to predict case rulings.\n",
    "\n",
    "This task of predicting case rulings is **important** because it presents insights into the decision making process of the Supreme Court. Prediction through machine learning can help find patterns and anticipate systematic legal trends. **Stakeholders** interested in a case prediction project could be **academics, judges, litigants, policymakers, and the public.** This prediction tool can guide litigation strategies for litigants such as law firms. The general public may also be interested in these predictions from the viewpoint of transparency in decision making. For most practitioners in law, the actual decision as a result of majority vote may not as be useful compared to the specific reasoning used in each justices' opinions. Splitting up the machine learning into smaller subsets, therefore, can be more useful information to stakeholders.\n",
    "\n",
    "The legal theory behind a machine learning project that predicts case rulings can be traced back to a few main schools of thought including **empirical legal studies** where one uses social scientific methods to build a predictive model. Without siding to one side, this project is able to follow **legal realism** and to a certain extent **behavioralism.** Predictions of case rulings trained on utterances assumes that decisions are based on personal views and patterns of decisions. This approach is vulnerable to criticism from **legal positivism, critical legal studies, and law and economics** where decisions are viewed either solely as results based on written regulations and precedents (positivism), social, economic, and political context (critical studies), and economic incentives (law and economics)."
   ]
  },
  {
   "attachments": {},
   "cell_type": "markdown",
   "metadata": {
    "slideshow": {
     "slide_type": "slide"
    }
   },
   "source": [
    "## Datasets\n",
    "### Six total datasets\n",
    "1. Cases\n",
    "2. Speakers\n",
    "3. Voters\n",
    "4. Advocates\n",
    "5. Conversations\n",
    "6. Utterances\n"
   ]
  },
  {
   "attachments": {},
   "cell_type": "markdown",
   "metadata": {
    "slideshow": {
     "slide_type": "subslide"
    }
   },
   "source": [
    "### Case Information\n",
    "Includes infromation on each <i>court case</i>, such as:\n",
    "- Unique case ID\n",
    "- Year and title of case\n",
    "- Case petitioner and respondent\n",
    "- Winning side (1 = for petitioner) and decision date"
   ]
  },
  {
   "cell_type": "code",
   "execution_count": 6,
   "metadata": {
    "slideshow": {
     "slide_type": "fragment"
    }
   },
   "outputs": [
    {
     "data": {
      "text/html": [
       "<div>\n",
       "<style scoped>\n",
       "    .dataframe tbody tr th:only-of-type {\n",
       "        vertical-align: middle;\n",
       "    }\n",
       "\n",
       "    .dataframe tbody tr th {\n",
       "        vertical-align: top;\n",
       "    }\n",
       "\n",
       "    .dataframe thead th {\n",
       "        text-align: right;\n",
       "    }\n",
       "</style>\n",
       "<table border=\"1\" class=\"dataframe\">\n",
       "  <thead>\n",
       "    <tr style=\"text-align: right;\">\n",
       "      <th></th>\n",
       "      <th></th>\n",
       "      <th>counts</th>\n",
       "      <th>percentages</th>\n",
       "    </tr>\n",
       "  </thead>\n",
       "  <tbody>\n",
       "    <tr>\n",
       "      <th rowspan=\"2\" valign=\"top\">win side</th>\n",
       "      <th>for petitioner</th>\n",
       "      <td>284.0</td>\n",
       "      <td>66.510539</td>\n",
       "    </tr>\n",
       "    <tr>\n",
       "      <th>for respondent</th>\n",
       "      <td>143.0</td>\n",
       "      <td>33.489461</td>\n",
       "    </tr>\n",
       "    <tr>\n",
       "      <th>cases</th>\n",
       "      <th></th>\n",
       "      <td>427.0</td>\n",
       "      <td>NaN</td>\n",
       "    </tr>\n",
       "    <tr>\n",
       "      <th>courts</th>\n",
       "      <th></th>\n",
       "      <td>1.0</td>\n",
       "      <td>NaN</td>\n",
       "    </tr>\n",
       "    <tr>\n",
       "      <th>years (2014 to 2019)</th>\n",
       "      <th></th>\n",
       "      <td>6.0</td>\n",
       "      <td>NaN</td>\n",
       "    </tr>\n",
       "    <tr>\n",
       "      <th>petitioners</th>\n",
       "      <th></th>\n",
       "      <td>413.0</td>\n",
       "      <td>NaN</td>\n",
       "    </tr>\n",
       "    <tr>\n",
       "      <th>respondents</th>\n",
       "      <th></th>\n",
       "      <td>356.0</td>\n",
       "      <td>NaN</td>\n",
       "    </tr>\n",
       "  </tbody>\n",
       "</table>\n",
       "</div>"
      ],
      "text/plain": [
       "                                     counts  percentages\n",
       "win side             for petitioner   284.0    66.510539\n",
       "                     for respondent   143.0    33.489461\n",
       "cases                                 427.0          NaN\n",
       "courts                                  1.0          NaN\n",
       "years (2014 to 2019)                    6.0          NaN\n",
       "petitioners                           413.0          NaN\n",
       "respondents                           356.0          NaN"
      ]
     },
     "execution_count": 6,
     "metadata": {},
     "output_type": "execute_result"
    }
   ],
   "source": [
    "ds.cases_stats"
   ]
  },
  {
   "attachments": {},
   "cell_type": "markdown",
   "metadata": {
    "slideshow": {
     "slide_type": "subslide"
    }
   },
   "source": [
    "### Speakers\n",
    "Includes infromation on each <i>speaker</i>, such as:\n",
    "- Speaker name and unique speaker key\n",
    "- Speaker role and type (justice, advocate, nan)"
   ]
  },
  {
   "cell_type": "code",
   "execution_count": 7,
   "metadata": {
    "slideshow": {
     "slide_type": "fragment"
    }
   },
   "outputs": [
    {
     "data": {
      "text/html": [
       "<div>\n",
       "<style scoped>\n",
       "    .dataframe tbody tr th:only-of-type {\n",
       "        vertical-align: middle;\n",
       "    }\n",
       "\n",
       "    .dataframe tbody tr th {\n",
       "        vertical-align: top;\n",
       "    }\n",
       "\n",
       "    .dataframe thead th {\n",
       "        text-align: right;\n",
       "    }\n",
       "</style>\n",
       "<table border=\"1\" class=\"dataframe\">\n",
       "  <thead>\n",
       "    <tr style=\"text-align: right;\">\n",
       "      <th></th>\n",
       "      <th></th>\n",
       "      <th>counts</th>\n",
       "      <th>percentages</th>\n",
       "    </tr>\n",
       "  </thead>\n",
       "  <tbody>\n",
       "    <tr>\n",
       "      <th rowspan=\"2\" valign=\"top\">speaker type</th>\n",
       "      <th>advocate (A)</th>\n",
       "      <td>8942.0</td>\n",
       "      <td>99.610115</td>\n",
       "    </tr>\n",
       "    <tr>\n",
       "      <th>justice (J)</th>\n",
       "      <td>35.0</td>\n",
       "      <td>0.389885</td>\n",
       "    </tr>\n",
       "    <tr>\n",
       "      <th>speaker names</th>\n",
       "      <th></th>\n",
       "      <td>8928.0</td>\n",
       "      <td>NaN</td>\n",
       "    </tr>\n",
       "    <tr>\n",
       "      <th>speaker keys</th>\n",
       "      <th></th>\n",
       "      <td>8977.0</td>\n",
       "      <td>NaN</td>\n",
       "    </tr>\n",
       "  </tbody>\n",
       "</table>\n",
       "</div>"
      ],
      "text/plain": [
       "                            counts  percentages\n",
       "speaker type  advocate (A)  8942.0    99.610115\n",
       "              justice (J)     35.0     0.389885\n",
       "speaker names               8928.0          NaN\n",
       "speaker keys                8977.0          NaN"
      ]
     },
     "execution_count": 7,
     "metadata": {},
     "output_type": "execute_result"
    }
   ],
   "source": [
    "ds.speakers_stats"
   ]
  },
  {
   "attachments": {},
   "cell_type": "markdown",
   "metadata": {
    "slideshow": {
     "slide_type": "subslide"
    }
   },
   "source": [
    "### Voters\n",
    "Includes infromation on each <i>vote and voter</i>, such as:\n",
    "- Unique case ID\n",
    "- Voter key and vote side (judges only, 1=for petitioner)"
   ]
  },
  {
   "cell_type": "code",
   "execution_count": 8,
   "metadata": {
    "slideshow": {
     "slide_type": "fragment"
    }
   },
   "outputs": [
    {
     "data": {
      "text/html": [
       "<div>\n",
       "<style scoped>\n",
       "    .dataframe tbody tr th:only-of-type {\n",
       "        vertical-align: middle;\n",
       "    }\n",
       "\n",
       "    .dataframe tbody tr th {\n",
       "        vertical-align: top;\n",
       "    }\n",
       "\n",
       "    .dataframe thead th {\n",
       "        text-align: right;\n",
       "    }\n",
       "</style>\n",
       "<table border=\"1\" class=\"dataframe\">\n",
       "  <thead>\n",
       "    <tr style=\"text-align: right;\">\n",
       "      <th></th>\n",
       "      <th></th>\n",
       "      <th>counts</th>\n",
       "      <th>percentages</th>\n",
       "    </tr>\n",
       "  </thead>\n",
       "  <tbody>\n",
       "    <tr>\n",
       "      <th rowspan=\"2\" valign=\"top\">votes</th>\n",
       "      <th>for petitioner</th>\n",
       "      <td>1912.0</td>\n",
       "      <td>60.659898</td>\n",
       "    </tr>\n",
       "    <tr>\n",
       "      <th>for respondent</th>\n",
       "      <td>1240.0</td>\n",
       "      <td>39.340102</td>\n",
       "    </tr>\n",
       "    <tr>\n",
       "      <th>justices</th>\n",
       "      <th></th>\n",
       "      <td>11.0</td>\n",
       "      <td>NaN</td>\n",
       "    </tr>\n",
       "    <tr>\n",
       "      <th rowspan=\"4\" valign=\"top\">justice</th>\n",
       "      <th>j__john_g_roberts_jr</th>\n",
       "      <td>363</td>\n",
       "      <td>0.661157</td>\n",
       "    </tr>\n",
       "    <tr>\n",
       "      <th>j__antonin_scalia</th>\n",
       "      <td>66</td>\n",
       "      <td>0.651515</td>\n",
       "    </tr>\n",
       "    <tr>\n",
       "      <th>j__anthony_m_kennedy</th>\n",
       "      <td>240</td>\n",
       "      <td>0.658333</td>\n",
       "    </tr>\n",
       "    <tr>\n",
       "      <th>j__clarence_thomas</th>\n",
       "      <td>364</td>\n",
       "      <td>0.532967</td>\n",
       "    </tr>\n",
       "  </tbody>\n",
       "</table>\n",
       "</div>"
      ],
      "text/plain": [
       "                               counts percentages\n",
       "votes    for petitioner        1912.0   60.659898\n",
       "         for respondent        1240.0   39.340102\n",
       "justices                         11.0         NaN\n",
       "justice  j__john_g_roberts_jr     363    0.661157\n",
       "         j__antonin_scalia         66    0.651515\n",
       "         j__anthony_m_kennedy     240    0.658333\n",
       "         j__clarence_thomas       364    0.532967"
      ]
     },
     "execution_count": 8,
     "metadata": {},
     "output_type": "execute_result"
    }
   ],
   "source": [
    "ds.voters_stats.head(7)"
   ]
  },
  {
   "attachments": {},
   "cell_type": "markdown",
   "metadata": {
    "slideshow": {
     "slide_type": "subslide"
    }
   },
   "source": [
    "### Advocates\n",
    "Includes infromation on each <i>advocate (non-judges)</i>, such as:\n",
    "- Unique case ID\n",
    "- Advocate ID and advocacy side(1 = for petitioner)\n",
    "- Advocate role"
   ]
  },
  {
   "cell_type": "code",
   "execution_count": 9,
   "metadata": {
    "slideshow": {
     "slide_type": "fragment"
    }
   },
   "outputs": [
    {
     "data": {
      "text/html": [
       "<div>\n",
       "<style scoped>\n",
       "    .dataframe tbody tr th:only-of-type {\n",
       "        vertical-align: middle;\n",
       "    }\n",
       "\n",
       "    .dataframe tbody tr th {\n",
       "        vertical-align: top;\n",
       "    }\n",
       "\n",
       "    .dataframe thead th {\n",
       "        text-align: right;\n",
       "    }\n",
       "</style>\n",
       "<table border=\"1\" class=\"dataframe\">\n",
       "  <thead>\n",
       "    <tr style=\"text-align: right;\">\n",
       "      <th></th>\n",
       "      <th></th>\n",
       "      <th>counts</th>\n",
       "      <th>percentages</th>\n",
       "    </tr>\n",
       "  </thead>\n",
       "  <tbody>\n",
       "    <tr>\n",
       "      <th rowspan=\"2\" valign=\"top\">side</th>\n",
       "      <th>for petitioner</th>\n",
       "      <td>403.0</td>\n",
       "      <td>50.124378</td>\n",
       "    </tr>\n",
       "    <tr>\n",
       "      <th>for respondent</th>\n",
       "      <td>401.0</td>\n",
       "      <td>49.875622</td>\n",
       "    </tr>\n",
       "    <tr>\n",
       "      <th>total advocates</th>\n",
       "      <th></th>\n",
       "      <td>391.0</td>\n",
       "      <td>NaN</td>\n",
       "    </tr>\n",
       "    <tr>\n",
       "      <th>total roles</th>\n",
       "      <th></th>\n",
       "      <td>154.0</td>\n",
       "      <td>NaN</td>\n",
       "    </tr>\n",
       "    <tr>\n",
       "      <th rowspan=\"3\" valign=\"top\">aggregate roles</th>\n",
       "      <th>inferred</th>\n",
       "      <td>10.0</td>\n",
       "      <td>1.243781</td>\n",
       "    </tr>\n",
       "    <tr>\n",
       "      <th>for respondent</th>\n",
       "      <td>404.0</td>\n",
       "      <td>50.248756</td>\n",
       "    </tr>\n",
       "    <tr>\n",
       "      <th>for petitioner</th>\n",
       "      <td>390.0</td>\n",
       "      <td>48.507463</td>\n",
       "    </tr>\n",
       "  </tbody>\n",
       "</table>\n",
       "</div>"
      ],
      "text/plain": [
       "                                counts  percentages\n",
       "side            for petitioner   403.0    50.124378\n",
       "                for respondent   401.0    49.875622\n",
       "total advocates                  391.0          NaN\n",
       "total roles                      154.0          NaN\n",
       "aggregate roles inferred          10.0     1.243781\n",
       "                for respondent   404.0    50.248756\n",
       "                for petitioner   390.0    48.507463"
      ]
     },
     "execution_count": 9,
     "metadata": {},
     "output_type": "execute_result"
    }
   ],
   "source": [
    "ds.advocates_stats"
   ]
  },
  {
   "attachments": {},
   "cell_type": "markdown",
   "metadata": {
    "slideshow": {
     "slide_type": "subslide"
    }
   },
   "source": [
    "### Conversations\n",
    "Includes infromation on each <i>conversation</i>. There is one conversation per case, <br>\n",
    "and conversations are made up of individual utterances. Conversation information includes:\n",
    "\n",
    "- Unique case ID\n",
    "- Unique conversation ID\n",
    "- Winning side (1 = for petitioner)"
   ]
  },
  {
   "cell_type": "code",
   "execution_count": 10,
   "metadata": {
    "slideshow": {
     "slide_type": "fragment"
    }
   },
   "outputs": [
    {
     "data": {
      "text/html": [
       "<div>\n",
       "<style scoped>\n",
       "    .dataframe tbody tr th:only-of-type {\n",
       "        vertical-align: middle;\n",
       "    }\n",
       "\n",
       "    .dataframe tbody tr th {\n",
       "        vertical-align: top;\n",
       "    }\n",
       "\n",
       "    .dataframe thead th {\n",
       "        text-align: right;\n",
       "    }\n",
       "</style>\n",
       "<table border=\"1\" class=\"dataframe\">\n",
       "  <thead>\n",
       "    <tr style=\"text-align: right;\">\n",
       "      <th></th>\n",
       "      <th>id</th>\n",
       "      <th>case_id</th>\n",
       "      <th>winning_side</th>\n",
       "    </tr>\n",
       "  </thead>\n",
       "  <tbody>\n",
       "    <tr>\n",
       "      <th>0</th>\n",
       "      <td>23291</td>\n",
       "      <td>2014_13-553</td>\n",
       "      <td>1</td>\n",
       "    </tr>\n",
       "    <tr>\n",
       "      <th>1</th>\n",
       "      <td>23252</td>\n",
       "      <td>2014_13-895</td>\n",
       "      <td>1</td>\n",
       "    </tr>\n",
       "  </tbody>\n",
       "</table>\n",
       "</div>"
      ],
      "text/plain": [
       "      id      case_id  winning_side\n",
       "0  23291  2014_13-553             1\n",
       "1  23252  2014_13-895             1"
      ]
     },
     "execution_count": 10,
     "metadata": {},
     "output_type": "execute_result"
    }
   ],
   "source": [
    "conversations.head(2)"
   ]
  },
  {
   "attachments": {},
   "cell_type": "markdown",
   "metadata": {
    "slideshow": {
     "slide_type": "subslide"
    }
   },
   "source": [
    "### Utterances\n",
    "Includes infromation on each <i>utterance</i>, such as:\n",
    "- Unique case ID\n",
    "- Corresponding conversation ID\n",
    "- Speaker key\n",
    "- Utterance text"
   ]
  },
  {
   "cell_type": "code",
   "execution_count": 11,
   "metadata": {
    "slideshow": {
     "slide_type": "skip"
    }
   },
   "outputs": [],
   "source": [
    "cols = [\"case_id\", \"speaker\", \"speaker_type\", \"conversation_id\", \"text\"]"
   ]
  },
  {
   "cell_type": "code",
   "execution_count": 12,
   "metadata": {
    "slideshow": {
     "slide_type": "fragment"
    }
   },
   "outputs": [
    {
     "data": {
      "text/html": [
       "<div>\n",
       "<style scoped>\n",
       "    .dataframe tbody tr th:only-of-type {\n",
       "        vertical-align: middle;\n",
       "    }\n",
       "\n",
       "    .dataframe tbody tr th {\n",
       "        vertical-align: top;\n",
       "    }\n",
       "\n",
       "    .dataframe thead th {\n",
       "        text-align: right;\n",
       "    }\n",
       "</style>\n",
       "<table border=\"1\" class=\"dataframe\">\n",
       "  <thead>\n",
       "    <tr style=\"text-align: right;\">\n",
       "      <th></th>\n",
       "      <th>case_id</th>\n",
       "      <th>speaker</th>\n",
       "      <th>speaker_type</th>\n",
       "      <th>conversation_id</th>\n",
       "      <th>text</th>\n",
       "    </tr>\n",
       "  </thead>\n",
       "  <tbody>\n",
       "    <tr>\n",
       "      <th>0</th>\n",
       "      <td>2014_13-553</td>\n",
       "      <td>j__john_g_roberts_jr</td>\n",
       "      <td>J</td>\n",
       "      <td>23291</td>\n",
       "      <td>we'll hear argument next in case no. 13-553, t...</td>\n",
       "    </tr>\n",
       "    <tr>\n",
       "      <th>1</th>\n",
       "      <td>2014_13-553</td>\n",
       "      <td>andrew_l_brasher</td>\n",
       "      <td>A</td>\n",
       "      <td>23291</td>\n",
       "      <td>thank you, mr. chief justice, and may it pleas...</td>\n",
       "    </tr>\n",
       "  </tbody>\n",
       "</table>\n",
       "</div>"
      ],
      "text/plain": [
       "       case_id               speaker speaker_type  conversation_id  \\\n",
       "0  2014_13-553  j__john_g_roberts_jr            J            23291   \n",
       "1  2014_13-553      andrew_l_brasher            A            23291   \n",
       "\n",
       "                                                text  \n",
       "0  we'll hear argument next in case no. 13-553, t...  \n",
       "1  thank you, mr. chief justice, and may it pleas...  "
      ]
     },
     "execution_count": 12,
     "metadata": {},
     "output_type": "execute_result"
    }
   ],
   "source": [
    "utterances.head(2).loc[:, cols]"
   ]
  },
  {
   "attachments": {},
   "cell_type": "markdown",
   "metadata": {
    "slideshow": {
     "slide_type": "slide"
    }
   },
   "source": [
    "## Data Cleaning and Pre-Processing\n",
    "### Data Cleaning Steps:\n",
    "1. Limited cases to those that ruled either for the petitioner or respondent (removed undetermined)\n",
    "2. Removed cases with no utterances\n",
    "3. Cleaned utterance text\n",
    "4. Filtered cases to include last 5 years of dataset (2014-2019)\n"
   ]
  },
  {
   "attachments": {},
   "cell_type": "markdown",
   "metadata": {
    "slideshow": {
     "slide_type": "subslide"
    }
   },
   "source": [
    "### Data Processing Steps\n",
    "1. Tokenized utterance text\n",
    "2. Created utterances dataframes that includes tokenized text, case id, year, and winning side. These dataframes corresponded to:\n",
    "    -  All utterances within a case\n",
    "    - Judge utterances within a case\n",
    "    - Advocate (for petitioner) utterances within a case\n",
    "    - Adversary (for respondent) utterances within a case"
   ]
  },
  {
   "attachments": {},
   "cell_type": "markdown",
   "metadata": {
    "slideshow": {
     "slide_type": "slide"
    }
   },
   "source": [
    "## Pre-processed Datasets\n",
    "### All Utterances"
   ]
  },
  {
   "cell_type": "code",
   "execution_count": 13,
   "metadata": {
    "slideshow": {
     "slide_type": "fragment"
    }
   },
   "outputs": [
    {
     "data": {
      "text/html": [
       "<div>\n",
       "<style scoped>\n",
       "    .dataframe tbody tr th:only-of-type {\n",
       "        vertical-align: middle;\n",
       "    }\n",
       "\n",
       "    .dataframe tbody tr th {\n",
       "        vertical-align: top;\n",
       "    }\n",
       "\n",
       "    .dataframe thead th {\n",
       "        text-align: right;\n",
       "    }\n",
       "</style>\n",
       "<table border=\"1\" class=\"dataframe\">\n",
       "  <thead>\n",
       "    <tr style=\"text-align: right;\">\n",
       "      <th></th>\n",
       "      <th>case_id</th>\n",
       "      <th>tokens</th>\n",
       "      <th>win_side</th>\n",
       "    </tr>\n",
       "  </thead>\n",
       "  <tbody>\n",
       "    <tr>\n",
       "      <th>0</th>\n",
       "      <td>2014_13-553</td>\n",
       "      <td>[hear, argument, case, alabama, department, re...</td>\n",
       "      <td>1</td>\n",
       "    </tr>\n",
       "    <tr>\n",
       "      <th>1</th>\n",
       "      <td>2014_13-895</td>\n",
       "      <td>[hear, argument, case, number, alabama, legisl...</td>\n",
       "      <td>1</td>\n",
       "    </tr>\n",
       "  </tbody>\n",
       "</table>\n",
       "</div>"
      ],
      "text/plain": [
       "       case_id                                             tokens  win_side\n",
       "0  2014_13-553  [hear, argument, case, alabama, department, re...         1\n",
       "1  2014_13-895  [hear, argument, case, number, alabama, legisl...         1"
      ]
     },
     "execution_count": 13,
     "metadata": {},
     "output_type": "execute_result"
    }
   ],
   "source": [
    "cases_proc.head(2)"
   ]
  },
  {
   "attachments": {},
   "cell_type": "markdown",
   "metadata": {
    "slideshow": {
     "slide_type": "subslide"
    }
   },
   "source": [
    "### Judge Utterances\n",
    "In addition to standard columns, includes columns on count of advocates for petitioner or respondent."
   ]
  },
  {
   "cell_type": "code",
   "execution_count": 14,
   "metadata": {
    "slideshow": {
     "slide_type": "fragment"
    }
   },
   "outputs": [
    {
     "data": {
      "text/html": [
       "<div>\n",
       "<style scoped>\n",
       "    .dataframe tbody tr th:only-of-type {\n",
       "        vertical-align: middle;\n",
       "    }\n",
       "\n",
       "    .dataframe tbody tr th {\n",
       "        vertical-align: top;\n",
       "    }\n",
       "\n",
       "    .dataframe thead th {\n",
       "        text-align: right;\n",
       "    }\n",
       "</style>\n",
       "<table border=\"1\" class=\"dataframe\">\n",
       "  <thead>\n",
       "    <tr style=\"text-align: right;\">\n",
       "      <th></th>\n",
       "      <th>case_id</th>\n",
       "      <th>tokens</th>\n",
       "      <th>win_side</th>\n",
       "    </tr>\n",
       "  </thead>\n",
       "  <tbody>\n",
       "    <tr>\n",
       "      <th>0</th>\n",
       "      <td>2014_13-553</td>\n",
       "      <td>[hear, argument, case, alabama, department, re...</td>\n",
       "      <td>1</td>\n",
       "    </tr>\n",
       "    <tr>\n",
       "      <th>1</th>\n",
       "      <td>2014_13-895</td>\n",
       "      <td>[hear, argument, case, number, alabama, legisl...</td>\n",
       "      <td>1</td>\n",
       "    </tr>\n",
       "  </tbody>\n",
       "</table>\n",
       "</div>"
      ],
      "text/plain": [
       "       case_id                                             tokens  win_side\n",
       "0  2014_13-553  [hear, argument, case, alabama, department, re...         1\n",
       "1  2014_13-895  [hear, argument, case, number, alabama, legisl...         1"
      ]
     },
     "execution_count": 14,
     "metadata": {},
     "output_type": "execute_result"
    }
   ],
   "source": [
    "judges_proc.head(2)"
   ]
  },
  {
   "attachments": {},
   "cell_type": "markdown",
   "metadata": {
    "slideshow": {
     "slide_type": "subslide"
    }
   },
   "source": [
    "### Advocate Utterances"
   ]
  },
  {
   "cell_type": "code",
   "execution_count": 15,
   "metadata": {
    "slideshow": {
     "slide_type": "fragment"
    }
   },
   "outputs": [
    {
     "data": {
      "text/html": [
       "<div>\n",
       "<style scoped>\n",
       "    .dataframe tbody tr th:only-of-type {\n",
       "        vertical-align: middle;\n",
       "    }\n",
       "\n",
       "    .dataframe tbody tr th {\n",
       "        vertical-align: top;\n",
       "    }\n",
       "\n",
       "    .dataframe thead th {\n",
       "        text-align: right;\n",
       "    }\n",
       "</style>\n",
       "<table border=\"1\" class=\"dataframe\">\n",
       "  <thead>\n",
       "    <tr style=\"text-align: right;\">\n",
       "      <th></th>\n",
       "      <th>case_id</th>\n",
       "      <th>tokens</th>\n",
       "      <th>win_side</th>\n",
       "    </tr>\n",
       "  </thead>\n",
       "  <tbody>\n",
       "    <tr>\n",
       "      <th>0</th>\n",
       "      <td>2014_13-553</td>\n",
       "      <td>[hear, argument, case, alabama, department, re...</td>\n",
       "      <td>1</td>\n",
       "    </tr>\n",
       "    <tr>\n",
       "      <th>1</th>\n",
       "      <td>2014_13-895</td>\n",
       "      <td>[mr, chief, justice, court, alabama, employ, r...</td>\n",
       "      <td>1</td>\n",
       "    </tr>\n",
       "  </tbody>\n",
       "</table>\n",
       "</div>"
      ],
      "text/plain": [
       "       case_id                                             tokens  win_side\n",
       "0  2014_13-553  [hear, argument, case, alabama, department, re...         1\n",
       "1  2014_13-895  [mr, chief, justice, court, alabama, employ, r...         1"
      ]
     },
     "execution_count": 15,
     "metadata": {},
     "output_type": "execute_result"
    }
   ],
   "source": [
    "advocate_proc.head(2)"
   ]
  },
  {
   "attachments": {},
   "cell_type": "markdown",
   "metadata": {
    "slideshow": {
     "slide_type": "subslide"
    }
   },
   "source": [
    "### Adversary Utterances"
   ]
  },
  {
   "cell_type": "code",
   "execution_count": 16,
   "metadata": {
    "slideshow": {
     "slide_type": "fragment"
    }
   },
   "outputs": [
    {
     "data": {
      "text/html": [
       "<div>\n",
       "<style scoped>\n",
       "    .dataframe tbody tr th:only-of-type {\n",
       "        vertical-align: middle;\n",
       "    }\n",
       "\n",
       "    .dataframe tbody tr th {\n",
       "        vertical-align: top;\n",
       "    }\n",
       "\n",
       "    .dataframe thead th {\n",
       "        text-align: right;\n",
       "    }\n",
       "</style>\n",
       "<table border=\"1\" class=\"dataframe\">\n",
       "  <thead>\n",
       "    <tr style=\"text-align: right;\">\n",
       "      <th></th>\n",
       "      <th>case_id</th>\n",
       "      <th>tokens</th>\n",
       "      <th>win_side</th>\n",
       "    </tr>\n",
       "  </thead>\n",
       "  <tbody>\n",
       "    <tr>\n",
       "      <th>0</th>\n",
       "      <td>2014_13-553</td>\n",
       "      <td>[handpicked, business, transport, good, motor,...</td>\n",
       "      <td>1</td>\n",
       "    </tr>\n",
       "    <tr>\n",
       "      <th>1</th>\n",
       "      <td>2014_13-895</td>\n",
       "      <td>[hear, argument, case, number, alabama, legisl...</td>\n",
       "      <td>1</td>\n",
       "    </tr>\n",
       "  </tbody>\n",
       "</table>\n",
       "</div>"
      ],
      "text/plain": [
       "       case_id                                             tokens  win_side\n",
       "0  2014_13-553  [handpicked, business, transport, good, motor,...         1\n",
       "1  2014_13-895  [hear, argument, case, number, alabama, legisl...         1"
      ]
     },
     "execution_count": 16,
     "metadata": {},
     "output_type": "execute_result"
    }
   ],
   "source": [
    "adversary_proc.head(2)"
   ]
  },
  {
   "attachments": {},
   "cell_type": "markdown",
   "metadata": {
    "slideshow": {
     "slide_type": "slide"
    }
   },
   "source": [
    "## Model and Evaulation Overviews\n",
    "- Logistic Regression\n",
    "- Gradient Boosted Tree Model\n",
    "- Random Forest"
   ]
  },
  {
   "attachments": {},
   "cell_type": "markdown",
   "metadata": {
    "slideshow": {
     "slide_type": "subslide"
    }
   },
   "source": [
    "### Logistic Regression\n",
    "\n",
    "What is a Logistic Regression model? Logistic regression in machine learning is a supervised learning model that predicts the probability of a binary outcome based on training data. It is called a \"supervised learning approach\" because the model is trained on data where the outcome is known.\n",
    "\n",
    "Logistic regression is also a classification model because it predicts the probability of a binary outcome, where it predicts if the petitioner, given the 'bag of words,' won or lost the case. It is also worth noting that regularization can be added to the model to prevent overfitting. Within our current model, we decided against using that feature.\n",
    "\n",
    "**What are some limitations of the Logistic Regression model?**\n",
    "\n",
    "Logistic regression is limited because it assumes a linear relationship between independent and dependent variables. It can also not consider the more complex relationships between the utterances and the Court decisions. It comes up short as the end-all-be-all model for our data since Supreme Court decisions and the speech uttered within them are not independent. Each case cannot be viewed within a vacuum but is instead influenced by precedents and the social trends of its time. Logistic regression may account for the association between verdicts and utterances. Still, it cannot explain or make any statements regarding causality.\n",
    "\n",
    "**What were we able to conclude from our use of the Logistic Regression model?**\n",
    "\n",
    "We applied logistic regression models to four different datasets and observed the below results. We used the following hyperparameters as defaults in our regression: a test size of 0.20, a random state of 123, and a maximum of 1000 iterations.\n",
    "\n",
    "--Description of split in data\n",
    "\n",
    "-- Results in results (bar chart)\n",
    "\n",
    "All Utterances: This dataset comprises a bag of words created from all utterances in the cases between 2014 and 2019, including the judge, advocate, and adversary statements. The model achieved an accuracy of 54.05%, slightly better than random chance.\n",
    "\n",
    "Judge Utterances: This dataset only focuses on a bag of words from judge statements. The model's accuracy was 52.05%, underperforming compared to the model using all utterances.\n",
    "\n",
    "Advocate Utterances: Using a bag of words created solely from advocate statements, the model achieved an accuracy of 75.67%, significantly outperforming the model using all utterances.\n",
    "\n",
    "Adversary Utterances: This dataset consists of a bag of words derived only from adversary statements. The model obtained an accuracy of 78.37%, outperforming all other models and emerging as the best performer.\n",
    "\n",
    "In conclusion, models using advocate and adversary utterances independently have higher predictive power than models using judge utterances or a combination of all utterances."
   ]
  },
  {
   "attachments": {},
   "cell_type": "markdown",
   "metadata": {
    "slideshow": {
     "slide_type": "subslide"
    }
   },
   "source": [
    "### Gradient Boosted Tree Model\n",
    "\n",
    "XG Boost, short for Extreme Gradient Boosting is a tree ensemble model that uses gradient boosting to minimize the loss function. In XG Boost, each tree is grown sequentially, taking into account the previous tree's residuals and reweighting the observations accordingly.\n",
    "\n",
    "XG Boost is called an \"ensemble model\" because it uses several \"weak learners\" (decision trees, in this case) to obtain a more robust model by adjusting the tree model on every iteration. It is different than Random Forest because, instead of averaging all of the weak learners' results to make the final prediction, it adjusts the model on every iteration by using the previous model's residuals as the new target variable. This allows the model to learn from its mistakes and improve on every iteration.\n",
    "\n",
    "**What are some limitations of the XG Boost model?**\n",
    "\n",
    "As with most ensemble models, XGBoost is very hard to interpret since it considers multiple decision trees to get the final prediction.\n",
    "\n",
    "One crucial limitation of the XG Boost model is that it can easily lead to overfitting if the parameters are not properly tuned. This means that XG Boost may practically 'learn' the training data, but may not generalize well to unseen data. The model is also very sensible to outliers and noisy data, which can affect its overall performance.\n",
    "\n",
    "**What were we able to conclude from our use of the XG Boost model?**\n",
    "\n",
    "A crucial insight is that ensemble models tend to perform better than 'single' models. In this case, XG Boost uses several decision trees to make the final prediction while adjusting the model on every iteration. This allows the model to learn from its mistakes and improve on every iteration, which leads to a better overall performance.\n",
    "\n",
    "On the other hand, however, ease of interpretation is lost, and a lengthy finetuning process is necessary to get the best set of hyperparameters for our context."
   ]
  },
  {
   "attachments": {},
   "cell_type": "markdown",
   "metadata": {
    "slideshow": {
     "slide_type": "subslide"
    }
   },
   "source": [
    "### Random Forest\n",
    "\n",
    "Random Forest is an ensemble of multiple decision trees that combines bagging and random feature selection. Random Forest is trained through bagging, or different bootstraps of training data and returns the majority vote of multiple decision trees that split on a random subset of features.\n",
    "\n",
    "**What are some limitations of the Random Forest model?**\n",
    "\n",
    "It is harder to interpret a Random Forest model than a decision tree because we cannot follow through the decision process like a decision tree. With bagging and random subsets of features, it takes longer and, therefore, more resources to train a random forest model.\n",
    "\n",
    "The predictions provided by the bag of words CountVectorizer are based solely on word frequency. This does not account for the complex linguistic relationship between phrases and ideas. A more complex vectorizer such as tf-idf could help better account for complex expressions and thoughts contained within the utterances.\n",
    "\n",
    "**What were we able to conclude from our use of the Random Forest model?**\n",
    "\n",
    "We picked the Random Forest model because we needed to capture the complex interactions among different words in unstructured data, to avoid overfitting our model by training on multiple decision trees, and to rank the importance of different words on the predicted outcome. We can confirm the model's accuracy by predicting case outcomes from the results, which gives us a view of each unique word's importance. If we were to use this model for cross-validation, or out-of-sample data, we could also see how well the model generalizes and avoids overfitting."
   ]
  },
  {
   "attachments": {},
   "cell_type": "markdown",
   "metadata": {
    "slideshow": {
     "slide_type": "subslide"
    }
   },
   "source": [
    "### Evaluation Metrics: Accuracy and F1 Score"
   ]
  },
  {
   "cell_type": "code",
   "execution_count": 17,
   "metadata": {
    "slideshow": {
     "slide_type": "fragment"
    }
   },
   "outputs": [
    {
     "data": {
      "text/html": [
       "<div>\n",
       "<style scoped>\n",
       "    .dataframe tbody tr th:only-of-type {\n",
       "        vertical-align: middle;\n",
       "    }\n",
       "\n",
       "    .dataframe tbody tr th {\n",
       "        vertical-align: top;\n",
       "    }\n",
       "\n",
       "    .dataframe thead th {\n",
       "        text-align: right;\n",
       "    }\n",
       "</style>\n",
       "<table border=\"1\" class=\"dataframe\">\n",
       "  <thead>\n",
       "    <tr style=\"text-align: right;\">\n",
       "      <th></th>\n",
       "      <th></th>\n",
       "      <th>counts</th>\n",
       "      <th>percentages</th>\n",
       "    </tr>\n",
       "  </thead>\n",
       "  <tbody>\n",
       "    <tr>\n",
       "      <th rowspan=\"2\" valign=\"top\">win side</th>\n",
       "      <th>for petitioner</th>\n",
       "      <td>284.0</td>\n",
       "      <td>66.510539</td>\n",
       "    </tr>\n",
       "    <tr>\n",
       "      <th>for respondent</th>\n",
       "      <td>143.0</td>\n",
       "      <td>33.489461</td>\n",
       "    </tr>\n",
       "  </tbody>\n",
       "</table>\n",
       "</div>"
      ],
      "text/plain": [
       "                         counts  percentages\n",
       "win side for petitioner   284.0    66.510539\n",
       "         for respondent   143.0    33.489461"
      ]
     },
     "execution_count": 17,
     "metadata": {},
     "output_type": "execute_result"
    }
   ],
   "source": [
    "ds.cases_stats.head(2)"
   ]
  },
  {
   "attachments": {},
   "cell_type": "markdown",
   "metadata": {
    "slideshow": {
     "slide_type": "fragment"
    }
   },
   "source": [
    "<span style=\"color:red\"><b>[insert explanation for accuracy]</b></span>"
   ]
  },
  {
   "attachments": {},
   "cell_type": "markdown",
   "metadata": {
    "slideshow": {
     "slide_type": "fragment"
    }
   },
   "source": [
    "<span style=\"color:red\"><b>[insert explanation for f1 score]</b></span>\n",
    "\n",
    "The majority (approximately 67%) of cases were voted in favor of the petitioner (win_side=1)"
   ]
  },
  {
   "attachments": {},
   "cell_type": "markdown",
   "metadata": {
    "slideshow": {
     "slide_type": "slide"
    }
   },
   "source": [
    "## Logistic Regression\n",
    "### Default Parameters"
   ]
  },
  {
   "attachments": {},
   "cell_type": "markdown",
   "metadata": {
    "slideshow": {
     "slide_type": "fragment"
    }
   },
   "source": [
    "- **Maximum number of featuers**: 5000\n",
    "- **Maximum number of iterations**: 1000\n",
    "- **Test size**: 0.20"
   ]
  },
  {
   "attachments": {},
   "cell_type": "markdown",
   "metadata": {
    "slideshow": {
     "slide_type": "subslide"
    }
   },
   "source": [
    "### Accuracies and F1 Score"
   ]
  },
  {
   "cell_type": "code",
   "execution_count": 18,
   "metadata": {
    "slideshow": {
     "slide_type": "fragment"
    }
   },
   "outputs": [
    {
     "data": {
      "text/html": [
       "<div>\n",
       "<style scoped>\n",
       "    .dataframe tbody tr th:only-of-type {\n",
       "        vertical-align: middle;\n",
       "    }\n",
       "\n",
       "    .dataframe tbody tr th {\n",
       "        vertical-align: top;\n",
       "    }\n",
       "\n",
       "    .dataframe thead th {\n",
       "        text-align: right;\n",
       "    }\n",
       "</style>\n",
       "<table border=\"1\" class=\"dataframe\">\n",
       "  <thead>\n",
       "    <tr style=\"text-align: right;\">\n",
       "      <th></th>\n",
       "      <th>dataset</th>\n",
       "      <th>accuracy</th>\n",
       "      <th>f1_score</th>\n",
       "    </tr>\n",
       "  </thead>\n",
       "  <tbody>\n",
       "    <tr>\n",
       "      <th>0</th>\n",
       "      <td>case_aggregations</td>\n",
       "      <td>0.540541</td>\n",
       "      <td>0.653061</td>\n",
       "    </tr>\n",
       "    <tr>\n",
       "      <th>1</th>\n",
       "      <td>judge_aggregations</td>\n",
       "      <td>0.520548</td>\n",
       "      <td>0.646465</td>\n",
       "    </tr>\n",
       "    <tr>\n",
       "      <th>2</th>\n",
       "      <td>advocate_aggregations</td>\n",
       "      <td>0.756757</td>\n",
       "      <td>0.808511</td>\n",
       "    </tr>\n",
       "    <tr>\n",
       "      <th>3</th>\n",
       "      <td>adversary_aggregations</td>\n",
       "      <td>0.783784</td>\n",
       "      <td>0.843137</td>\n",
       "    </tr>\n",
       "  </tbody>\n",
       "</table>\n",
       "</div>"
      ],
      "text/plain": [
       "                  dataset  accuracy  f1_score\n",
       "0       case_aggregations  0.540541  0.653061\n",
       "1      judge_aggregations  0.520548  0.646465\n",
       "2   advocate_aggregations  0.756757  0.808511\n",
       "3  adversary_aggregations  0.783784  0.843137"
      ]
     },
     "execution_count": 18,
     "metadata": {},
     "output_type": "execute_result"
    }
   ],
   "source": [
    "acc = dict_to_df([\"dataset\", \"accuracy\", \"f1_score\"], lr.accuracies, lr.f1)\n",
    "acc"
   ]
  },
  {
   "cell_type": "code",
   "execution_count": 19,
   "metadata": {
    "slideshow": {
     "slide_type": "subslide"
    }
   },
   "outputs": [
    {
     "data": {
      "image/png": "[encoded data removed]",
      "text/plain": [
       "<Figure size 864x576 with 1 Axes>"
      ]
     },
     "metadata": {
      "needs_background": "light"
     },
     "output_type": "display_data"
    }
   ],
   "source": [
    "disp_accuracy(acc, labs=list(acc[\"dataset\"]))"
   ]
  },
  {
   "attachments": {},
   "cell_type": "markdown",
   "metadata": {
    "slideshow": {
     "slide_type": "subslide"
    }
   },
   "source": [
    "### Confusion Matrices\n",
    "#### Logistic Regression Model - All Utterances"
   ]
  },
  {
   "cell_type": "code",
   "execution_count": 20,
   "metadata": {
    "slideshow": {
     "slide_type": "fragment"
    }
   },
   "outputs": [
    {
     "data": {
      "image/png": "[encoded data removed]",
      "text/plain": [
       "<Figure size 432x288 with 2 Axes>"
      ]
     },
     "metadata": {
      "needs_background": "light"
     },
     "output_type": "display_data"
    }
   ],
   "source": [
    "disp_conf_matrix(lr.confusion_matrix[\"case_aggregations\"])"
   ]
  },
  {
   "attachments": {},
   "cell_type": "markdown",
   "metadata": {
    "slideshow": {
     "slide_type": "subslide"
    }
   },
   "source": [
    "#### Logistic Regression Model - Judge Utterances"
   ]
  },
  {
   "cell_type": "code",
   "execution_count": 21,
   "metadata": {
    "slideshow": {
     "slide_type": "fragment"
    }
   },
   "outputs": [
    {
     "data": {
      "image/png": "[encoded data removed]",
      "text/plain": [
       "<Figure size 432x288 with 2 Axes>"
      ]
     },
     "metadata": {
      "needs_background": "light"
     },
     "output_type": "display_data"
    }
   ],
   "source": [
    "disp_conf_matrix(lr.confusion_matrix[\"judge_aggregations\"])"
   ]
  },
  {
   "attachments": {},
   "cell_type": "markdown",
   "metadata": {
    "slideshow": {
     "slide_type": "subslide"
    }
   },
   "source": [
    "#### Logistic Regression Model - Advocate Utterances"
   ]
  },
  {
   "cell_type": "code",
   "execution_count": 22,
   "metadata": {
    "slideshow": {
     "slide_type": "fragment"
    }
   },
   "outputs": [
    {
     "data": {
      "image/png": "[encoded data removed]",
      "text/plain": [
       "<Figure size 432x288 with 2 Axes>"
      ]
     },
     "metadata": {
      "needs_background": "light"
     },
     "output_type": "display_data"
    }
   ],
   "source": [
    "disp_conf_matrix(lr.confusion_matrix[\"advocate_aggregations\"])"
   ]
  },
  {
   "attachments": {},
   "cell_type": "markdown",
   "metadata": {
    "slideshow": {
     "slide_type": "subslide"
    }
   },
   "source": [
    "#### Logistic Regression Model - Adversary Utterances"
   ]
  },
  {
   "cell_type": "code",
   "execution_count": 23,
   "metadata": {
    "slideshow": {
     "slide_type": "fragment"
    }
   },
   "outputs": [
    {
     "data": {
      "image/png": "[encoded data removed]",
      "text/plain": [
       "<Figure size 432x288 with 2 Axes>"
      ]
     },
     "metadata": {
      "needs_background": "light"
     },
     "output_type": "display_data"
    }
   ],
   "source": [
    "disp_conf_matrix(lr.confusion_matrix[\"adversary_aggregations\"])"
   ]
  },
  {
   "attachments": {},
   "cell_type": "markdown",
   "metadata": {
    "slideshow": {
     "slide_type": "subslide"
    }
   },
   "source": [
    "### Hyperparameter Tuning"
   ]
  },
  {
   "attachments": {},
   "cell_type": "markdown",
   "metadata": {
    "slideshow": {
     "slide_type": "fragment"
    }
   },
   "source": [
    "<span style=\"color:red\"><b>[insert plots]</b></span>"
   ]
  },
  {
   "attachments": {},
   "cell_type": "markdown",
   "metadata": {
    "slideshow": {
     "slide_type": "slide"
    }
   },
   "source": [
    "## Random Forest\n",
    "### Default Parameters"
   ]
  },
  {
   "attachments": {},
   "cell_type": "markdown",
   "metadata": {
    "slideshow": {
     "slide_type": "fragment"
    }
   },
   "source": [
    "- **Maximum Depth**: None\n",
    "- **Maximum Features**: 5000\n",
    "- **Number of trees**: 100\n",
    "- **Test Size**: 0.20"
   ]
  },
  {
   "attachments": {},
   "cell_type": "markdown",
   "metadata": {
    "slideshow": {
     "slide_type": "subslide"
    }
   },
   "source": [
    "### Accuracies and F1 Score"
   ]
  },
  {
   "cell_type": "code",
   "execution_count": 24,
   "metadata": {
    "slideshow": {
     "slide_type": "fragment"
    }
   },
   "outputs": [
    {
     "data": {
      "text/html": [
       "<div>\n",
       "<style scoped>\n",
       "    .dataframe tbody tr th:only-of-type {\n",
       "        vertical-align: middle;\n",
       "    }\n",
       "\n",
       "    .dataframe tbody tr th {\n",
       "        vertical-align: top;\n",
       "    }\n",
       "\n",
       "    .dataframe thead th {\n",
       "        text-align: right;\n",
       "    }\n",
       "</style>\n",
       "<table border=\"1\" class=\"dataframe\">\n",
       "  <thead>\n",
       "    <tr style=\"text-align: right;\">\n",
       "      <th></th>\n",
       "      <th>dataset</th>\n",
       "      <th>accuracy</th>\n",
       "      <th>f1_score</th>\n",
       "    </tr>\n",
       "  </thead>\n",
       "  <tbody>\n",
       "    <tr>\n",
       "      <th>0</th>\n",
       "      <td>case_aggregations</td>\n",
       "      <td>0.621622</td>\n",
       "      <td>0.766667</td>\n",
       "    </tr>\n",
       "    <tr>\n",
       "      <th>1</th>\n",
       "      <td>judge_aggregations</td>\n",
       "      <td>0.643836</td>\n",
       "      <td>0.783333</td>\n",
       "    </tr>\n",
       "    <tr>\n",
       "      <th>2</th>\n",
       "      <td>advocate_aggregations</td>\n",
       "      <td>0.810811</td>\n",
       "      <td>0.862745</td>\n",
       "    </tr>\n",
       "    <tr>\n",
       "      <th>3</th>\n",
       "      <td>adversary_aggregations</td>\n",
       "      <td>0.837838</td>\n",
       "      <td>0.880000</td>\n",
       "    </tr>\n",
       "  </tbody>\n",
       "</table>\n",
       "</div>"
      ],
      "text/plain": [
       "                  dataset  accuracy  f1_score\n",
       "0       case_aggregations  0.621622  0.766667\n",
       "1      judge_aggregations  0.643836  0.783333\n",
       "2   advocate_aggregations  0.810811  0.862745\n",
       "3  adversary_aggregations  0.837838  0.880000"
      ]
     },
     "execution_count": 24,
     "metadata": {},
     "output_type": "execute_result"
    }
   ],
   "source": [
    "acc = dict_to_df([\"dataset\", \"accuracy\", \"f1_score\"], rf.accuracies, rf.f1)\n",
    "acc"
   ]
  },
  {
   "cell_type": "code",
   "execution_count": 25,
   "metadata": {
    "slideshow": {
     "slide_type": "subslide"
    }
   },
   "outputs": [
    {
     "data": {
      "image/png": "[encoded data removed]",
      "text/plain": [
       "<Figure size 864x576 with 1 Axes>"
      ]
     },
     "metadata": {
      "needs_background": "light"
     },
     "output_type": "display_data"
    }
   ],
   "source": [
    "disp_accuracy(acc, labs=acc[\"dataset\"])"
   ]
  },
  {
   "attachments": {},
   "cell_type": "markdown",
   "metadata": {
    "slideshow": {
     "slide_type": "subslide"
    }
   },
   "source": [
    "### Confusion Matrices\n",
    "#### Random Forest Model - All Utterances"
   ]
  },
  {
   "cell_type": "code",
   "execution_count": 26,
   "metadata": {
    "slideshow": {
     "slide_type": "fragment"
    }
   },
   "outputs": [
    {
     "data": {
      "image/png": "[encoded data removed]",
      "text/plain": [
       "<Figure size 432x288 with 2 Axes>"
      ]
     },
     "metadata": {
      "needs_background": "light"
     },
     "output_type": "display_data"
    }
   ],
   "source": [
    "disp_conf_matrix(rf.confusion_matrix[\"case_aggregations\"])"
   ]
  },
  {
   "attachments": {},
   "cell_type": "markdown",
   "metadata": {
    "slideshow": {
     "slide_type": "subslide"
    }
   },
   "source": [
    "#### Random Forest Model - Judge Utterances"
   ]
  },
  {
   "cell_type": "code",
   "execution_count": 27,
   "metadata": {
    "slideshow": {
     "slide_type": "fragment"
    }
   },
   "outputs": [
    {
     "data": {
      "image/png": "[encoded data removed]",
      "text/plain": [
       "<Figure size 432x288 with 2 Axes>"
      ]
     },
     "metadata": {
      "needs_background": "light"
     },
     "output_type": "display_data"
    }
   ],
   "source": [
    "disp_conf_matrix(rf.confusion_matrix[\"judge_aggregations\"])"
   ]
  },
  {
   "attachments": {},
   "cell_type": "markdown",
   "metadata": {
    "slideshow": {
     "slide_type": "subslide"
    }
   },
   "source": [
    "#### Random Forest Model - Advocate Utterances"
   ]
  },
  {
   "cell_type": "code",
   "execution_count": 28,
   "metadata": {
    "slideshow": {
     "slide_type": "fragment"
    }
   },
   "outputs": [
    {
     "data": {
      "image/png": "[encoded data removed]",
      "text/plain": [
       "<Figure size 432x288 with 2 Axes>"
      ]
     },
     "metadata": {
      "needs_background": "light"
     },
     "output_type": "display_data"
    }
   ],
   "source": [
    "disp_conf_matrix(rf.confusion_matrix[\"advocate_aggregations\"])"
   ]
  },
  {
   "attachments": {},
   "cell_type": "markdown",
   "metadata": {
    "slideshow": {
     "slide_type": "subslide"
    }
   },
   "source": [
    "#### Random Forest Model - Adversary Utterances"
   ]
  },
  {
   "cell_type": "code",
   "execution_count": 29,
   "metadata": {
    "slideshow": {
     "slide_type": "fragment"
    }
   },
   "outputs": [
    {
     "data": {
      "image/png": "[encoded data removed]",
      "text/plain": [
       "<Figure size 432x288 with 2 Axes>"
      ]
     },
     "metadata": {
      "needs_background": "light"
     },
     "output_type": "display_data"
    }
   ],
   "source": [
    "disp_conf_matrix(rf.confusion_matrix[\"adversary_aggregations\"])"
   ]
  },
  {
   "attachments": {},
   "cell_type": "markdown",
   "metadata": {
    "slideshow": {
     "slide_type": "subslide"
    }
   },
   "source": [
    "### Hyperparameter Tuning"
   ]
  },
  {
   "attachments": {},
   "cell_type": "markdown",
   "metadata": {},
   "source": [
    "`INSERT PLOTS`"
   ]
  },
  {
   "attachments": {},
   "cell_type": "markdown",
   "metadata": {
    "slideshow": {
     "slide_type": "slide"
    }
   },
   "source": [
    "## Gradient Boosted Tree\n",
    "### Default Parameters"
   ]
  },
  {
   "attachments": {},
   "cell_type": "markdown",
   "metadata": {
    "slideshow": {
     "slide_type": "fragment"
    }
   },
   "source": [
    "- **Maximum number of features**: 5000\n",
    "- **Test size**: 0.20\n",
    "- **Maximum depth**: 7\n",
    "- **Number of estimators**: 100\n",
    "- **Learning rate**: 0.3\n",
    "- **Subsample**: 1"
   ]
  },
  {
   "attachments": {},
   "cell_type": "markdown",
   "metadata": {
    "slideshow": {
     "slide_type": "subslide"
    }
   },
   "source": [
    "### Accuracies and F1 Score"
   ]
  },
  {
   "cell_type": "code",
   "execution_count": 30,
   "metadata": {
    "slideshow": {
     "slide_type": "fragment"
    }
   },
   "outputs": [
    {
     "data": {
      "text/html": [
       "<div>\n",
       "<style scoped>\n",
       "    .dataframe tbody tr th:only-of-type {\n",
       "        vertical-align: middle;\n",
       "    }\n",
       "\n",
       "    .dataframe tbody tr th {\n",
       "        vertical-align: top;\n",
       "    }\n",
       "\n",
       "    .dataframe thead th {\n",
       "        text-align: right;\n",
       "    }\n",
       "</style>\n",
       "<table border=\"1\" class=\"dataframe\">\n",
       "  <thead>\n",
       "    <tr style=\"text-align: right;\">\n",
       "      <th></th>\n",
       "      <th>dataset</th>\n",
       "      <th>accuracy</th>\n",
       "      <th>f1_score</th>\n",
       "    </tr>\n",
       "  </thead>\n",
       "  <tbody>\n",
       "    <tr>\n",
       "      <th>0</th>\n",
       "      <td>case_aggregations</td>\n",
       "      <td>0.567568</td>\n",
       "      <td>0.680000</td>\n",
       "    </tr>\n",
       "    <tr>\n",
       "      <th>1</th>\n",
       "      <td>judge_aggregations</td>\n",
       "      <td>0.547945</td>\n",
       "      <td>0.697248</td>\n",
       "    </tr>\n",
       "    <tr>\n",
       "      <th>2</th>\n",
       "      <td>advocate_aggregations</td>\n",
       "      <td>0.810811</td>\n",
       "      <td>0.860000</td>\n",
       "    </tr>\n",
       "    <tr>\n",
       "      <th>3</th>\n",
       "      <td>adversary_aggregations</td>\n",
       "      <td>0.824324</td>\n",
       "      <td>0.863158</td>\n",
       "    </tr>\n",
       "  </tbody>\n",
       "</table>\n",
       "</div>"
      ],
      "text/plain": [
       "                  dataset  accuracy  f1_score\n",
       "0       case_aggregations  0.567568  0.680000\n",
       "1      judge_aggregations  0.547945  0.697248\n",
       "2   advocate_aggregations  0.810811  0.860000\n",
       "3  adversary_aggregations  0.824324  0.863158"
      ]
     },
     "execution_count": 30,
     "metadata": {},
     "output_type": "execute_result"
    }
   ],
   "source": [
    "acc = dict_to_df([\"dataset\", \"accuracy\", \"f1_score\"], xg.accuracies, xg.f1)\n",
    "acc"
   ]
  },
  {
   "cell_type": "code",
   "execution_count": 32,
   "metadata": {
    "slideshow": {
     "slide_type": "subslide"
    }
   },
   "outputs": [
    {
     "data": {
      "image/png": "[encoded data removed]",
      "text/plain": [
       "<Figure size 864x576 with 1 Axes>"
      ]
     },
     "metadata": {
      "needs_background": "light"
     },
     "output_type": "display_data"
    }
   ],
   "source": [
    "disp_accuracy(acc, labs=acc[\"dataset\"])"
   ]
  },
  {
   "attachments": {},
   "cell_type": "markdown",
   "metadata": {
    "slideshow": {
     "slide_type": "subslide"
    }
   },
   "source": [
    "### Confusion Matrices\n",
    "#### Gradient Boosted Tree Model - All Utterances"
   ]
  },
  {
   "cell_type": "code",
   "execution_count": 33,
   "metadata": {
    "slideshow": {
     "slide_type": "fragment"
    }
   },
   "outputs": [
    {
     "data": {
      "image/png": "[encoded data removed]",
      "text/plain": [
       "<Figure size 432x288 with 2 Axes>"
      ]
     },
     "metadata": {
      "needs_background": "light"
     },
     "output_type": "display_data"
    }
   ],
   "source": [
    "disp_conf_matrix(xg.confusion_matrix[\"case_aggregations\"])"
   ]
  },
  {
   "attachments": {},
   "cell_type": "markdown",
   "metadata": {
    "slideshow": {
     "slide_type": "subslide"
    }
   },
   "source": [
    "#### Gradient Boosted Tree Model - Judge Utterances"
   ]
  },
  {
   "cell_type": "code",
   "execution_count": 34,
   "metadata": {
    "slideshow": {
     "slide_type": "fragment"
    }
   },
   "outputs": [
    {
     "data": {
      "image/png": "[encoded data removed]",
      "text/plain": [
       "<Figure size 432x288 with 2 Axes>"
      ]
     },
     "metadata": {
      "needs_background": "light"
     },
     "output_type": "display_data"
    }
   ],
   "source": [
    "disp_conf_matrix(xg.confusion_matrix[\"judge_aggregations\"])"
   ]
  },
  {
   "attachments": {},
   "cell_type": "markdown",
   "metadata": {
    "slideshow": {
     "slide_type": "subslide"
    }
   },
   "source": [
    "#### Gradient Boosted Tree Model - Advocate Utterances"
   ]
  },
  {
   "cell_type": "code",
   "execution_count": 35,
   "metadata": {
    "slideshow": {
     "slide_type": "fragment"
    }
   },
   "outputs": [
    {
     "data": {
      "image/png": "[encoded data removed]",
      "text/plain": [
       "<Figure size 432x288 with 2 Axes>"
      ]
     },
     "metadata": {
      "needs_background": "light"
     },
     "output_type": "display_data"
    }
   ],
   "source": [
    "disp_conf_matrix(xg.confusion_matrix[\"advocate_aggregations\"])"
   ]
  },
  {
   "attachments": {},
   "cell_type": "markdown",
   "metadata": {
    "slideshow": {
     "slide_type": "subslide"
    }
   },
   "source": [
    "#### Gradient Boosted Tree Model - Adversary Utterances"
   ]
  },
  {
   "cell_type": "code",
   "execution_count": 36,
   "metadata": {
    "slideshow": {
     "slide_type": "fragment"
    }
   },
   "outputs": [
    {
     "data": {
      "image/png": "[encoded data removed]",
      "text/plain": [
       "<Figure size 432x288 with 2 Axes>"
      ]
     },
     "metadata": {
      "needs_background": "light"
     },
     "output_type": "display_data"
    }
   ],
   "source": [
    "disp_conf_matrix(xg.confusion_matrix[\"adversary_aggregations\"])"
   ]
  },
  {
   "attachments": {},
   "cell_type": "markdown",
   "metadata": {
    "slideshow": {
     "slide_type": "subslide"
    }
   },
   "source": [
    "### Hyperparameter Tuning"
   ]
  },
  {
   "cell_type": "code",
   "execution_count": 38,
   "metadata": {},
   "outputs": [],
   "source": [
    "# Create an array of different values to test\n",
    "eta_values = [0.1, 0.2, 0.3, 0.4, 0.5, 0.6, 0.7, 0.8, 0.9, 1]\n",
    "subsample_values = [0.1, 0.2, 0.3, 0.4, 0.5, 0.6, 0.7, 0.8, 0.9, 1]\n",
    "max_depth_values = [1, 2, 3, 4, 5, 6, 7, 8, 9, 10]"
   ]
  },
  {
   "attachments": {},
   "cell_type": "markdown",
   "metadata": {},
   "source": [
    "#### Eta (Learning Rate) Finetuning"
   ]
  },
  {
   "cell_type": "code",
   "execution_count": 43,
   "metadata": {},
   "outputs": [],
   "source": [
    "accuracy_dicts = []\n",
    "f1_dicts = []\n",
    "confusion_matrix_dicts = []\n",
    "\n",
    "for eta_value in eta_values:\n",
    "    xgboost_model = XGBoost(debug_mode=False, eta=eta_value)\n",
    "    xgboost_model.run()\n",
    "\n",
    "    accuracy_dicts.append(xgboost_model.accuracies)\n",
    "    f1_dicts.append(xgboost_model.f1)\n",
    "\n",
    "print(\"Done parameter finetuning for eta\")\n",
    "\n",
    "eta_melted, eta_f1_melted = get_long_df(\n",
    "    \"eta\", eta_values, accuracy_dicts, f1_dicts\n",
    ")"
   ]
  },
  {
   "cell_type": "code",
   "execution_count": 46,
   "metadata": {},
   "outputs": [
    {
     "data": {
      "image/png": "[encoded data removed]",
      "text/plain": [
       "<Figure size 914.4x667.44 with 1 Axes>"
      ]
     },
     "metadata": {
      "needs_background": "light"
     },
     "output_type": "display_data"
    },
    {
     "data": {
      "image/png": "[encoded data removed]",
      "text/plain": [
       "<Figure size 914.4x667.44 with 1 Axes>"
      ]
     },
     "metadata": {
      "needs_background": "light"
     },
     "output_type": "display_data"
    }
   ],
   "source": [
    "plot_accuracy_scores(eta_melted, \"eta\", \"XG Boost\")\n",
    "plot_accuracy_scores(eta_f1_melted, \"eta\", \"XG Boost\", accuracy_metric=\"F1\")"
   ]
  },
  {
   "attachments": {},
   "cell_type": "markdown",
   "metadata": {},
   "source": [
    "#### Maximum Tree Depth Finetuning"
   ]
  },
  {
   "cell_type": "code",
   "execution_count": 47,
   "metadata": {},
   "outputs": [
    {
     "name": "stdout",
     "output_type": "stream",
     "text": [
      "Done parameter finetuning for max_depth\n"
     ]
    }
   ],
   "source": [
    "accuracy_dicts = []\n",
    "f1_dicts = []\n",
    "confusion_matrix_dicts = []\n",
    "\n",
    "for max_depth_value in max_depth_values:\n",
    "    xgboost_model = XGBoost(debug_mode=False, max_depth=max_depth_value)\n",
    "    xgboost_model.run()\n",
    "\n",
    "    accuracy_dicts.append(xgboost_model.accuracies)\n",
    "    f1_dicts.append(xgboost_model.f1)\n",
    "\n",
    "print(\"Done parameter finetuning for max_depth\")\n",
    "\n",
    "max_depth_melted, max_depth_f1_melted = get_long_df(\n",
    "    \"Max Tree Depth\", max_depth_values, accuracy_dicts, f1_dicts\n",
    ")"
   ]
  },
  {
   "cell_type": "code",
   "execution_count": 48,
   "metadata": {},
   "outputs": [
    {
     "data": {
      "image/png": "[encoded data removed]",
      "text/plain": [
       "<Figure size 914.4x667.44 with 1 Axes>"
      ]
     },
     "metadata": {
      "needs_background": "light"
     },
     "output_type": "display_data"
    }
   ],
   "source": [
    "plot_accuracy_scores(max_depth_melted, 'Max Tree Depth', 'XG Boost')\n",
    "plot_accuracy_scores(max_depth_f1_melted, 'Max Tree Depth', 'XG Boost', accuracy_metric='F1')"
   ]
  },
  {
   "attachments": {},
   "cell_type": "markdown",
   "metadata": {},
   "source": []
  },
  {
   "cell_type": "code",
   "execution_count": null,
   "metadata": {},
   "outputs": [],
   "source": []
  },
  {
   "cell_type": "code",
   "execution_count": null,
   "metadata": {},
   "outputs": [],
   "source": []
  },
  {
   "attachments": {},
   "cell_type": "markdown",
   "metadata": {},
   "source": [
    "<span style=\"color:red\"><b>[insert plots]</b></span>"
   ]
  },
  {
   "attachments": {},
   "cell_type": "markdown",
   "metadata": {
    "slideshow": {
     "slide_type": "slide"
    }
   },
   "source": [
    "## Model Comparisons\n",
    "Using the advocate utterances dataframe as a case study"
   ]
  },
  {
   "cell_type": "code",
   "execution_count": 195,
   "metadata": {
    "slideshow": {
     "slide_type": "fragment"
    }
   },
   "outputs": [
    {
     "data": {
      "text/html": [
       "<div>\n",
       "<style scoped>\n",
       "    .dataframe tbody tr th:only-of-type {\n",
       "        vertical-align: middle;\n",
       "    }\n",
       "\n",
       "    .dataframe tbody tr th {\n",
       "        vertical-align: top;\n",
       "    }\n",
       "\n",
       "    .dataframe thead th {\n",
       "        text-align: right;\n",
       "    }\n",
       "</style>\n",
       "<table border=\"1\" class=\"dataframe\">\n",
       "  <thead>\n",
       "    <tr style=\"text-align: right;\">\n",
       "      <th></th>\n",
       "      <th>model</th>\n",
       "      <th>accuracy</th>\n",
       "      <th>f1_score</th>\n",
       "    </tr>\n",
       "  </thead>\n",
       "  <tbody>\n",
       "    <tr>\n",
       "      <th>0</th>\n",
       "      <td>logistic regression</td>\n",
       "      <td>0.783784</td>\n",
       "      <td>0.843137</td>\n",
       "    </tr>\n",
       "    <tr>\n",
       "      <th>1</th>\n",
       "      <td>random forest</td>\n",
       "      <td>0.810811</td>\n",
       "      <td>0.860000</td>\n",
       "    </tr>\n",
       "  </tbody>\n",
       "</table>\n",
       "</div>"
      ],
      "text/plain": [
       "                 model  accuracy  f1_score\n",
       "0  logistic regression  0.783784  0.843137\n",
       "1        random forest  0.810811  0.860000"
      ]
     },
     "execution_count": 195,
     "metadata": {},
     "output_type": "execute_result"
    }
   ],
   "source": [
    "model_comp"
   ]
  },
  {
   "cell_type": "code",
   "execution_count": 196,
   "metadata": {
    "slideshow": {
     "slide_type": "subslide"
    }
   },
   "outputs": [
    {
     "data": {
      "image/png": "[encoded data removed]",
      "text/plain": [
       "<Figure size 1200x800 with 1 Axes>"
      ]
     },
     "metadata": {},
     "output_type": "display_data"
    }
   ],
   "source": [
    "disp_accuracy(model_comp, labs=model_comp[\"model\"], x_label=\"Model\")"
   ]
  },
  {
   "attachments": {},
   "cell_type": "markdown",
   "metadata": {
    "slideshow": {
     "slide_type": "slide"
    }
   },
   "source": [
    "## Final Thoughts and Applications"
   ]
  },
  {
   "attachments": {},
   "cell_type": "markdown",
   "metadata": {
    "slideshow": {
     "slide_type": "fragment"
    }
   },
   "source": [
    "<span style=\"color:red\"><b>[insert]</b></span>"
   ]
  },
  {
   "attachments": {},
   "cell_type": "markdown",
   "metadata": {
    "slideshow": {
     "slide_type": "slide"
    }
   },
   "source": [
    "## Thank you!\n",
    "### Any Questions?"
   ]
  }
 ],
 "metadata": {
  "kernelspec": {
   "display_name": "supreme-court-predictions-sGlGetDh-py3.11",
   "language": "python",
   "name": "python3"
  },
  "language_info": {
   "codemirror_mode": {
    "name": "ipython",
    "version": 3
   },
   "file_extension": ".py",
   "mimetype": "text/x-python",
   "name": "python",
   "nbconvert_exporter": "python",
   "pygments_lexer": "ipython3",
   "version": "3.9.2"
  },
  "orig_nbformat": 4
 },
 "nbformat": 4,
 "nbformat_minor": 2
}
