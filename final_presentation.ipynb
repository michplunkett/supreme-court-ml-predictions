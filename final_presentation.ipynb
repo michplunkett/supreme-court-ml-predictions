{
 "cells": [
  {
   "cell_type": "code",
   "execution_count": 140,
   "metadata": {
    "slideshow": {
     "slide_type": "skip"
    }
   },
   "outputs": [],
   "source": [
    "# Setup - Datasets\n",
    "from IPython.display import Markdown\n",
    "import jupyter_black\n",
    "import pandas as pd\n",
    "import numpy as np\n",
    "\n",
    "jupyter_black.load()\n",
    "\n",
    "LABELS = np.array([\"for respondent\", \"for petitioner\"])\n",
    "\n",
    "\n",
    "# Loading dataframes\n",
    "from supreme_court_predictions.util.functions import get_full_data_pathway\n",
    "\n",
    "# Loading unprocessed dataframes\n",
    "data_path = get_full_data_pathway(\"clean_convokit/\")\n",
    "utterances = pd.read_csv(data_path + \"utterances_df.csv\")\n",
    "advocates = pd.read_csv(data_path + \"advocates_df.csv\")\n",
    "cases = pd.read_csv(data_path + \"cases_df.csv\")\n",
    "conversations = pd.read_csv(data_path + \"conversations_df.csv\")\n",
    "speakers = pd.read_csv(data_path + \"speakers_df.csv\")\n",
    "voters = pd.read_csv(data_path + \"voters_df.csv\")\n",
    "\n",
    "# Loading processed dataframes\n",
    "proc_data_path = get_full_data_pathway(\"processed/\")\n",
    "cases_proc = pd.read_pickle(proc_data_path + \"case_aggregations.p\")\n",
    "judges_proc = pd.read_pickle(proc_data_path + \"judge_aggregations.p\")\n",
    "adversary_proc = pd.read_pickle(proc_data_path + \"adversary_aggregations.p\")\n",
    "advocate_proc = pd.read_pickle(proc_data_path + \"advocate_aggregations.p\")\n",
    "\n",
    "# Loading descriptive statistics\n",
    "from supreme_court_predictions.summary_analysis.descriptive_statistics import (\n",
    "    DescriptiveStatistics,\n",
    ")\n",
    "\n",
    "ds = DescriptiveStatistics()\n",
    "ds.parse_all_data()"
   ]
  },
  {
   "cell_type": "code",
   "execution_count": 95,
   "metadata": {
    "slideshow": {
     "slide_type": "skip"
    }
   },
   "outputs": [],
   "source": [
    "# Setup - Models and plots\n",
    "# Load models\n",
    "from supreme_court_predictions.models.logistic_regression import (\n",
    "    LogisticRegression,\n",
    ")\n",
    "from supreme_court_predictions.models.random_forest import RandomForest\n",
    "from supreme_court_predictions.models.xg_boost import XGBoost\n",
    "\n",
    "lr = LogisticRegression()\n",
    "lr.run()\n",
    "\n",
    "rf = RandomForest()\n",
    "rf.run()\n",
    "\n",
    "xg = XGBoost()\n",
    "xg.run()\n",
    "\n",
    "# Model Comparison DF - using advocate utterances\n",
    "models = [\n",
    "    \"linear regression\",\n",
    "    \"random forest\",\n",
    "]  # TODO - add xg boost when possible\n",
    "accuracy = [\n",
    "    lr.accuracies[\"adversary_aggregations\"],\n",
    "    rf.accuracies[\"adversary_aggregations\"],\n",
    "]  # TODO - add xg boost when possible\n",
    "f1 = [\n",
    "    lr.f1[\"adversary_aggregations\"],\n",
    "    rf.f1[\"adversary_aggregations\"],\n",
    "]  # TODO - add xg boost when possible\n",
    "\n",
    "model_comp = {\"model\": models, \"accuracy\": accuracy, \"f1_score\": f1}\n",
    "model_comp = pd.DataFrame.from_dict(model_comp)\n",
    "\n",
    "\n",
    "# Setup for plots\n",
    "import matplotlib.pyplot as plt\n",
    "from sklearn.metrics import ConfusionMatrixDisplay\n",
    "\n",
    "%matplotlib inline"
   ]
  },
  {
   "cell_type": "code",
   "execution_count": 141,
   "metadata": {
    "slideshow": {
     "slide_type": "skip"
    }
   },
   "outputs": [],
   "source": [
    "# Helper Functions\n",
    "def dict_to_df(column_names, dict1, dict2=None):\n",
    "    \"\"\"\n",
    "    Transforms a dictionary to a dataframe for better presentation.\n",
    "\n",
    "    :param column_names (list): List of column names for dataframe.\n",
    "    :param dict1 (dictionary): Dictionary of data to convert.\n",
    "    :param dict1 (dictionary, optional): Dictionary of data to convert.\n",
    "    : return (DataFrame) DataFrame representation of dictionary.\n",
    "    \"\"\"\n",
    "\n",
    "    df = {}\n",
    "    df[column_names[0]] = list(dict1.keys())\n",
    "    df[column_names[1]] = list(dict1.values())\n",
    "\n",
    "    if dict2 != None:\n",
    "        df[column_names[2]] = list(dict2.values())\n",
    "\n",
    "    df = pd.DataFrame.from_dict(df)\n",
    "\n",
    "    return df\n",
    "\n",
    "\n",
    "def disp_accuracy(df, labs, x_label=\"Dataset\"):\n",
    "    \"\"\"\n",
    "    Creates a barchart representing the accuracy and f1 scores of a dataset.\n",
    "\n",
    "    :param df (DataFrame) Dataframe with three columns: dataset name, accuracy\n",
    "                          score, and F1 score.\n",
    "    \"\"\"\n",
    "    # set width of bar\n",
    "    barWidth = 0.25\n",
    "    fig = plt.subplots(figsize=(12, 8))\n",
    "\n",
    "    # set height of bar\n",
    "    accs = list(df[\"accuracy\"])\n",
    "    f1 = list(df[\"f1_score\"])\n",
    "\n",
    "    # Set position of bar on X axis\n",
    "    br1 = np.arange(len(df))\n",
    "    br2 = [x + barWidth for x in br1]\n",
    "\n",
    "    # Make the plot\n",
    "    plt.bar(\n",
    "        br1,\n",
    "        accs,\n",
    "        color=\"gray\",\n",
    "        width=barWidth,\n",
    "        edgecolor=\"grey\",\n",
    "        label=\"Accuracy\",\n",
    "    )\n",
    "    plt.bar(\n",
    "        br2,\n",
    "        f1,\n",
    "        color=\"blue\",\n",
    "        width=barWidth,\n",
    "        edgecolor=\"grey\",\n",
    "        label=\"F1 Score\",\n",
    "    )\n",
    "\n",
    "    # Adding Xticks\n",
    "    plt.xlabel(x_label, fontweight=\"bold\", fontsize=15)\n",
    "    plt.ylabel(\"Prop Correct Prediction\", fontweight=\"bold\", fontsize=15)\n",
    "    plt.xticks(\n",
    "        [r + barWidth for r in range(len(accs))],\n",
    "        labs,\n",
    "    )\n",
    "\n",
    "    plt.legend()\n",
    "    plt.show()\n",
    "\n",
    "\n",
    "def disp_conf_matrix(cm):\n",
    "    \"\"\"\n",
    "    Creates a plot of the confusion matrix.\n",
    "\n",
    "    :param cm (array): Confusion matrix to display.\n",
    "    \"\"\"\n",
    "    disp = ConfusionMatrixDisplay(\n",
    "        confusion_matrix=cm,\n",
    "        display_labels=LABELS,\n",
    "    )\n",
    "    disp.plot()\n",
    "    plt.show()"
   ]
  },
  {
   "attachments": {},
   "cell_type": "markdown",
   "metadata": {
    "slideshow": {
     "slide_type": "slide"
    }
   },
   "source": [
    "## Machine Learning Final Presentation\n",
    "### Predicting Outcomes of US Supreme Court Oral Arguments\n",
    "**Team Members: Federico Dominguez, Chanteria Milner, Jessup Jong, Michael Plunkett**"
   ]
  },
  {
   "attachments": {},
   "cell_type": "markdown",
   "metadata": {
    "slideshow": {
     "slide_type": "slide"
    }
   },
   "source": [
    "## Background\n",
    "- <b>Dataset</b>: Supreme Court Oral Arguments Corpus\n",
    "- <b>Souce</b>: Court transcripts from [oyez.org](https://www.oyez.org/), voting information from [Supreme Court Dataset](http://scdb.wustl.edu/index.php)\n",
    "- <b>Goal</b>: Predict case decision using case transcripts and NLP models\n"
   ]
  },
  {
   "attachments": {},
   "cell_type": "markdown",
   "metadata": {
    "slideshow": {
     "slide_type": "slide"
    }
   },
   "source": [
    "## Datasets\n",
    "### Six total datasets\n",
    "1. Cases\n",
    "2. Speakers\n",
    "3. Voters\n",
    "4. Advocates\n",
    "5. Conversations\n",
    "6. Utterances\n"
   ]
  },
  {
   "attachments": {},
   "cell_type": "markdown",
   "metadata": {
    "slideshow": {
     "slide_type": "subslide"
    }
   },
   "source": [
    "### Case Information\n",
    "Includes infromation on each <i>court case</i>, such as:\n",
    "- Unique case ID\n",
    "- Year and title of case\n",
    "- Case petitioner and respondent\n",
    "- Winning side (1 = for petitioner) and decision date"
   ]
  },
  {
   "cell_type": "code",
   "execution_count": 127,
   "metadata": {
    "slideshow": {
     "slide_type": "fragment"
    }
   },
   "outputs": [
    {
     "data": {
      "text/html": [
       "<div>\n",
       "<style scoped>\n",
       "    .dataframe tbody tr th:only-of-type {\n",
       "        vertical-align: middle;\n",
       "    }\n",
       "\n",
       "    .dataframe tbody tr th {\n",
       "        vertical-align: top;\n",
       "    }\n",
       "\n",
       "    .dataframe thead th {\n",
       "        text-align: right;\n",
       "    }\n",
       "</style>\n",
       "<table border=\"1\" class=\"dataframe\">\n",
       "  <thead>\n",
       "    <tr style=\"text-align: right;\">\n",
       "      <th></th>\n",
       "      <th></th>\n",
       "      <th>counts</th>\n",
       "      <th>percentages</th>\n",
       "    </tr>\n",
       "  </thead>\n",
       "  <tbody>\n",
       "    <tr>\n",
       "      <th rowspan=\"2\" valign=\"top\">win side</th>\n",
       "      <th>for petitioner</th>\n",
       "      <td>284.0</td>\n",
       "      <td>66.510539</td>\n",
       "    </tr>\n",
       "    <tr>\n",
       "      <th>for respondent</th>\n",
       "      <td>143.0</td>\n",
       "      <td>33.489461</td>\n",
       "    </tr>\n",
       "    <tr>\n",
       "      <th>cases</th>\n",
       "      <th></th>\n",
       "      <td>427.0</td>\n",
       "      <td>NaN</td>\n",
       "    </tr>\n",
       "    <tr>\n",
       "      <th>courts</th>\n",
       "      <th></th>\n",
       "      <td>1.0</td>\n",
       "      <td>NaN</td>\n",
       "    </tr>\n",
       "    <tr>\n",
       "      <th>years (2014 to 2019)</th>\n",
       "      <th></th>\n",
       "      <td>6.0</td>\n",
       "      <td>NaN</td>\n",
       "    </tr>\n",
       "    <tr>\n",
       "      <th>petitioners</th>\n",
       "      <th></th>\n",
       "      <td>413.0</td>\n",
       "      <td>NaN</td>\n",
       "    </tr>\n",
       "    <tr>\n",
       "      <th>respondents</th>\n",
       "      <th></th>\n",
       "      <td>356.0</td>\n",
       "      <td>NaN</td>\n",
       "    </tr>\n",
       "  </tbody>\n",
       "</table>\n",
       "</div>"
      ],
      "text/plain": [
       "                                     counts  percentages\n",
       "win side             for petitioner   284.0    66.510539\n",
       "                     for respondent   143.0    33.489461\n",
       "cases                                 427.0          NaN\n",
       "courts                                  1.0          NaN\n",
       "years (2014 to 2019)                    6.0          NaN\n",
       "petitioners                           413.0          NaN\n",
       "respondents                           356.0          NaN"
      ]
     },
     "execution_count": 127,
     "metadata": {},
     "output_type": "execute_result"
    }
   ],
   "source": [
    "ds.cases_stats"
   ]
  },
  {
   "attachments": {},
   "cell_type": "markdown",
   "metadata": {
    "slideshow": {
     "slide_type": "subslide"
    }
   },
   "source": [
    "### Speakers\n",
    "Includes infromation on each <i>speaker</i>, such as:\n",
    "- Speaker name and unique speaker key\n",
    "- Speaker role and type (justice, advocate, nan)"
   ]
  },
  {
   "cell_type": "code",
   "execution_count": 128,
   "metadata": {
    "slideshow": {
     "slide_type": "fragment"
    }
   },
   "outputs": [
    {
     "data": {
      "text/html": [
       "<div>\n",
       "<style scoped>\n",
       "    .dataframe tbody tr th:only-of-type {\n",
       "        vertical-align: middle;\n",
       "    }\n",
       "\n",
       "    .dataframe tbody tr th {\n",
       "        vertical-align: top;\n",
       "    }\n",
       "\n",
       "    .dataframe thead th {\n",
       "        text-align: right;\n",
       "    }\n",
       "</style>\n",
       "<table border=\"1\" class=\"dataframe\">\n",
       "  <thead>\n",
       "    <tr style=\"text-align: right;\">\n",
       "      <th></th>\n",
       "      <th></th>\n",
       "      <th>counts</th>\n",
       "      <th>percentages</th>\n",
       "    </tr>\n",
       "  </thead>\n",
       "  <tbody>\n",
       "    <tr>\n",
       "      <th rowspan=\"2\" valign=\"top\">speaker type</th>\n",
       "      <th>advocate (A)</th>\n",
       "      <td>8942.0</td>\n",
       "      <td>99.610115</td>\n",
       "    </tr>\n",
       "    <tr>\n",
       "      <th>justice (J)</th>\n",
       "      <td>35.0</td>\n",
       "      <td>0.389885</td>\n",
       "    </tr>\n",
       "    <tr>\n",
       "      <th>speaker names</th>\n",
       "      <th></th>\n",
       "      <td>8928.0</td>\n",
       "      <td>NaN</td>\n",
       "    </tr>\n",
       "    <tr>\n",
       "      <th>speaker keys</th>\n",
       "      <th></th>\n",
       "      <td>8977.0</td>\n",
       "      <td>NaN</td>\n",
       "    </tr>\n",
       "  </tbody>\n",
       "</table>\n",
       "</div>"
      ],
      "text/plain": [
       "                            counts  percentages\n",
       "speaker type  advocate (A)  8942.0    99.610115\n",
       "              justice (J)     35.0     0.389885\n",
       "speaker names               8928.0          NaN\n",
       "speaker keys                8977.0          NaN"
      ]
     },
     "execution_count": 128,
     "metadata": {},
     "output_type": "execute_result"
    }
   ],
   "source": [
    "ds.speakers_stats"
   ]
  },
  {
   "attachments": {},
   "cell_type": "markdown",
   "metadata": {
    "slideshow": {
     "slide_type": "subslide"
    }
   },
   "source": [
    "### Voters\n",
    "Includes infromation on each <i>vote and voter</i>, such as:\n",
    "- Unique case ID\n",
    "- Voter key and vote side (judges only, 1=for petitioner)"
   ]
  },
  {
   "cell_type": "code",
   "execution_count": 134,
   "metadata": {
    "slideshow": {
     "slide_type": "fragment"
    }
   },
   "outputs": [
    {
     "data": {
      "text/html": [
       "<div>\n",
       "<style scoped>\n",
       "    .dataframe tbody tr th:only-of-type {\n",
       "        vertical-align: middle;\n",
       "    }\n",
       "\n",
       "    .dataframe tbody tr th {\n",
       "        vertical-align: top;\n",
       "    }\n",
       "\n",
       "    .dataframe thead th {\n",
       "        text-align: right;\n",
       "    }\n",
       "</style>\n",
       "<table border=\"1\" class=\"dataframe\">\n",
       "  <thead>\n",
       "    <tr style=\"text-align: right;\">\n",
       "      <th></th>\n",
       "      <th></th>\n",
       "      <th>counts</th>\n",
       "      <th>percentages</th>\n",
       "    </tr>\n",
       "  </thead>\n",
       "  <tbody>\n",
       "    <tr>\n",
       "      <th rowspan=\"2\" valign=\"top\">votes</th>\n",
       "      <th>for petitioner</th>\n",
       "      <td>1912.0</td>\n",
       "      <td>60.659898</td>\n",
       "    </tr>\n",
       "    <tr>\n",
       "      <th>for respondent</th>\n",
       "      <td>1240.0</td>\n",
       "      <td>39.340102</td>\n",
       "    </tr>\n",
       "    <tr>\n",
       "      <th>justices</th>\n",
       "      <th></th>\n",
       "      <td>11.0</td>\n",
       "      <td>NaN</td>\n",
       "    </tr>\n",
       "    <tr>\n",
       "      <th rowspan=\"4\" valign=\"top\">justice</th>\n",
       "      <th>j__john_g_roberts_jr</th>\n",
       "      <td>363</td>\n",
       "      <td>0.661157</td>\n",
       "    </tr>\n",
       "    <tr>\n",
       "      <th>j__antonin_scalia</th>\n",
       "      <td>66</td>\n",
       "      <td>0.651515</td>\n",
       "    </tr>\n",
       "    <tr>\n",
       "      <th>j__anthony_m_kennedy</th>\n",
       "      <td>240</td>\n",
       "      <td>0.658333</td>\n",
       "    </tr>\n",
       "    <tr>\n",
       "      <th>j__clarence_thomas</th>\n",
       "      <td>364</td>\n",
       "      <td>0.532967</td>\n",
       "    </tr>\n",
       "  </tbody>\n",
       "</table>\n",
       "</div>"
      ],
      "text/plain": [
       "                               counts percentages\n",
       "votes    for petitioner        1912.0   60.659898\n",
       "         for respondent        1240.0   39.340102\n",
       "justices                         11.0         NaN\n",
       "justice  j__john_g_roberts_jr     363    0.661157\n",
       "         j__antonin_scalia         66    0.651515\n",
       "         j__anthony_m_kennedy     240    0.658333\n",
       "         j__clarence_thomas       364    0.532967"
      ]
     },
     "execution_count": 134,
     "metadata": {},
     "output_type": "execute_result"
    }
   ],
   "source": [
    "ds.voters_stats.head(7)"
   ]
  },
  {
   "attachments": {},
   "cell_type": "markdown",
   "metadata": {
    "slideshow": {
     "slide_type": "subslide"
    }
   },
   "source": [
    "### Advocates\n",
    "Includes infromation on each <i>advocate (non-judges)</i>, such as:\n",
    "- Unique case ID\n",
    "- Advocate ID and advocacy side(1 = for petitioner)\n",
    "- Advocate role"
   ]
  },
  {
   "cell_type": "code",
   "execution_count": 130,
   "metadata": {
    "slideshow": {
     "slide_type": "fragment"
    }
   },
   "outputs": [
    {
     "data": {
      "text/html": [
       "<div>\n",
       "<style scoped>\n",
       "    .dataframe tbody tr th:only-of-type {\n",
       "        vertical-align: middle;\n",
       "    }\n",
       "\n",
       "    .dataframe tbody tr th {\n",
       "        vertical-align: top;\n",
       "    }\n",
       "\n",
       "    .dataframe thead th {\n",
       "        text-align: right;\n",
       "    }\n",
       "</style>\n",
       "<table border=\"1\" class=\"dataframe\">\n",
       "  <thead>\n",
       "    <tr style=\"text-align: right;\">\n",
       "      <th></th>\n",
       "      <th></th>\n",
       "      <th>counts</th>\n",
       "      <th>percentages</th>\n",
       "    </tr>\n",
       "  </thead>\n",
       "  <tbody>\n",
       "    <tr>\n",
       "      <th rowspan=\"2\" valign=\"top\">side</th>\n",
       "      <th>for petitioner</th>\n",
       "      <td>403.0</td>\n",
       "      <td>50.124378</td>\n",
       "    </tr>\n",
       "    <tr>\n",
       "      <th>for respondent</th>\n",
       "      <td>401.0</td>\n",
       "      <td>49.875622</td>\n",
       "    </tr>\n",
       "    <tr>\n",
       "      <th>total advocates</th>\n",
       "      <th></th>\n",
       "      <td>391.0</td>\n",
       "      <td>NaN</td>\n",
       "    </tr>\n",
       "    <tr>\n",
       "      <th>total roles</th>\n",
       "      <th></th>\n",
       "      <td>154.0</td>\n",
       "      <td>NaN</td>\n",
       "    </tr>\n",
       "    <tr>\n",
       "      <th rowspan=\"3\" valign=\"top\">aggregate roles</th>\n",
       "      <th>inferred</th>\n",
       "      <td>10.0</td>\n",
       "      <td>1.243781</td>\n",
       "    </tr>\n",
       "    <tr>\n",
       "      <th>for respondent</th>\n",
       "      <td>404.0</td>\n",
       "      <td>50.248756</td>\n",
       "    </tr>\n",
       "    <tr>\n",
       "      <th>for petitioner</th>\n",
       "      <td>390.0</td>\n",
       "      <td>48.507463</td>\n",
       "    </tr>\n",
       "  </tbody>\n",
       "</table>\n",
       "</div>"
      ],
      "text/plain": [
       "                                counts  percentages\n",
       "side            for petitioner   403.0    50.124378\n",
       "                for respondent   401.0    49.875622\n",
       "total advocates                  391.0          NaN\n",
       "total roles                      154.0          NaN\n",
       "aggregate roles inferred          10.0     1.243781\n",
       "                for respondent   404.0    50.248756\n",
       "                for petitioner   390.0    48.507463"
      ]
     },
     "execution_count": 130,
     "metadata": {},
     "output_type": "execute_result"
    }
   ],
   "source": [
    "ds.advocates_stats"
   ]
  },
  {
   "attachments": {},
   "cell_type": "markdown",
   "metadata": {
    "slideshow": {
     "slide_type": "subslide"
    }
   },
   "source": [
    "### Conversations\n",
    "Includes infromation on each <i>conversation</i>. There is one conversation per case, <br>\n",
    "and conversations are made up of individual utterances. Conversation information includes:\n",
    "\n",
    "- Unique case ID\n",
    "- Unique conversation ID\n",
    "- Winning side (1 = for petitioner)"
   ]
  },
  {
   "cell_type": "code",
   "execution_count": 131,
   "metadata": {
    "slideshow": {
     "slide_type": "fragment"
    }
   },
   "outputs": [
    {
     "data": {
      "text/html": [
       "<div>\n",
       "<style scoped>\n",
       "    .dataframe tbody tr th:only-of-type {\n",
       "        vertical-align: middle;\n",
       "    }\n",
       "\n",
       "    .dataframe tbody tr th {\n",
       "        vertical-align: top;\n",
       "    }\n",
       "\n",
       "    .dataframe thead th {\n",
       "        text-align: right;\n",
       "    }\n",
       "</style>\n",
       "<table border=\"1\" class=\"dataframe\">\n",
       "  <thead>\n",
       "    <tr style=\"text-align: right;\">\n",
       "      <th></th>\n",
       "      <th>id</th>\n",
       "      <th>case_id</th>\n",
       "      <th>winning_side</th>\n",
       "    </tr>\n",
       "  </thead>\n",
       "  <tbody>\n",
       "    <tr>\n",
       "      <th>0</th>\n",
       "      <td>23291</td>\n",
       "      <td>2014_13-553</td>\n",
       "      <td>1</td>\n",
       "    </tr>\n",
       "    <tr>\n",
       "      <th>1</th>\n",
       "      <td>23252</td>\n",
       "      <td>2014_13-895</td>\n",
       "      <td>1</td>\n",
       "    </tr>\n",
       "  </tbody>\n",
       "</table>\n",
       "</div>"
      ],
      "text/plain": [
       "      id      case_id  winning_side\n",
       "0  23291  2014_13-553             1\n",
       "1  23252  2014_13-895             1"
      ]
     },
     "execution_count": 131,
     "metadata": {},
     "output_type": "execute_result"
    }
   ],
   "source": [
    "conversations.head(2)"
   ]
  },
  {
   "attachments": {},
   "cell_type": "markdown",
   "metadata": {
    "slideshow": {
     "slide_type": "subslide"
    }
   },
   "source": [
    "### Utterances\n",
    "Includes infromation on each <i>utterance</i>, such as:\n",
    "- Unique case ID\n",
    "- Corresponding conversation ID\n",
    "- Speaker key\n",
    "- Utterance text"
   ]
  },
  {
   "cell_type": "code",
   "execution_count": 136,
   "metadata": {
    "slideshow": {
     "slide_type": "skip"
    }
   },
   "outputs": [],
   "source": [
    "cols = [\"case_id\", \"speaker\", \"speaker_type\", \"conversation_id\", \"text\"]"
   ]
  },
  {
   "cell_type": "code",
   "execution_count": 137,
   "metadata": {
    "slideshow": {
     "slide_type": "fragment"
    }
   },
   "outputs": [
    {
     "data": {
      "text/html": [
       "<div>\n",
       "<style scoped>\n",
       "    .dataframe tbody tr th:only-of-type {\n",
       "        vertical-align: middle;\n",
       "    }\n",
       "\n",
       "    .dataframe tbody tr th {\n",
       "        vertical-align: top;\n",
       "    }\n",
       "\n",
       "    .dataframe thead th {\n",
       "        text-align: right;\n",
       "    }\n",
       "</style>\n",
       "<table border=\"1\" class=\"dataframe\">\n",
       "  <thead>\n",
       "    <tr style=\"text-align: right;\">\n",
       "      <th></th>\n",
       "      <th>case_id</th>\n",
       "      <th>speaker</th>\n",
       "      <th>speaker_type</th>\n",
       "      <th>conversation_id</th>\n",
       "      <th>text</th>\n",
       "    </tr>\n",
       "  </thead>\n",
       "  <tbody>\n",
       "    <tr>\n",
       "      <th>0</th>\n",
       "      <td>2014_13-553</td>\n",
       "      <td>j__john_g_roberts_jr</td>\n",
       "      <td>J</td>\n",
       "      <td>23291</td>\n",
       "      <td>we'll hear argument next in case no. 13-553, t...</td>\n",
       "    </tr>\n",
       "    <tr>\n",
       "      <th>1</th>\n",
       "      <td>2014_13-553</td>\n",
       "      <td>andrew_l_brasher</td>\n",
       "      <td>A</td>\n",
       "      <td>23291</td>\n",
       "      <td>thank you, mr. chief justice, and may it pleas...</td>\n",
       "    </tr>\n",
       "  </tbody>\n",
       "</table>\n",
       "</div>"
      ],
      "text/plain": [
       "       case_id               speaker speaker_type  conversation_id   \n",
       "0  2014_13-553  j__john_g_roberts_jr            J            23291  \\\n",
       "1  2014_13-553      andrew_l_brasher            A            23291   \n",
       "\n",
       "                                                text  \n",
       "0  we'll hear argument next in case no. 13-553, t...  \n",
       "1  thank you, mr. chief justice, and may it pleas...  "
      ]
     },
     "execution_count": 137,
     "metadata": {},
     "output_type": "execute_result"
    }
   ],
   "source": [
    "utterances.head(2).loc[:, cols]"
   ]
  },
  {
   "attachments": {},
   "cell_type": "markdown",
   "metadata": {
    "slideshow": {
     "slide_type": "slide"
    }
   },
   "source": [
    "## Data Cleaning and Pre-Processing\n",
    "### Data Cleaning Steps:\n",
    "1. Limited cases to those that ruled either for the petitioner or respondent (removed undetermined)\n",
    "2. Removed cases with no utterances\n",
    "3. Cleaned utterance text\n",
    "4. Filtered cases to include last 5 years of dataset (2014-2019)\n"
   ]
  },
  {
   "attachments": {},
   "cell_type": "markdown",
   "metadata": {
    "slideshow": {
     "slide_type": "subslide"
    }
   },
   "source": [
    "### Data Processing Steps\n",
    "1. Tokenized utterance text\n",
    "2. Created utterances dataframes that includes tokenized text, case id, year, and winning side. These dataframes corresponded to:\n",
    "    -  All utterances within a case\n",
    "    - Judge utterances within a case\n",
    "    - Advocate (for petitioner) utterances within a case\n",
    "    - Adversary (for respondent) utterances within a case"
   ]
  },
  {
   "attachments": {},
   "cell_type": "markdown",
   "metadata": {
    "slideshow": {
     "slide_type": "slide"
    }
   },
   "source": [
    "## Pre-processed Datasets\n",
    "### All Utterances"
   ]
  },
  {
   "cell_type": "code",
   "execution_count": 103,
   "metadata": {
    "slideshow": {
     "slide_type": "fragment"
    }
   },
   "outputs": [
    {
     "data": {
      "text/html": [
       "<div>\n",
       "<style scoped>\n",
       "    .dataframe tbody tr th:only-of-type {\n",
       "        vertical-align: middle;\n",
       "    }\n",
       "\n",
       "    .dataframe tbody tr th {\n",
       "        vertical-align: top;\n",
       "    }\n",
       "\n",
       "    .dataframe thead th {\n",
       "        text-align: right;\n",
       "    }\n",
       "</style>\n",
       "<table border=\"1\" class=\"dataframe\">\n",
       "  <thead>\n",
       "    <tr style=\"text-align: right;\">\n",
       "      <th></th>\n",
       "      <th>case_id</th>\n",
       "      <th>tokens</th>\n",
       "      <th>year</th>\n",
       "      <th>win_side</th>\n",
       "    </tr>\n",
       "  </thead>\n",
       "  <tbody>\n",
       "    <tr>\n",
       "      <th>0</th>\n",
       "      <td>2014_13-553</td>\n",
       "      <td>[hear, argument, case, alabama, department, re...</td>\n",
       "      <td>2014</td>\n",
       "      <td>1</td>\n",
       "    </tr>\n",
       "    <tr>\n",
       "      <th>1</th>\n",
       "      <td>2014_13-895</td>\n",
       "      <td>[hear, argument, case, number, alabama, legisl...</td>\n",
       "      <td>2014</td>\n",
       "      <td>1</td>\n",
       "    </tr>\n",
       "  </tbody>\n",
       "</table>\n",
       "</div>"
      ],
      "text/plain": [
       "       case_id                                             tokens  year   \n",
       "0  2014_13-553  [hear, argument, case, alabama, department, re...  2014  \\\n",
       "1  2014_13-895  [hear, argument, case, number, alabama, legisl...  2014   \n",
       "\n",
       "   win_side  \n",
       "0         1  \n",
       "1         1  "
      ]
     },
     "execution_count": 103,
     "metadata": {},
     "output_type": "execute_result"
    }
   ],
   "source": [
    "cases_proc.head(2)"
   ]
  },
  {
   "attachments": {},
   "cell_type": "markdown",
   "metadata": {
    "slideshow": {
     "slide_type": "subslide"
    }
   },
   "source": [
    "### Judge Utterances\n",
    "In addition to standard columns, includes columns on count of advocates for petitioner or respondent."
   ]
  },
  {
   "cell_type": "code",
   "execution_count": 104,
   "metadata": {
    "slideshow": {
     "slide_type": "fragment"
    }
   },
   "outputs": [
    {
     "data": {
      "text/html": [
       "<div>\n",
       "<style scoped>\n",
       "    .dataframe tbody tr th:only-of-type {\n",
       "        vertical-align: middle;\n",
       "    }\n",
       "\n",
       "    .dataframe tbody tr th {\n",
       "        vertical-align: top;\n",
       "    }\n",
       "\n",
       "    .dataframe thead th {\n",
       "        text-align: right;\n",
       "    }\n",
       "</style>\n",
       "<table border=\"1\" class=\"dataframe\">\n",
       "  <thead>\n",
       "    <tr style=\"text-align: right;\">\n",
       "      <th></th>\n",
       "      <th>case_id</th>\n",
       "      <th>for_resp</th>\n",
       "      <th>for_pet</th>\n",
       "      <th>tokens</th>\n",
       "      <th>year</th>\n",
       "      <th>win_side</th>\n",
       "    </tr>\n",
       "  </thead>\n",
       "  <tbody>\n",
       "    <tr>\n",
       "      <th>0</th>\n",
       "      <td>2014_12-1226</td>\n",
       "      <td>1</td>\n",
       "      <td>1</td>\n",
       "      <td>[hear, argument, morning, case, young, united,...</td>\n",
       "      <td>2014</td>\n",
       "      <td>1</td>\n",
       "    </tr>\n",
       "    <tr>\n",
       "      <th>1</th>\n",
       "      <td>2014_12-1497</td>\n",
       "      <td>1</td>\n",
       "      <td>1</td>\n",
       "      <td>[hear, argument, case, kellogg, brown, root, s...</td>\n",
       "      <td>2014</td>\n",
       "      <td>1</td>\n",
       "    </tr>\n",
       "  </tbody>\n",
       "</table>\n",
       "</div>"
      ],
      "text/plain": [
       "        case_id  for_resp  for_pet   \n",
       "0  2014_12-1226         1        1  \\\n",
       "1  2014_12-1497         1        1   \n",
       "\n",
       "                                              tokens  year  win_side  \n",
       "0  [hear, argument, morning, case, young, united,...  2014         1  \n",
       "1  [hear, argument, case, kellogg, brown, root, s...  2014         1  "
      ]
     },
     "execution_count": 104,
     "metadata": {},
     "output_type": "execute_result"
    }
   ],
   "source": [
    "judges_proc.head(2)"
   ]
  },
  {
   "attachments": {},
   "cell_type": "markdown",
   "metadata": {
    "slideshow": {
     "slide_type": "subslide"
    }
   },
   "source": [
    "### Advocate Utterances"
   ]
  },
  {
   "cell_type": "code",
   "execution_count": 105,
   "metadata": {
    "slideshow": {
     "slide_type": "fragment"
    }
   },
   "outputs": [
    {
     "data": {
      "text/html": [
       "<div>\n",
       "<style scoped>\n",
       "    .dataframe tbody tr th:only-of-type {\n",
       "        vertical-align: middle;\n",
       "    }\n",
       "\n",
       "    .dataframe tbody tr th {\n",
       "        vertical-align: top;\n",
       "    }\n",
       "\n",
       "    .dataframe thead th {\n",
       "        text-align: right;\n",
       "    }\n",
       "</style>\n",
       "<table border=\"1\" class=\"dataframe\">\n",
       "  <thead>\n",
       "    <tr style=\"text-align: right;\">\n",
       "      <th></th>\n",
       "      <th>case_id</th>\n",
       "      <th>tokens</th>\n",
       "      <th>year</th>\n",
       "      <th>win_side</th>\n",
       "    </tr>\n",
       "  </thead>\n",
       "  <tbody>\n",
       "    <tr>\n",
       "      <th>0</th>\n",
       "      <td>2014_13-553</td>\n",
       "      <td>[hear, argument, case, alabama, department, re...</td>\n",
       "      <td>2014</td>\n",
       "      <td>1</td>\n",
       "    </tr>\n",
       "    <tr>\n",
       "      <th>1</th>\n",
       "      <td>2014_13-895</td>\n",
       "      <td>[mr, chief, justice, court, alabama, employ, r...</td>\n",
       "      <td>2014</td>\n",
       "      <td>1</td>\n",
       "    </tr>\n",
       "  </tbody>\n",
       "</table>\n",
       "</div>"
      ],
      "text/plain": [
       "       case_id                                             tokens  year   \n",
       "0  2014_13-553  [hear, argument, case, alabama, department, re...  2014  \\\n",
       "1  2014_13-895  [mr, chief, justice, court, alabama, employ, r...  2014   \n",
       "\n",
       "   win_side  \n",
       "0         1  \n",
       "1         1  "
      ]
     },
     "execution_count": 105,
     "metadata": {},
     "output_type": "execute_result"
    }
   ],
   "source": [
    "advocate_proc.head(2)"
   ]
  },
  {
   "attachments": {},
   "cell_type": "markdown",
   "metadata": {
    "slideshow": {
     "slide_type": "subslide"
    }
   },
   "source": [
    "### Adversary Utterances"
   ]
  },
  {
   "cell_type": "code",
   "execution_count": 106,
   "metadata": {
    "slideshow": {
     "slide_type": "fragment"
    }
   },
   "outputs": [
    {
     "data": {
      "text/html": [
       "<div>\n",
       "<style scoped>\n",
       "    .dataframe tbody tr th:only-of-type {\n",
       "        vertical-align: middle;\n",
       "    }\n",
       "\n",
       "    .dataframe tbody tr th {\n",
       "        vertical-align: top;\n",
       "    }\n",
       "\n",
       "    .dataframe thead th {\n",
       "        text-align: right;\n",
       "    }\n",
       "</style>\n",
       "<table border=\"1\" class=\"dataframe\">\n",
       "  <thead>\n",
       "    <tr style=\"text-align: right;\">\n",
       "      <th></th>\n",
       "      <th>case_id</th>\n",
       "      <th>tokens</th>\n",
       "      <th>year</th>\n",
       "      <th>win_side</th>\n",
       "    </tr>\n",
       "  </thead>\n",
       "  <tbody>\n",
       "    <tr>\n",
       "      <th>0</th>\n",
       "      <td>2014_13-553</td>\n",
       "      <td>[handpicked, business, transport, good, motor,...</td>\n",
       "      <td>2014</td>\n",
       "      <td>1</td>\n",
       "    </tr>\n",
       "    <tr>\n",
       "      <th>1</th>\n",
       "      <td>2014_13-895</td>\n",
       "      <td>[hear, argument, case, number, alabama, legisl...</td>\n",
       "      <td>2014</td>\n",
       "      <td>1</td>\n",
       "    </tr>\n",
       "  </tbody>\n",
       "</table>\n",
       "</div>"
      ],
      "text/plain": [
       "       case_id                                             tokens  year   \n",
       "0  2014_13-553  [handpicked, business, transport, good, motor,...  2014  \\\n",
       "1  2014_13-895  [hear, argument, case, number, alabama, legisl...  2014   \n",
       "\n",
       "   win_side  \n",
       "0         1  \n",
       "1         1  "
      ]
     },
     "execution_count": 106,
     "metadata": {},
     "output_type": "execute_result"
    }
   ],
   "source": [
    "adversary_proc.head(2)"
   ]
  },
  {
   "attachments": {},
   "cell_type": "markdown",
   "metadata": {
    "slideshow": {
     "slide_type": "slide"
    }
   },
   "source": [
    "## Model and Evaulation Overviews\n",
    "- Linear Regression\n",
    "- Gradient Boosted Tree Model\n",
    "- Random Forest"
   ]
  },
  {
   "attachments": {},
   "cell_type": "markdown",
   "metadata": {
    "slideshow": {
     "slide_type": "subslide"
    }
   },
   "source": [
    "### Linear Regression\n",
    "<span style=\"color:red\"><b>[insert description]</b></span>"
   ]
  },
  {
   "attachments": {},
   "cell_type": "markdown",
   "metadata": {
    "slideshow": {
     "slide_type": "subslide"
    }
   },
   "source": [
    "### Gradient Boosted Tree Model\n",
    "<span style=\"color:red\"><b>[insert description]</b></span>"
   ]
  },
  {
   "attachments": {},
   "cell_type": "markdown",
   "metadata": {
    "slideshow": {
     "slide_type": "subslide"
    }
   },
   "source": [
    "### Random Forest\n",
    "<span style=\"color:red\"><b>[insert description]</b></span>"
   ]
  },
  {
   "attachments": {},
   "cell_type": "markdown",
   "metadata": {
    "slideshow": {
     "slide_type": "subslide"
    }
   },
   "source": [
    "### Evaluation Metrics: Accuracy and F1 Score"
   ]
  },
  {
   "cell_type": "code",
   "execution_count": 139,
   "metadata": {
    "slideshow": {
     "slide_type": "fragment"
    }
   },
   "outputs": [
    {
     "data": {
      "text/html": [
       "<div>\n",
       "<style scoped>\n",
       "    .dataframe tbody tr th:only-of-type {\n",
       "        vertical-align: middle;\n",
       "    }\n",
       "\n",
       "    .dataframe tbody tr th {\n",
       "        vertical-align: top;\n",
       "    }\n",
       "\n",
       "    .dataframe thead th {\n",
       "        text-align: right;\n",
       "    }\n",
       "</style>\n",
       "<table border=\"1\" class=\"dataframe\">\n",
       "  <thead>\n",
       "    <tr style=\"text-align: right;\">\n",
       "      <th></th>\n",
       "      <th></th>\n",
       "      <th>counts</th>\n",
       "      <th>percentages</th>\n",
       "    </tr>\n",
       "  </thead>\n",
       "  <tbody>\n",
       "    <tr>\n",
       "      <th rowspan=\"2\" valign=\"top\">win side</th>\n",
       "      <th>for petitioner</th>\n",
       "      <td>284.0</td>\n",
       "      <td>66.510539</td>\n",
       "    </tr>\n",
       "    <tr>\n",
       "      <th>for respondent</th>\n",
       "      <td>143.0</td>\n",
       "      <td>33.489461</td>\n",
       "    </tr>\n",
       "  </tbody>\n",
       "</table>\n",
       "</div>"
      ],
      "text/plain": [
       "                         counts  percentages\n",
       "win side for petitioner   284.0    66.510539\n",
       "         for respondent   143.0    33.489461"
      ]
     },
     "execution_count": 139,
     "metadata": {},
     "output_type": "execute_result"
    }
   ],
   "source": [
    "ds.cases_stats.head(2)"
   ]
  },
  {
   "attachments": {},
   "cell_type": "markdown",
   "metadata": {
    "slideshow": {
     "slide_type": "fragment"
    }
   },
   "source": [
    "<span style=\"color:red\"><b>[insert explanation for accuracy]</b></span>"
   ]
  },
  {
   "attachments": {},
   "cell_type": "markdown",
   "metadata": {
    "slideshow": {
     "slide_type": "fragment"
    }
   },
   "source": [
    "<span style=\"color:red\"><b>[insert explanation for f1 score]</b></span>\n",
    "\n",
    "The majority (approximately 67%) of cases were voted in favor of the petitioner (win_side=1)"
   ]
  },
  {
   "attachments": {},
   "cell_type": "markdown",
   "metadata": {
    "slideshow": {
     "slide_type": "slide"
    }
   },
   "source": [
    "## Linear Regression\n",
    "### Default Parameters"
   ]
  },
  {
   "attachments": {},
   "cell_type": "markdown",
   "metadata": {
    "slideshow": {
     "slide_type": "fragment"
    }
   },
   "source": [
    "- **Maximum number of featuers**: 5000\n",
    "- **Maximum number of iterations**: 1000\n",
    "- **Test size**: 0.20"
   ]
  },
  {
   "attachments": {},
   "cell_type": "markdown",
   "metadata": {
    "slideshow": {
     "slide_type": "subslide"
    }
   },
   "source": [
    "### Accuracies and F1 Score"
   ]
  },
  {
   "cell_type": "code",
   "execution_count": 145,
   "metadata": {
    "slideshow": {
     "slide_type": "fragment"
    }
   },
   "outputs": [
    {
     "data": {
      "text/html": [
       "<div>\n",
       "<style scoped>\n",
       "    .dataframe tbody tr th:only-of-type {\n",
       "        vertical-align: middle;\n",
       "    }\n",
       "\n",
       "    .dataframe tbody tr th {\n",
       "        vertical-align: top;\n",
       "    }\n",
       "\n",
       "    .dataframe thead th {\n",
       "        text-align: right;\n",
       "    }\n",
       "</style>\n",
       "<table border=\"1\" class=\"dataframe\">\n",
       "  <thead>\n",
       "    <tr style=\"text-align: right;\">\n",
       "      <th></th>\n",
       "      <th>dataset</th>\n",
       "      <th>accuracy</th>\n",
       "      <th>f1_score</th>\n",
       "    </tr>\n",
       "  </thead>\n",
       "  <tbody>\n",
       "    <tr>\n",
       "      <th>0</th>\n",
       "      <td>case_aggregations</td>\n",
       "      <td>0.540541</td>\n",
       "      <td>0.653061</td>\n",
       "    </tr>\n",
       "    <tr>\n",
       "      <th>1</th>\n",
       "      <td>judge_aggregations</td>\n",
       "      <td>0.561644</td>\n",
       "      <td>0.680000</td>\n",
       "    </tr>\n",
       "    <tr>\n",
       "      <th>2</th>\n",
       "      <td>advocate_aggregations</td>\n",
       "      <td>0.756757</td>\n",
       "      <td>0.808511</td>\n",
       "    </tr>\n",
       "    <tr>\n",
       "      <th>3</th>\n",
       "      <td>adversary_aggregations</td>\n",
       "      <td>0.783784</td>\n",
       "      <td>0.843137</td>\n",
       "    </tr>\n",
       "  </tbody>\n",
       "</table>\n",
       "</div>"
      ],
      "text/plain": [
       "                  dataset  accuracy  f1_score\n",
       "0       case_aggregations  0.540541  0.653061\n",
       "1      judge_aggregations  0.561644  0.680000\n",
       "2   advocate_aggregations  0.756757  0.808511\n",
       "3  adversary_aggregations  0.783784  0.843137"
      ]
     },
     "execution_count": 145,
     "metadata": {},
     "output_type": "execute_result"
    }
   ],
   "source": [
    "acc = dict_to_df([\"dataset\", \"accuracy\", \"f1_score\"], lr.accuracies, lr.f1)\n",
    "acc"
   ]
  },
  {
   "cell_type": "code",
   "execution_count": 146,
   "metadata": {
    "slideshow": {
     "slide_type": "subslide"
    }
   },
   "outputs": [
    {
     "data": {
      "image/png": "[encoded data removed]",
      "text/plain": [
       "<Figure size 1200x800 with 1 Axes>"
      ]
     },
     "metadata": {},
     "output_type": "display_data"
    }
   ],
   "source": [
    "disp_accuracy(acc, labs=list(acc[\"dataset\"]))"
   ]
  },
  {
   "attachments": {},
   "cell_type": "markdown",
   "metadata": {
    "slideshow": {
     "slide_type": "subslide"
    }
   },
   "source": [
    "### Confusion Matrices\n",
    "#### Linear Regression Model - All Utterances"
   ]
  },
  {
   "cell_type": "code",
   "execution_count": 147,
   "metadata": {
    "slideshow": {
     "slide_type": "fragment"
    }
   },
   "outputs": [
    {
     "data": {
      "image/png": "[encoded data removed]",
      "text/plain": [
       "<Figure size 640x480 with 2 Axes>"
      ]
     },
     "metadata": {},
     "output_type": "display_data"
    }
   ],
   "source": [
    "disp_conf_matrix(lr.confusion_matrix[\"case_aggregations\"])"
   ]
  },
  {
   "attachments": {},
   "cell_type": "markdown",
   "metadata": {
    "slideshow": {
     "slide_type": "subslide"
    }
   },
   "source": [
    "#### Linear Regression Model - Judge Utterances"
   ]
  },
  {
   "cell_type": "code",
   "execution_count": 148,
   "metadata": {
    "slideshow": {
     "slide_type": "fragment"
    }
   },
   "outputs": [
    {
     "data": {
      "image/png": "[encoded data removed]",
      "text/plain": [
       "<Figure size 640x480 with 2 Axes>"
      ]
     },
     "metadata": {},
     "output_type": "display_data"
    }
   ],
   "source": [
    "disp_conf_matrix(lr.confusion_matrix[\"judge_aggregations\"])"
   ]
  },
  {
   "attachments": {},
   "cell_type": "markdown",
   "metadata": {
    "slideshow": {
     "slide_type": "subslide"
    }
   },
   "source": [
    "#### Linear Regression Model - Advocate Utterances"
   ]
  },
  {
   "cell_type": "code",
   "execution_count": 149,
   "metadata": {
    "slideshow": {
     "slide_type": "fragment"
    }
   },
   "outputs": [
    {
     "data": {
      "image/png": "[encoded data removed]",
      "text/plain": [
       "<Figure size 640x480 with 2 Axes>"
      ]
     },
     "metadata": {},
     "output_type": "display_data"
    }
   ],
   "source": [
    "disp_conf_matrix(lr.confusion_matrix[\"advocate_aggregations\"])"
   ]
  },
  {
   "attachments": {},
   "cell_type": "markdown",
   "metadata": {
    "slideshow": {
     "slide_type": "subslide"
    }
   },
   "source": [
    "#### Linear Regression Model - Adversary Utterances"
   ]
  },
  {
   "cell_type": "code",
   "execution_count": 150,
   "metadata": {
    "slideshow": {
     "slide_type": "fragment"
    }
   },
   "outputs": [
    {
     "data": {
      "image/png": "[encoded data removed]",
      "text/plain": [
       "<Figure size 640x480 with 2 Axes>"
      ]
     },
     "metadata": {},
     "output_type": "display_data"
    }
   ],
   "source": [
    "disp_conf_matrix(lr.confusion_matrix[\"adversary_aggregations\"])"
   ]
  },
  {
   "attachments": {},
   "cell_type": "markdown",
   "metadata": {
    "slideshow": {
     "slide_type": "subslide"
    }
   },
   "source": [
    "### Hyperparameter Tuning"
   ]
  },
  {
   "attachments": {},
   "cell_type": "markdown",
   "metadata": {
    "slideshow": {
     "slide_type": "fragment"
    }
   },
   "source": [
    "<span style=\"color:red\"><b>[insert plots]</b></span>"
   ]
  },
  {
   "attachments": {},
   "cell_type": "markdown",
   "metadata": {
    "slideshow": {
     "slide_type": "slide"
    }
   },
   "source": [
    "## Random Forest\n",
    "### Default Parameters"
   ]
  },
  {
   "attachments": {},
   "cell_type": "markdown",
   "metadata": {
    "slideshow": {
     "slide_type": "fragment"
    }
   },
   "source": [
    "- **Maximum Depth**: None\n",
    "- **Maximum Features**: 5000\n",
    "- **Number of trees**: 100\n",
    "- **Test Size**: 0.20"
   ]
  },
  {
   "attachments": {},
   "cell_type": "markdown",
   "metadata": {
    "slideshow": {
     "slide_type": "subslide"
    }
   },
   "source": [
    "### Accuracies and F1 Score"
   ]
  },
  {
   "cell_type": "code",
   "execution_count": 151,
   "metadata": {
    "slideshow": {
     "slide_type": "fragment"
    }
   },
   "outputs": [
    {
     "data": {
      "text/html": [
       "<div>\n",
       "<style scoped>\n",
       "    .dataframe tbody tr th:only-of-type {\n",
       "        vertical-align: middle;\n",
       "    }\n",
       "\n",
       "    .dataframe tbody tr th {\n",
       "        vertical-align: top;\n",
       "    }\n",
       "\n",
       "    .dataframe thead th {\n",
       "        text-align: right;\n",
       "    }\n",
       "</style>\n",
       "<table border=\"1\" class=\"dataframe\">\n",
       "  <thead>\n",
       "    <tr style=\"text-align: right;\">\n",
       "      <th></th>\n",
       "      <th>dataset</th>\n",
       "      <th>accuracy</th>\n",
       "      <th>f1_score</th>\n",
       "    </tr>\n",
       "  </thead>\n",
       "  <tbody>\n",
       "    <tr>\n",
       "      <th>0</th>\n",
       "      <td>case_aggregations</td>\n",
       "      <td>0.621622</td>\n",
       "      <td>0.766667</td>\n",
       "    </tr>\n",
       "    <tr>\n",
       "      <th>1</th>\n",
       "      <td>judge_aggregations</td>\n",
       "      <td>0.643836</td>\n",
       "      <td>0.783333</td>\n",
       "    </tr>\n",
       "    <tr>\n",
       "      <th>2</th>\n",
       "      <td>advocate_aggregations</td>\n",
       "      <td>0.824324</td>\n",
       "      <td>0.876190</td>\n",
       "    </tr>\n",
       "    <tr>\n",
       "      <th>3</th>\n",
       "      <td>adversary_aggregations</td>\n",
       "      <td>0.810811</td>\n",
       "      <td>0.860000</td>\n",
       "    </tr>\n",
       "  </tbody>\n",
       "</table>\n",
       "</div>"
      ],
      "text/plain": [
       "                  dataset  accuracy  f1_score\n",
       "0       case_aggregations  0.621622  0.766667\n",
       "1      judge_aggregations  0.643836  0.783333\n",
       "2   advocate_aggregations  0.824324  0.876190\n",
       "3  adversary_aggregations  0.810811  0.860000"
      ]
     },
     "execution_count": 151,
     "metadata": {},
     "output_type": "execute_result"
    }
   ],
   "source": [
    "acc = dict_to_df([\"dataset\", \"accuracy\", \"f1_score\"], rf.accuracies, rf.f1)\n",
    "acc"
   ]
  },
  {
   "cell_type": "code",
   "execution_count": 152,
   "metadata": {
    "slideshow": {
     "slide_type": "subslide"
    }
   },
   "outputs": [
    {
     "data": {
      "image/png": "[encoded data removed]",
      "text/plain": [
       "<Figure size 1200x800 with 1 Axes>"
      ]
     },
     "metadata": {},
     "output_type": "display_data"
    }
   ],
   "source": [
    "disp_accuracy(acc, labs=acc[\"dataset\"])"
   ]
  },
  {
   "attachments": {},
   "cell_type": "markdown",
   "metadata": {
    "slideshow": {
     "slide_type": "subslide"
    }
   },
   "source": [
    "### Confusion Matrices\n",
    "#### Linear Regression Model - All Utterances"
   ]
  },
  {
   "cell_type": "code",
   "execution_count": 153,
   "metadata": {
    "slideshow": {
     "slide_type": "fragment"
    }
   },
   "outputs": [
    {
     "data": {
      "image/png": "[encoded data removed]",
      "text/plain": [
       "<Figure size 640x480 with 2 Axes>"
      ]
     },
     "metadata": {},
     "output_type": "display_data"
    }
   ],
   "source": [
    "disp_conf_matrix(rf.confusion_matrix[\"case_aggregations\"])"
   ]
  },
  {
   "attachments": {},
   "cell_type": "markdown",
   "metadata": {
    "slideshow": {
     "slide_type": "subslide"
    }
   },
   "source": [
    "#### Linear Regression Model - Judge Utterances"
   ]
  },
  {
   "cell_type": "code",
   "execution_count": 154,
   "metadata": {
    "slideshow": {
     "slide_type": "fragment"
    }
   },
   "outputs": [
    {
     "data": {
      "image/png": "[encoded data removed]",
      "text/plain": [
       "<Figure size 640x480 with 2 Axes>"
      ]
     },
     "metadata": {},
     "output_type": "display_data"
    }
   ],
   "source": [
    "disp_conf_matrix(rf.confusion_matrix[\"judge_aggregations\"])"
   ]
  },
  {
   "attachments": {},
   "cell_type": "markdown",
   "metadata": {
    "slideshow": {
     "slide_type": "subslide"
    }
   },
   "source": [
    "#### Linear Regression Model - Advocate Utterances"
   ]
  },
  {
   "cell_type": "code",
   "execution_count": 155,
   "metadata": {
    "slideshow": {
     "slide_type": "fragment"
    }
   },
   "outputs": [
    {
     "data": {
      "image/png": "[encoded data removed]",
      "text/plain": [
       "<Figure size 640x480 with 2 Axes>"
      ]
     },
     "metadata": {},
     "output_type": "display_data"
    }
   ],
   "source": [
    "disp_conf_matrix(rf.confusion_matrix[\"advocate_aggregations\"])"
   ]
  },
  {
   "attachments": {},
   "cell_type": "markdown",
   "metadata": {
    "slideshow": {
     "slide_type": "subslide"
    }
   },
   "source": [
    "#### Linear Regression Model - Adversary Utterances"
   ]
  },
  {
   "cell_type": "code",
   "execution_count": 156,
   "metadata": {
    "slideshow": {
     "slide_type": "fragment"
    }
   },
   "outputs": [
    {
     "data": {
      "image/png": "[encoded data removed]",
      "text/plain": [
       "<Figure size 640x480 with 2 Axes>"
      ]
     },
     "metadata": {},
     "output_type": "display_data"
    }
   ],
   "source": [
    "disp_conf_matrix(rf.confusion_matrix[\"adversary_aggregations\"])"
   ]
  },
  {
   "attachments": {},
   "cell_type": "markdown",
   "metadata": {
    "slideshow": {
     "slide_type": "subslide"
    }
   },
   "source": [
    "### Hyperparameter Tuning"
   ]
  },
  {
   "attachments": {},
   "cell_type": "markdown",
   "metadata": {},
   "source": [
    "<span style=\"color:red\"><b>[insert plots]</b></span>"
   ]
  },
  {
   "attachments": {},
   "cell_type": "markdown",
   "metadata": {
    "slideshow": {
     "slide_type": "slide"
    }
   },
   "source": [
    "## Gradient Boosted Tree - cannot do right now\n",
    "### Default Parameters"
   ]
  },
  {
   "attachments": {},
   "cell_type": "markdown",
   "metadata": {
    "slideshow": {
     "slide_type": "fragment"
    }
   },
   "source": [
    "- **Maximum number of features**: 5000\n",
    "- **Test size**: 0.20\n",
    "- **Maximum depth**: 7\n",
    "- **Number of estimators**: 100\n",
    "- **Learning rate**: 0.3\n",
    "- **Subsample**: 1"
   ]
  },
  {
   "attachments": {},
   "cell_type": "markdown",
   "metadata": {
    "slideshow": {
     "slide_type": "subslide"
    }
   },
   "source": [
    "### Accuracies and F1 Score"
   ]
  },
  {
   "cell_type": "code",
   "execution_count": null,
   "metadata": {
    "slideshow": {
     "slide_type": "fragment"
    }
   },
   "outputs": [],
   "source": [
    "acc = dict_to_df([\"dataset\", \"accuracy\", \"f1_score\"], xg.accuracies, xg.f1)\n",
    "acc"
   ]
  },
  {
   "cell_type": "code",
   "execution_count": null,
   "metadata": {
    "slideshow": {
     "slide_type": "subslide"
    }
   },
   "outputs": [],
   "source": [
    "disp_accuracy(acc)"
   ]
  },
  {
   "attachments": {},
   "cell_type": "markdown",
   "metadata": {
    "slideshow": {
     "slide_type": "subslide"
    }
   },
   "source": [
    "### Confusion Matrices\n",
    "#### Linear Regression Model - All Utterances"
   ]
  },
  {
   "cell_type": "code",
   "execution_count": null,
   "metadata": {
    "slideshow": {
     "slide_type": "fragment"
    }
   },
   "outputs": [],
   "source": [
    "disp_conf_matrix(xg.confusion_matrix[\"case_aggregations\"])"
   ]
  },
  {
   "attachments": {},
   "cell_type": "markdown",
   "metadata": {
    "slideshow": {
     "slide_type": "subslide"
    }
   },
   "source": [
    "#### Linear Regression Model - Judge Utterances"
   ]
  },
  {
   "cell_type": "code",
   "execution_count": null,
   "metadata": {
    "slideshow": {
     "slide_type": "fragment"
    }
   },
   "outputs": [],
   "source": [
    "disp_conf_matrix(xg.confusion_matrix[\"judge_aggregations\"])"
   ]
  },
  {
   "attachments": {},
   "cell_type": "markdown",
   "metadata": {
    "slideshow": {
     "slide_type": "subslide"
    }
   },
   "source": [
    "#### Linear Regression Model - Advocate Utterances"
   ]
  },
  {
   "cell_type": "code",
   "execution_count": null,
   "metadata": {
    "slideshow": {
     "slide_type": "fragment"
    }
   },
   "outputs": [],
   "source": [
    "disp_conf_matrix(xg.confusion_matrix[\"advocate_aggregations\"])"
   ]
  },
  {
   "attachments": {},
   "cell_type": "markdown",
   "metadata": {
    "slideshow": {
     "slide_type": "subslide"
    }
   },
   "source": [
    "#### Linear Regression Model - Adversary Utterances"
   ]
  },
  {
   "cell_type": "code",
   "execution_count": null,
   "metadata": {
    "slideshow": {
     "slide_type": "fragment"
    }
   },
   "outputs": [],
   "source": [
    "disp_conf_matrix(xg.confusion_matrix[\"adversary_aggregations\"])"
   ]
  },
  {
   "attachments": {},
   "cell_type": "markdown",
   "metadata": {
    "slideshow": {
     "slide_type": "subslide"
    }
   },
   "source": [
    "### Hyperparameter Tuning"
   ]
  },
  {
   "attachments": {},
   "cell_type": "markdown",
   "metadata": {},
   "source": [
    "<span style=\"color:red\"><b>[insert plots]</b></span>"
   ]
  },
  {
   "attachments": {},
   "cell_type": "markdown",
   "metadata": {
    "slideshow": {
     "slide_type": "slide"
    }
   },
   "source": [
    "## Model Comparisons\n",
    "Using the advocate utterances dataframe as a case study"
   ]
  },
  {
   "cell_type": "code",
   "execution_count": 157,
   "metadata": {
    "slideshow": {
     "slide_type": "fragment"
    }
   },
   "outputs": [
    {
     "data": {
      "text/html": [
       "<div>\n",
       "<style scoped>\n",
       "    .dataframe tbody tr th:only-of-type {\n",
       "        vertical-align: middle;\n",
       "    }\n",
       "\n",
       "    .dataframe tbody tr th {\n",
       "        vertical-align: top;\n",
       "    }\n",
       "\n",
       "    .dataframe thead th {\n",
       "        text-align: right;\n",
       "    }\n",
       "</style>\n",
       "<table border=\"1\" class=\"dataframe\">\n",
       "  <thead>\n",
       "    <tr style=\"text-align: right;\">\n",
       "      <th></th>\n",
       "      <th>model</th>\n",
       "      <th>accuracy</th>\n",
       "      <th>f1_score</th>\n",
       "    </tr>\n",
       "  </thead>\n",
       "  <tbody>\n",
       "    <tr>\n",
       "      <th>0</th>\n",
       "      <td>linear regression</td>\n",
       "      <td>0.783784</td>\n",
       "      <td>0.843137</td>\n",
       "    </tr>\n",
       "    <tr>\n",
       "      <th>1</th>\n",
       "      <td>random forest</td>\n",
       "      <td>0.810811</td>\n",
       "      <td>0.860000</td>\n",
       "    </tr>\n",
       "  </tbody>\n",
       "</table>\n",
       "</div>"
      ],
      "text/plain": [
       "               model  accuracy  f1_score\n",
       "0  linear regression  0.783784  0.843137\n",
       "1      random forest  0.810811  0.860000"
      ]
     },
     "execution_count": 157,
     "metadata": {},
     "output_type": "execute_result"
    }
   ],
   "source": [
    "model_comp"
   ]
  },
  {
   "cell_type": "code",
   "execution_count": 158,
   "metadata": {
    "slideshow": {
     "slide_type": "subslide"
    }
   },
   "outputs": [
    {
     "data": {
      "image/png": "[encoded data removed]",
      "text/plain": [
       "<Figure size 1200x800 with 1 Axes>"
      ]
     },
     "metadata": {},
     "output_type": "display_data"
    }
   ],
   "source": [
    "disp_accuracy(model_comp, labs=model_comp[\"model\"], x_label=\"Model\")"
   ]
  },
  {
   "attachments": {},
   "cell_type": "markdown",
   "metadata": {
    "slideshow": {
     "slide_type": "slide"
    }
   },
   "source": [
    "## Final Thoughts and Applications"
   ]
  },
  {
   "attachments": {},
   "cell_type": "markdown",
   "metadata": {
    "slideshow": {
     "slide_type": "fragment"
    }
   },
   "source": [
    "<span style=\"color:red\"><b>[insert]</b></span>"
   ]
  },
  {
   "attachments": {},
   "cell_type": "markdown",
   "metadata": {
    "slideshow": {
     "slide_type": "slide"
    }
   },
   "source": [
    "## Thank you!\n",
    "### Any Questions?"
   ]
  }
 ],
 "metadata": {
  "kernelspec": {
   "display_name": "supreme-court-predictions-sGlGetDh-py3.11",
   "language": "python",
   "name": "python3"
  },
  "language_info": {
   "codemirror_mode": {
    "name": "ipython",
    "version": 3
   },
   "file_extension": ".py",
   "mimetype": "text/x-python",
   "name": "python",
   "nbconvert_exporter": "python",
   "pygments_lexer": "ipython3",
   "version": "3.11.1"
  },
  "orig_nbformat": 4
 },
 "nbformat": 4,
 "nbformat_minor": 2
}
