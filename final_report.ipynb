{
 "cells": [
  {
   "attachments": {},
   "cell_type": "markdown",
   "metadata": {},
   "source": [
    "## Exploratory Analysis - Tests"
   ]
  },
  {
   "attachments": {},
   "cell_type": "markdown",
   "metadata": {},
   "source": [
    "### Global Imports"
   ]
  },
  {
   "cell_type": "code",
   "execution_count": 1,
   "metadata": {},
   "outputs": [],
   "source": [
    "### Imports\n",
    "import os\n",
    "import json\n",
    "import pandas as pd"
   ]
  },
  {
   "cell_type": "code",
   "execution_count": 2,
   "metadata": {},
   "outputs": [],
   "source": [
    "# pip install convokit"
   ]
  },
  {
   "attachments": {},
   "cell_type": "markdown",
   "metadata": {},
   "source": [
    "### Parameters and Global Variables"
   ]
  },
  {
   "cell_type": "code",
   "execution_count": 3,
   "metadata": {},
   "outputs": [
    {
     "data": {
      "text/plain": [
       "'c:/Users/fdmol/Desktop/MSCAPP/CAPP30254/supreme-court-ml-predictions/supreme_court_predictions/statistics'"
      ]
     },
     "execution_count": 3,
     "metadata": {},
     "output_type": "execute_result"
    }
   ],
   "source": [
    "# Get current working directory\n",
    "cwd = os.getcwd()\n",
    "LOCAL_PATH = cwd.replace(\"\\\\\", \"/\")\n",
    "LOCAL_PATH = LOCAL_PATH.replace(\"data/statistics\", \"data/convokit\")\n",
    "LOCAL_PATH"
   ]
  },
  {
   "attachments": {},
   "cell_type": "markdown",
   "metadata": {},
   "source": [
    "### Functions"
   ]
  },
  {
   "cell_type": "code",
   "execution_count": 4,
   "metadata": {},
   "outputs": [],
   "source": [
    "\"\"\"\n",
    "This file serves as the client for convokit.\n",
    "\"\"\"\n",
    "from convokit import Corpus, download\n",
    "\n",
    "\n",
    "def get_data():\n",
    "    \"\"\"\n",
    "    Loads and outputs the Supreme Court Corpus data\n",
    "    \"\"\"\n",
    "\n",
    "    print(\"Loading Supreme Court Corpus Data...\")\n",
    "    corpus = Corpus(filename=download(\"supreme-corpus\"))\n",
    "    corpus.dump(\"supreme_corpus\", base_path=LOCAL_PATH)"
   ]
  },
  {
   "cell_type": "code",
   "execution_count": 5,
   "metadata": {},
   "outputs": [],
   "source": [
    "### Begin reading data\n",
    "def load_data(file_name):\n",
    "    \"\"\"\n",
    "    Opens the data and returns it as a dictionary\n",
    "\n",
    "    :param file_name: The name of the file to open\n",
    "    :return: The data as a dictionary\n",
    "    \"\"\"\n",
    "\n",
    "    path = LOCAL_PATH + f\"/supreme_corpus/{file_name}\"\n",
    "    if \"jsonl\" in file_name:\n",
    "        data = []\n",
    "        with open(path) as json_file:\n",
    "            json_list = list(json_file)\n",
    "\n",
    "        for json_str in json_list:\n",
    "            clean_json = json.loads(json_str)\n",
    "            data.append(clean_json)\n",
    "    else:\n",
    "        with open(path) as file:\n",
    "            data = json.load(file)\n",
    "    return data"
   ]
  },
  {
   "cell_type": "code",
   "execution_count": 6,
   "metadata": {},
   "outputs": [],
   "source": [
    "def speakers_to_df(speakers_dict):\n",
    "    \"\"\"\n",
    "    Converts the speakers dictionary to a pandas dataframe\n",
    "\n",
    "    :param speakers_dict: The speakers dictionary\n",
    "    :return: The speakers dataframe\n",
    "    \"\"\"\n",
    "\n",
    "    dict_list = []\n",
    "    for speaker_key in list(speakers_dict.keys()):\n",
    "        speaker_data = speakers_dict[speaker_key][\"meta\"]\n",
    "        speaker_data[\"speaker_key\"] = speaker_key\n",
    "        dict_list.append(speaker_data)\n",
    "\n",
    "    df = pd.DataFrame(dict_list)\n",
    "    df.rename(\n",
    "        columns={\n",
    "            \"name\": \"speaker_name\",\n",
    "            \"type\": \"speaker_type\",\n",
    "            \"role\": \"speaker_role\",\n",
    "        },\n",
    "        inplace=True,\n",
    "    )\n",
    "    return df"
   ]
  },
  {
   "cell_type": "code",
   "execution_count": 7,
   "metadata": {},
   "outputs": [],
   "source": [
    "def get_conversation_dfs(conversations_dict):\n",
    "    \"\"\"\n",
    "    Converts the conversations dictionary to several\n",
    "    pandas dataframes\n",
    "\n",
    "    :param conversations_dict: The conversations dictionary\n",
    "    :return: The conversations dataframe, advocates dataframe,\n",
    "            and voters dataframe\n",
    "    \"\"\"\n",
    "    metadata_list = []\n",
    "    advocates_list = []\n",
    "    voters_list = []\n",
    "\n",
    "    for conversation_id in list(conversations_dict.keys()):\n",
    "        clean_dict = {}\n",
    "        conversation_data = conversations_dict[conversation_id][\"meta\"]\n",
    "        clean_dict[\"id\"] = conversation_id\n",
    "        clean_dict[\"case_id\"] = conversation_data[\"case_id\"]\n",
    "        clean_dict[\"winning_side\"] = conversation_data[\"win_side\"]\n",
    "\n",
    "        advocates = conversation_data[\"advocates\"]\n",
    "        voters = conversation_data[\"votes_side\"]\n",
    "\n",
    "        for advocate in advocates:\n",
    "            advocate_dict = {}\n",
    "            advocate_dict[\"id\"] = conversation_id\n",
    "            advocate_dict[\"case_id\"] = conversation_data[\"case_id\"]\n",
    "            advocate_dict[\"advocate\"] = advocate\n",
    "            advocate_dict[\"side\"] = advocates[advocate][\"side\"]\n",
    "            advocate_dict[\"role\"] = advocates[advocate][\"role\"]\n",
    "            advocates_list.append(advocate_dict)\n",
    "\n",
    "        if voters:\n",
    "            for voter, vote in voters.items():\n",
    "                vote_dict = {}\n",
    "                vote_dict[\"id\"] = conversation_id\n",
    "                vote_dict[\"case_id\"] = conversation_data[\"case_id\"]\n",
    "                vote_dict[\"voter\"] = voter\n",
    "                vote_dict[\"vote\"] = vote\n",
    "                voters_list.append(vote_dict)\n",
    "        else:\n",
    "            vote_dict = {}\n",
    "            vote_dict[\"id\"] = conversation_id\n",
    "            vote_dict[\"case_id\"] = conversation_data[\"case_id\"]\n",
    "            voters_list.append(vote_dict)\n",
    "\n",
    "        metadata_list.append(clean_dict)\n",
    "\n",
    "    conversation_metadata_df = pd.DataFrame(metadata_list)\n",
    "    advocates_df = pd.DataFrame(advocates_list)\n",
    "    voters_df = pd.DataFrame(voters_list)\n",
    "\n",
    "    return conversation_metadata_df, advocates_df, voters_df"
   ]
  },
  {
   "cell_type": "code",
   "execution_count": 8,
   "metadata": {},
   "outputs": [],
   "source": [
    "def clean_utterances(utterances_list):\n",
    "    \"\"\"\n",
    "    Cleans the utterances list\n",
    "\n",
    "    :param utterances_list: The utterances list\n",
    "    :return: The cleaned utterances list\n",
    "    \"\"\"\n",
    "\n",
    "    clean_utterances_list = []\n",
    "    for utterance in utterances_list:\n",
    "        clean_dict = {}\n",
    "        clean_dict[\"case_id\"] = utterance[\"meta\"][\"case_id\"]\n",
    "        clean_dict[\"speaker\"] = utterance[\"speaker\"]\n",
    "        clean_dict[\"speaker_type\"] = utterance[\"meta\"][\"speaker_type\"]\n",
    "        clean_dict[\"conversation_id\"] = utterance[\"conversation_id\"]\n",
    "        clean_dict[\"id\"] = utterance[\"id\"]\n",
    "        utterance_text = utterance[\"text\"]\n",
    "        clean_utterance = utterance_text.replace(\"\\n\", \" \").strip()\n",
    "        clean_dict[\"text\"] = clean_utterance\n",
    "\n",
    "        clean_utterances_list.append(clean_dict)\n",
    "\n",
    "    utterances_df = pd.DataFrame(clean_utterances_list)\n",
    "\n",
    "    return clean_utterances_list, utterances_df"
   ]
  },
  {
   "attachments": {},
   "cell_type": "markdown",
   "metadata": {},
   "source": [
    "### Pipeline and Tests"
   ]
  },
  {
   "cell_type": "code",
   "execution_count": 37,
   "metadata": {},
   "outputs": [
    {
     "name": "stdout",
     "output_type": "stream",
     "text": [
      "Loading Supreme Court Corpus Data...\n",
      "Dataset already exists at C:\\Users\\fdmol\\.convokit\\downloads\\supreme-corpus\n"
     ]
    }
   ],
   "source": [
    "get_data()"
   ]
  },
  {
   "attachments": {},
   "cell_type": "markdown",
   "metadata": {},
   "source": [
    "#### Clean speakers data"
   ]
  },
  {
   "cell_type": "code",
   "execution_count": 9,
   "metadata": {},
   "outputs": [
    {
     "data": {
      "text/html": [
       "<div>\n",
       "<style scoped>\n",
       "    .dataframe tbody tr th:only-of-type {\n",
       "        vertical-align: middle;\n",
       "    }\n",
       "\n",
       "    .dataframe tbody tr th {\n",
       "        vertical-align: top;\n",
       "    }\n",
       "\n",
       "    .dataframe thead th {\n",
       "        text-align: right;\n",
       "    }\n",
       "</style>\n",
       "<table border=\"1\" class=\"dataframe\">\n",
       "  <thead>\n",
       "    <tr style=\"text-align: right;\">\n",
       "      <th></th>\n",
       "      <th>speaker_name</th>\n",
       "      <th>speaker_type</th>\n",
       "      <th>speaker_role</th>\n",
       "      <th>speaker_key</th>\n",
       "    </tr>\n",
       "  </thead>\n",
       "  <tbody>\n",
       "    <tr>\n",
       "      <th>0</th>\n",
       "      <td>Earl Warren</td>\n",
       "      <td>J</td>\n",
       "      <td>justice</td>\n",
       "      <td>j__earl_warren</td>\n",
       "    </tr>\n",
       "    <tr>\n",
       "      <th>1</th>\n",
       "      <td>Harry F. Murphy</td>\n",
       "      <td>A</td>\n",
       "      <td>NaN</td>\n",
       "      <td>harry_f_murphy</td>\n",
       "    </tr>\n",
       "    <tr>\n",
       "      <th>2</th>\n",
       "      <td>William O. Douglas</td>\n",
       "      <td>J</td>\n",
       "      <td>justice</td>\n",
       "      <td>j__william_o_douglas</td>\n",
       "    </tr>\n",
       "    <tr>\n",
       "      <th>3</th>\n",
       "      <td>&lt;INAUDIBLE&gt;</td>\n",
       "      <td>U</td>\n",
       "      <td>inaudible</td>\n",
       "      <td>&lt;INAUDIBLE&gt;</td>\n",
       "    </tr>\n",
       "    <tr>\n",
       "      <th>4</th>\n",
       "      <td>Felix Frankfurter</td>\n",
       "      <td>J</td>\n",
       "      <td>justice</td>\n",
       "      <td>j__felix_frankfurter</td>\n",
       "    </tr>\n",
       "  </tbody>\n",
       "</table>\n",
       "</div>"
      ],
      "text/plain": [
       "         speaker_name speaker_type speaker_role           speaker_key\n",
       "0         Earl Warren            J      justice        j__earl_warren\n",
       "1     Harry F. Murphy            A          NaN        harry_f_murphy\n",
       "2  William O. Douglas            J      justice  j__william_o_douglas\n",
       "3         <INAUDIBLE>            U    inaudible           <INAUDIBLE>\n",
       "4   Felix Frankfurter            J      justice  j__felix_frankfurter"
      ]
     },
     "execution_count": 9,
     "metadata": {},
     "output_type": "execute_result"
    }
   ],
   "source": [
    "speakers_dict = load_data(\"speakers.json\")\n",
    "speakers_df = speakers_to_df(speakers_dict)\n",
    "speakers_df.head()"
   ]
  },
  {
   "attachments": {},
   "cell_type": "markdown",
   "metadata": {},
   "source": [
    "#### Clean conversations data"
   ]
  },
  {
   "cell_type": "code",
   "execution_count": 10,
   "metadata": {},
   "outputs": [],
   "source": [
    "# Conversations metadata\n",
    "conversations_dict = load_data(\"conversations.json\")\n",
    "conversations_df, advocates_df, voters_df = get_conversation_dfs(\n",
    "    conversations_dict\n",
    ")"
   ]
  },
  {
   "cell_type": "code",
   "execution_count": 11,
   "metadata": {},
   "outputs": [
    {
     "data": {
      "text/html": [
       "<div>\n",
       "<style scoped>\n",
       "    .dataframe tbody tr th:only-of-type {\n",
       "        vertical-align: middle;\n",
       "    }\n",
       "\n",
       "    .dataframe tbody tr th {\n",
       "        vertical-align: top;\n",
       "    }\n",
       "\n",
       "    .dataframe thead th {\n",
       "        text-align: right;\n",
       "    }\n",
       "</style>\n",
       "<table border=\"1\" class=\"dataframe\">\n",
       "  <thead>\n",
       "    <tr style=\"text-align: right;\">\n",
       "      <th></th>\n",
       "      <th>id</th>\n",
       "      <th>case_id</th>\n",
       "      <th>voter</th>\n",
       "      <th>vote</th>\n",
       "    </tr>\n",
       "  </thead>\n",
       "  <tbody>\n",
       "    <tr>\n",
       "      <th>0</th>\n",
       "      <td>13127</td>\n",
       "      <td>1955_71</td>\n",
       "      <td>j__john_m_harlan2</td>\n",
       "      <td>0.0</td>\n",
       "    </tr>\n",
       "    <tr>\n",
       "      <th>1</th>\n",
       "      <td>13127</td>\n",
       "      <td>1955_71</td>\n",
       "      <td>j__hugo_l_black</td>\n",
       "      <td>0.0</td>\n",
       "    </tr>\n",
       "    <tr>\n",
       "      <th>2</th>\n",
       "      <td>13127</td>\n",
       "      <td>1955_71</td>\n",
       "      <td>j__william_o_douglas</td>\n",
       "      <td>0.0</td>\n",
       "    </tr>\n",
       "    <tr>\n",
       "      <th>3</th>\n",
       "      <td>13127</td>\n",
       "      <td>1955_71</td>\n",
       "      <td>j__earl_warren</td>\n",
       "      <td>0.0</td>\n",
       "    </tr>\n",
       "    <tr>\n",
       "      <th>4</th>\n",
       "      <td>13127</td>\n",
       "      <td>1955_71</td>\n",
       "      <td>j__tom_c_clark</td>\n",
       "      <td>0.0</td>\n",
       "    </tr>\n",
       "  </tbody>\n",
       "</table>\n",
       "</div>"
      ],
      "text/plain": [
       "      id  case_id                 voter  vote\n",
       "0  13127  1955_71     j__john_m_harlan2   0.0\n",
       "1  13127  1955_71       j__hugo_l_black   0.0\n",
       "2  13127  1955_71  j__william_o_douglas   0.0\n",
       "3  13127  1955_71        j__earl_warren   0.0\n",
       "4  13127  1955_71        j__tom_c_clark   0.0"
      ]
     },
     "execution_count": 11,
     "metadata": {},
     "output_type": "execute_result"
    }
   ],
   "source": [
    "voters_df.head()"
   ]
  },
  {
   "cell_type": "code",
   "execution_count": 12,
   "metadata": {},
   "outputs": [
    {
     "data": {
      "text/html": [
       "<div>\n",
       "<style scoped>\n",
       "    .dataframe tbody tr th:only-of-type {\n",
       "        vertical-align: middle;\n",
       "    }\n",
       "\n",
       "    .dataframe tbody tr th {\n",
       "        vertical-align: top;\n",
       "    }\n",
       "\n",
       "    .dataframe thead th {\n",
       "        text-align: right;\n",
       "    }\n",
       "</style>\n",
       "<table border=\"1\" class=\"dataframe\">\n",
       "  <thead>\n",
       "    <tr style=\"text-align: right;\">\n",
       "      <th></th>\n",
       "      <th>vote</th>\n",
       "    </tr>\n",
       "  </thead>\n",
       "  <tbody>\n",
       "    <tr>\n",
       "      <th>count</th>\n",
       "      <td>68266.000000</td>\n",
       "    </tr>\n",
       "    <tr>\n",
       "      <th>mean</th>\n",
       "      <td>0.577125</td>\n",
       "    </tr>\n",
       "    <tr>\n",
       "      <th>std</th>\n",
       "      <td>0.519233</td>\n",
       "    </tr>\n",
       "    <tr>\n",
       "      <th>min</th>\n",
       "      <td>-1.000000</td>\n",
       "    </tr>\n",
       "    <tr>\n",
       "      <th>25%</th>\n",
       "      <td>0.000000</td>\n",
       "    </tr>\n",
       "    <tr>\n",
       "      <th>50%</th>\n",
       "      <td>1.000000</td>\n",
       "    </tr>\n",
       "    <tr>\n",
       "      <th>75%</th>\n",
       "      <td>1.000000</td>\n",
       "    </tr>\n",
       "    <tr>\n",
       "      <th>max</th>\n",
       "      <td>1.000000</td>\n",
       "    </tr>\n",
       "  </tbody>\n",
       "</table>\n",
       "</div>"
      ],
      "text/plain": [
       "               vote\n",
       "count  68266.000000\n",
       "mean       0.577125\n",
       "std        0.519233\n",
       "min       -1.000000\n",
       "25%        0.000000\n",
       "50%        1.000000\n",
       "75%        1.000000\n",
       "max        1.000000"
      ]
     },
     "execution_count": 12,
     "metadata": {},
     "output_type": "execute_result"
    }
   ],
   "source": [
    "voters_df.describe()"
   ]
  },
  {
   "attachments": {},
   "cell_type": "markdown",
   "metadata": {},
   "source": [
    "#### Explore utterances"
   ]
  },
  {
   "cell_type": "code",
   "execution_count": 13,
   "metadata": {},
   "outputs": [],
   "source": [
    "utterances_list = load_data(\"utterances.jsonl\")\n",
    "clean_utterances_list, utterances_df = clean_utterances(utterances_list)"
   ]
  },
  {
   "cell_type": "code",
   "execution_count": 20,
   "metadata": {},
   "outputs": [
    {
     "data": {
      "text/html": [
       "<div>\n",
       "<style scoped>\n",
       "    .dataframe tbody tr th:only-of-type {\n",
       "        vertical-align: middle;\n",
       "    }\n",
       "\n",
       "    .dataframe tbody tr th {\n",
       "        vertical-align: top;\n",
       "    }\n",
       "\n",
       "    .dataframe thead th {\n",
       "        text-align: right;\n",
       "    }\n",
       "</style>\n",
       "<table border=\"1\" class=\"dataframe\">\n",
       "  <thead>\n",
       "    <tr style=\"text-align: right;\">\n",
       "      <th></th>\n",
       "      <th>case_id</th>\n",
       "      <th>speaker</th>\n",
       "      <th>speaker_type</th>\n",
       "      <th>conversation_id</th>\n",
       "      <th>id</th>\n",
       "      <th>text</th>\n",
       "    </tr>\n",
       "  </thead>\n",
       "  <tbody>\n",
       "    <tr>\n",
       "      <th>0</th>\n",
       "      <td>1955_71</td>\n",
       "      <td>j__earl_warren</td>\n",
       "      <td>J</td>\n",
       "      <td>13127</td>\n",
       "      <td>13127__0_000</td>\n",
       "      <td>Number 71, Lonnie Affronti versus United State...</td>\n",
       "    </tr>\n",
       "    <tr>\n",
       "      <th>1</th>\n",
       "      <td>1955_71</td>\n",
       "      <td>harry_f_murphy</td>\n",
       "      <td>A</td>\n",
       "      <td>13127</td>\n",
       "      <td>13127__0_001</td>\n",
       "      <td>May it please the Court. We are here by writ o...</td>\n",
       "    </tr>\n",
       "    <tr>\n",
       "      <th>2</th>\n",
       "      <td>1955_71</td>\n",
       "      <td>j__william_o_douglas</td>\n",
       "      <td>J</td>\n",
       "      <td>13127</td>\n",
       "      <td>13127__0_002</td>\n",
       "      <td>Consecutive sentences.</td>\n",
       "    </tr>\n",
       "    <tr>\n",
       "      <th>3</th>\n",
       "      <td>1955_71</td>\n",
       "      <td>harry_f_murphy</td>\n",
       "      <td>A</td>\n",
       "      <td>13127</td>\n",
       "      <td>13127__0_003</td>\n",
       "      <td>Consecutive sentences. In this case, the defen...</td>\n",
       "    </tr>\n",
       "    <tr>\n",
       "      <th>4</th>\n",
       "      <td>1955_71</td>\n",
       "      <td>&lt;INAUDIBLE&gt;</td>\n",
       "      <td>None</td>\n",
       "      <td>13127</td>\n",
       "      <td>13127__0_004</td>\n",
       "      <td>Was the aggregate prison sentence was 20 or 25...</td>\n",
       "    </tr>\n",
       "  </tbody>\n",
       "</table>\n",
       "</div>"
      ],
      "text/plain": [
       "   case_id               speaker speaker_type conversation_id            id  \\\n",
       "0  1955_71        j__earl_warren            J           13127  13127__0_000   \n",
       "1  1955_71        harry_f_murphy            A           13127  13127__0_001   \n",
       "2  1955_71  j__william_o_douglas            J           13127  13127__0_002   \n",
       "3  1955_71        harry_f_murphy            A           13127  13127__0_003   \n",
       "4  1955_71           <INAUDIBLE>         None           13127  13127__0_004   \n",
       "\n",
       "                                                text  \n",
       "0  Number 71, Lonnie Affronti versus United State...  \n",
       "1  May it please the Court. We are here by writ o...  \n",
       "2                             Consecutive sentences.  \n",
       "3  Consecutive sentences. In this case, the defen...  \n",
       "4  Was the aggregate prison sentence was 20 or 25...  "
      ]
     },
     "execution_count": 20,
     "metadata": {},
     "output_type": "execute_result"
    }
   ],
   "source": [
    "# TODO: Cleaning pipeline must be more robust\n",
    "utterances_df.head()"
   ]
  },
  {
   "attachments": {},
   "cell_type": "markdown",
   "metadata": {},
   "source": [
    "### Testing Class :)"
   ]
  },
  {
   "cell_type": "code",
   "execution_count": 1,
   "metadata": {},
   "outputs": [],
   "source": [
    "from datacleaner import DataCleaner"
   ]
  },
  {
   "cell_type": "code",
   "execution_count": 2,
   "metadata": {},
   "outputs": [
    {
     "name": "stdout",
     "output_type": "stream",
     "text": [
      "Working in c:/Users/fdmol/Desktop/MSCAPP/CAPP30254/supreme-court-ml-predictions/supreme_court_predictions/data/convokit\n",
      "Data will be saved to c:/Users/fdmol/Desktop/MSCAPP/CAPP30254/supreme-court-ml-predictions/supreme_court_predictions/data/clean_convokit\n",
      "Corpus already downloaded\n"
     ]
    }
   ],
   "source": [
    "data_cleaner = DataCleaner(downloaded_corpus=True, save_data=True)"
   ]
  },
  {
   "cell_type": "code",
   "execution_count": 3,
   "metadata": {},
   "outputs": [
    {
     "name": "stdout",
     "output_type": "stream",
     "text": [
      "Parsing speakers...\n",
      "Parsing conversations metadata...\n",
      "Parsing utterances...\n",
      "Data saved to c:/Users/fdmol/Desktop/MSCAPP/CAPP30254/supreme-court-ml-predictions/supreme_court_predictions/data/clean_convokit\n"
     ]
    }
   ],
   "source": [
    "data_cleaner.parse_all_data()"
   ]
  }
 ],
 "metadata": {
  "kernelspec": {
   "display_name": "Python 3",
   "language": "python",
   "name": "python3"
  },
  "language_info": {
   "codemirror_mode": {
    "name": "ipython",
    "version": 3
   },
   "file_extension": ".py",
   "mimetype": "text/x-python",
   "name": "python",
   "nbconvert_exporter": "python",
   "pygments_lexer": "ipython3",
   "version": "3.9.2"
  },
  "orig_nbformat": 4
 },
 "nbformat": 4,
 "nbformat_minor": 2
}
